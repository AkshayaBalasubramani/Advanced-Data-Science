{
 "cells": [
  {
   "cell_type": "code",
   "execution_count": 2,
   "id": "fa01e3ee",
   "metadata": {},
   "outputs": [
    {
     "name": "stdout",
     "output_type": "stream",
     "text": [
      "Requirement already satisfied: beautifulsoup4 in c:\\users\\91821\\anaconda3\\lib\\site-packages (4.12.2)\n",
      "Requirement already satisfied: soupsieve>1.2 in c:\\users\\91821\\anaconda3\\lib\\site-packages (from beautifulsoup4) (2.4)\n",
      "Note: you may need to restart the kernel to use updated packages.\n"
     ]
    }
   ],
   "source": [
    "%pip install beautifulsoup4"
   ]
  },
  {
   "cell_type": "code",
   "execution_count": 1,
   "id": "1f36d37d",
   "metadata": {},
   "outputs": [],
   "source": [
    "from bs4 import BeautifulSoup"
   ]
  },
  {
   "cell_type": "code",
   "execution_count": 2,
   "id": "56118032",
   "metadata": {},
   "outputs": [],
   "source": [
    "fname=r\"C:\\Users\\91821\\Downloads\\iris_page.html\""
   ]
  },
  {
   "cell_type": "code",
   "execution_count": 3,
   "id": "651f726f",
   "metadata": {},
   "outputs": [
    {
     "data": {
      "text/plain": [
       "'C:\\\\Users\\\\91821\\\\Downloads\\\\iris_page.html'"
      ]
     },
     "execution_count": 3,
     "metadata": {},
     "output_type": "execute_result"
    }
   ],
   "source": [
    "fname"
   ]
  },
  {
   "cell_type": "code",
   "execution_count": 4,
   "id": "4fd135b7",
   "metadata": {},
   "outputs": [
    {
     "ename": "FileNotFoundError",
     "evalue": "[Errno 2] No such file or directory: 'C:\\\\Users\\\\91821\\\\Downloads\\\\iris_page.html'",
     "output_type": "error",
     "traceback": [
      "\u001b[1;31m---------------------------------------------------------------------------\u001b[0m",
      "\u001b[1;31mFileNotFoundError\u001b[0m                         Traceback (most recent call last)",
      "Cell \u001b[1;32mIn[4], line 1\u001b[0m\n\u001b[1;32m----> 1\u001b[0m iris_soup\u001b[38;5;241m=\u001b[39mBeautifulSoup(\u001b[38;5;28;43mopen\u001b[39;49m\u001b[43m(\u001b[49m\u001b[43mfname\u001b[49m\u001b[43m)\u001b[49m,\u001b[38;5;124m'\u001b[39m\u001b[38;5;124mlxml\u001b[39m\u001b[38;5;124m'\u001b[39m)\n",
      "File \u001b[1;32m~\\AppData\\Roaming\\Python\\Python311\\site-packages\\IPython\\core\\interactiveshell.py:324\u001b[0m, in \u001b[0;36m_modified_open\u001b[1;34m(file, *args, **kwargs)\u001b[0m\n\u001b[0;32m    317\u001b[0m \u001b[38;5;28;01mif\u001b[39;00m file \u001b[38;5;129;01min\u001b[39;00m {\u001b[38;5;241m0\u001b[39m, \u001b[38;5;241m1\u001b[39m, \u001b[38;5;241m2\u001b[39m}:\n\u001b[0;32m    318\u001b[0m     \u001b[38;5;28;01mraise\u001b[39;00m \u001b[38;5;167;01mValueError\u001b[39;00m(\n\u001b[0;32m    319\u001b[0m         \u001b[38;5;124mf\u001b[39m\u001b[38;5;124m\"\u001b[39m\u001b[38;5;124mIPython won\u001b[39m\u001b[38;5;124m'\u001b[39m\u001b[38;5;124mt let you open fd=\u001b[39m\u001b[38;5;132;01m{\u001b[39;00mfile\u001b[38;5;132;01m}\u001b[39;00m\u001b[38;5;124m by default \u001b[39m\u001b[38;5;124m\"\u001b[39m\n\u001b[0;32m    320\u001b[0m         \u001b[38;5;124m\"\u001b[39m\u001b[38;5;124mas it is likely to crash IPython. If you know what you are doing, \u001b[39m\u001b[38;5;124m\"\u001b[39m\n\u001b[0;32m    321\u001b[0m         \u001b[38;5;124m\"\u001b[39m\u001b[38;5;124myou can use builtins\u001b[39m\u001b[38;5;124m'\u001b[39m\u001b[38;5;124m open.\u001b[39m\u001b[38;5;124m\"\u001b[39m\n\u001b[0;32m    322\u001b[0m     )\n\u001b[1;32m--> 324\u001b[0m \u001b[38;5;28;01mreturn\u001b[39;00m \u001b[43mio_open\u001b[49m\u001b[43m(\u001b[49m\u001b[43mfile\u001b[49m\u001b[43m,\u001b[49m\u001b[43m \u001b[49m\u001b[38;5;241;43m*\u001b[39;49m\u001b[43margs\u001b[49m\u001b[43m,\u001b[49m\u001b[43m \u001b[49m\u001b[38;5;241;43m*\u001b[39;49m\u001b[38;5;241;43m*\u001b[39;49m\u001b[43mkwargs\u001b[49m\u001b[43m)\u001b[49m\n",
      "\u001b[1;31mFileNotFoundError\u001b[0m: [Errno 2] No such file or directory: 'C:\\\\Users\\\\91821\\\\Downloads\\\\iris_page.html'"
     ]
    }
   ],
   "source": [
    "iris_soup=BeautifulSoup(open(fname),'lxml')"
   ]
  },
  {
   "cell_type": "code",
   "execution_count": 5,
   "id": "54561260",
   "metadata": {},
   "outputs": [],
   "source": [
    "#above line as a html parser\n",
    "from urllib.request import urlopen"
   ]
  },
  {
   "cell_type": "code",
   "execution_count": 6,
   "id": "82b56cc0",
   "metadata": {},
   "outputs": [],
   "source": [
    "wp=\"https://en.wikipedia.org/wiki/Flower\""
   ]
  },
  {
   "cell_type": "code",
   "execution_count": 7,
   "id": "8fe5b4ab",
   "metadata": {},
   "outputs": [],
   "source": [
    "pageSource=urlopen(wp).read()"
   ]
  },
  {
   "cell_type": "code",
   "execution_count": 8,
   "id": "00ce3a99",
   "metadata": {},
   "outputs": [],
   "source": [
    "web=BeautifulSoup(pageSource,'lxml')"
   ]
  },
  {
   "cell_type": "code",
   "execution_count": 9,
   "id": "3ff88e1c",
   "metadata": {},
   "outputs": [
    {
     "data": {
      "text/plain": [
       "bs4.BeautifulSoup"
      ]
     },
     "execution_count": 9,
     "metadata": {},
     "output_type": "execute_result"
    }
   ],
   "source": [
    "type(iris_soup)"
   ]
  },
  {
   "cell_type": "code",
   "execution_count": 10,
   "id": "8160fa74",
   "metadata": {},
   "outputs": [
    {
     "name": "stdout",
     "output_type": "stream",
     "text": [
      "[document]\n"
     ]
    }
   ],
   "source": [
    "print(iris_soup.name)"
   ]
  },
  {
   "cell_type": "code",
   "execution_count": 11,
   "id": "0eb7421a",
   "metadata": {},
   "outputs": [
    {
     "name": "stdout",
     "output_type": "stream",
     "text": [
      "<title>Iris flower dataset</title>\n"
     ]
    }
   ],
   "source": [
    "print(iris_soup.title)"
   ]
  },
  {
   "cell_type": "code",
   "execution_count": 12,
   "id": "10ba6374",
   "metadata": {},
   "outputs": [
    {
     "data": {
      "text/plain": [
       "bs4.element.Tag"
      ]
     },
     "execution_count": 12,
     "metadata": {},
     "output_type": "execute_result"
    }
   ],
   "source": [
    "type(iris_soup.title)"
   ]
  },
  {
   "cell_type": "code",
   "execution_count": 13,
   "id": "1c9b5d43",
   "metadata": {},
   "outputs": [
    {
     "name": "stdout",
     "output_type": "stream",
     "text": [
      "Iris flower dataset\n"
     ]
    }
   ],
   "source": [
    "print(iris_soup.title.string)"
   ]
  },
  {
   "cell_type": "code",
   "execution_count": 14,
   "id": "f44f2dd6",
   "metadata": {},
   "outputs": [
    {
     "data": {
      "text/plain": [
       "bs4.element.NavigableString"
      ]
     },
     "execution_count": 14,
     "metadata": {},
     "output_type": "execute_result"
    }
   ],
   "source": [
    "type(iris_soup.title.string)"
   ]
  },
  {
   "cell_type": "code",
   "execution_count": 15,
   "id": "a497601b",
   "metadata": {},
   "outputs": [
    {
     "data": {
      "text/plain": [
       "[<i>Iris</i>, ' Flower\\n      Dataset\\n    ']"
      ]
     },
     "execution_count": 15,
     "metadata": {},
     "output_type": "execute_result"
    }
   ],
   "source": [
    "iris_soup.h1.contents"
   ]
  },
  {
   "cell_type": "code",
   "execution_count": 16,
   "id": "5fa1b645",
   "metadata": {},
   "outputs": [
    {
     "name": "stdout",
     "output_type": "stream",
     "text": [
      "'Iris'\n",
      "'Flower\\n      Dataset'\n"
     ]
    }
   ],
   "source": [
    "for ss in iris_soup.h1.stripped_strings:\n",
    "    print(repr(ss))"
   ]
  },
  {
   "cell_type": "code",
   "execution_count": 17,
   "id": "ab38201a",
   "metadata": {},
   "outputs": [],
   "source": [
    "firstdiv=iris_soup.div"
   ]
  },
  {
   "cell_type": "code",
   "execution_count": 18,
   "id": "300cdb09",
   "metadata": {},
   "outputs": [
    {
     "data": {
      "text/plain": [
       "<div class=\"mw-body-content\" id=\"bodyContent\">\n",
       "<p>This is one of the best known datasets in data science and it is\n",
       "      fair to say it has become a canonical example in the training of\n",
       "      new data scientists.</p>\n",
       "<p>The data set contains 50 instances of 3 classes of 50 iris\n",
       "      plants. One of the classes is linearly separable from the other 2,\n",
       "      and these in turn are not linearly separable from each other.</p>\n",
       "</div>"
      ]
     },
     "execution_count": 18,
     "metadata": {},
     "output_type": "execute_result"
    }
   ],
   "source": [
    "firstdiv"
   ]
  },
  {
   "cell_type": "code",
   "execution_count": 19,
   "id": "79c2279f",
   "metadata": {},
   "outputs": [
    {
     "data": {
      "text/plain": [
       "'This is one of the best known datasets in data science and it is\\n      fair to say it has become a canonical example in the training of\\n      new data scientists.'"
      ]
     },
     "execution_count": 19,
     "metadata": {},
     "output_type": "execute_result"
    }
   ],
   "source": [
    "para=firstdiv.find('p')\n",
    "para.string"
   ]
  },
  {
   "cell_type": "code",
   "execution_count": 29,
   "id": "6a2634b3",
   "metadata": {},
   "outputs": [
    {
     "data": {
      "text/plain": [
       "[<p>This is one of the best known datasets in data science and it is\n",
       "       fair to say it has become a canonical example in the training of\n",
       "       new data scientists.</p>,\n",
       " <p>The data set contains 50 instances of 3 classes of 50 iris\n",
       "       plants. One of the classes is linearly separable from the other 2,\n",
       "       and these in turn are not linearly separable from each other.</p>,\n",
       " <li>sepal length in cm </li>,\n",
       " <li>sepal width in cm </li>,\n",
       " <li>petal length in cm </li>,\n",
       " <li>petal width in cm </li>,\n",
       " <li>class: -- 3 values:  Iris Setosa, Iris Versicolour, Iris\n",
       "         Virginica </li>,\n",
       " <p id=\"rogel1\">[1] <b>Rogel-Salazar, J</b>. (2017). <i>Data\n",
       "         Science and Analytics with Python</i>. Chapman &amp; Hall/CRC\n",
       "         Data Mining and Knowledge Discovery Series. CRC Press.\n",
       "         <meta content=\"text/html;\n",
       "         charset=utf-8\" http-equiv=\"Content-Type\"/></p>]"
      ]
     },
     "execution_count": 29,
     "metadata": {},
     "output_type": "execute_result"
    }
   ],
   "source": [
    "iris_soup.find_all(['p','li'])"
   ]
  },
  {
   "cell_type": "code",
   "execution_count": 31,
   "id": "fbe8e012",
   "metadata": {},
   "outputs": [],
   "source": [
    "bib=iris_soup.find_all('p',id=\"rogel1\")"
   ]
  },
  {
   "cell_type": "code",
   "execution_count": 32,
   "id": "605ca3e4",
   "metadata": {},
   "outputs": [
    {
     "data": {
      "text/plain": [
       "[<p id=\"rogel1\">[1] <b>Rogel-Salazar, J</b>. (2017). <i>Data\n",
       "         Science and Analytics with Python</i>. Chapman &amp; Hall/CRC\n",
       "         Data Mining and Knowledge Discovery Series. CRC Press.\n",
       "         <meta content=\"text/html;\n",
       "         charset=utf-8\" http-equiv=\"Content-Type\"/></p>]"
      ]
     },
     "execution_count": 32,
     "metadata": {},
     "output_type": "execute_result"
    }
   ],
   "source": [
    "bib"
   ]
  },
  {
   "cell_type": "code",
   "execution_count": 34,
   "id": "616bd61f",
   "metadata": {},
   "outputs": [],
   "source": [
    "# iris_table=iris_soup.find('table',class=\"tableizer-table\")\n",
    "iris_table=iris_soup.find('table',class_=\"tableizer-table\")"
   ]
  },
  {
   "cell_type": "code",
   "execution_count": 35,
   "id": "c576fef1",
   "metadata": {},
   "outputs": [
    {
     "data": {
      "text/plain": [
       "<table class=\"tableizer-table\">\n",
       "<thead><tr class=\"tableizer-firstrow\"><th>Dataset Order</th><th>Sepal length</th><th>Sepal width</th><th>Petal length</th><th>Petal width</th><th>Species</th></tr></thead><tbody>\n",
       "<tr><td>1</td><td>5.1</td><td>3.5</td><td>1.4</td><td>0.2</td><td>I.Â setosa</td></tr>\n",
       "<tr><td>2</td><td>4.9</td><td>3</td><td>1.4</td><td>0.2</td><td>I.Â setosa</td></tr>\n",
       "<tr><td>3</td><td>4.7</td><td>3.2</td><td>1.3</td><td>0.2</td><td>I.Â setosa</td></tr>\n",
       "<tr><td>4</td><td>4.6</td><td>3.1</td><td>1.5</td><td>0.2</td><td>I.Â setosa</td></tr>\n",
       "<tr><td>5</td><td>5</td><td>3.6</td><td>1.4</td><td>0.3</td><td>I.Â setosa</td></tr>\n",
       "<tr><td>6</td><td>5.4</td><td>3.9</td><td>1.7</td><td>0.4</td><td>I.Â setosa</td></tr>\n",
       "<tr><td>7</td><td>4.6</td><td>3.4</td><td>1.4</td><td>0.3</td><td>I.Â setosa</td></tr>\n",
       "<tr><td>8</td><td>5</td><td>3.4</td><td>1.5</td><td>0.2</td><td>I.Â setosa</td></tr>\n",
       "<tr><td>9</td><td>4.4</td><td>2.9</td><td>1.4</td><td>0.2</td><td>I.Â setosa</td></tr>\n",
       "<tr><td>10</td><td>4.9</td><td>3.1</td><td>1.5</td><td>0.1</td><td>I.Â setosa</td></tr>\n",
       "<tr><td>11</td><td>5.4</td><td>3.7</td><td>1.5</td><td>0.2</td><td>I.Â setosa</td></tr>\n",
       "<tr><td>12</td><td>4.8</td><td>3.4</td><td>1.6</td><td>0.2</td><td>I.Â setosa</td></tr>\n",
       "<tr><td>13</td><td>4.8</td><td>3</td><td>1.4</td><td>0.1</td><td>I.Â setosa</td></tr>\n",
       "<tr><td>14</td><td>4.3</td><td>3</td><td>1.1</td><td>0.1</td><td>I.Â setosa</td></tr>\n",
       "<tr><td>15</td><td>5.8</td><td>4</td><td>1.2</td><td>0.2</td><td>I.Â setosa</td></tr>\n",
       "<tr><td>16</td><td>5.7</td><td>4.4</td><td>1.5</td><td>0.4</td><td>I.Â setosa</td></tr>\n",
       "<tr><td>17</td><td>5.4</td><td>3.9</td><td>1.3</td><td>0.4</td><td>I.Â setosa</td></tr>\n",
       "<tr><td>18</td><td>5.1</td><td>3.5</td><td>1.4</td><td>0.3</td><td>I.Â setosa</td></tr>\n",
       "<tr><td>19</td><td>5.7</td><td>3.8</td><td>1.7</td><td>0.3</td><td>I.Â setosa</td></tr>\n",
       "<tr><td>20</td><td>5.1</td><td>3.8</td><td>1.5</td><td>0.3</td><td>I.Â setosa</td></tr>\n",
       "<tr><td>21</td><td>5.4</td><td>3.4</td><td>1.7</td><td>0.2</td><td>I.Â setosa</td></tr>\n",
       "<tr><td>22</td><td>5.1</td><td>3.7</td><td>1.5</td><td>0.4</td><td>I.Â setosa</td></tr>\n",
       "<tr><td>23</td><td>4.6</td><td>3.6</td><td>1</td><td>0.2</td><td>I.Â setosa</td></tr>\n",
       "<tr><td>24</td><td>5.1</td><td>3.3</td><td>1.7</td><td>0.5</td><td>I.Â setosa</td></tr>\n",
       "<tr><td>25</td><td>4.8</td><td>3.4</td><td>1.9</td><td>0.2</td><td>I.Â setosa</td></tr>\n",
       "<tr><td>26</td><td>5</td><td>3</td><td>1.6</td><td>0.2</td><td>I.Â setosa</td></tr>\n",
       "<tr><td>27</td><td>5</td><td>3.4</td><td>1.6</td><td>0.4</td><td>I.Â setosa</td></tr>\n",
       "<tr><td>28</td><td>5.2</td><td>3.5</td><td>1.5</td><td>0.2</td><td>I.Â setosa</td></tr>\n",
       "<tr><td>29</td><td>5.2</td><td>3.4</td><td>1.4</td><td>0.2</td><td>I.Â setosa</td></tr>\n",
       "<tr><td>30</td><td>4.7</td><td>3.2</td><td>1.6</td><td>0.2</td><td>I.Â setosa</td></tr>\n",
       "<tr><td>31</td><td>4.8</td><td>3.1</td><td>1.6</td><td>0.2</td><td>I.Â setosa</td></tr>\n",
       "<tr><td>32</td><td>5.4</td><td>3.4</td><td>1.5</td><td>0.4</td><td>I.Â setosa</td></tr>\n",
       "<tr><td>33</td><td>5.2</td><td>4.1</td><td>1.5</td><td>0.1</td><td>I.Â setosa</td></tr>\n",
       "<tr><td>34</td><td>5.5</td><td>4.2</td><td>1.4</td><td>0.2</td><td>I.Â setosa</td></tr>\n",
       "<tr><td>35</td><td>4.9</td><td>3.1</td><td>1.5</td><td>0.2</td><td>I.Â setosa</td></tr>\n",
       "<tr><td>36</td><td>5</td><td>3.2</td><td>1.2</td><td>0.2</td><td>I.Â setosa</td></tr>\n",
       "<tr><td>37</td><td>5.5</td><td>3.5</td><td>1.3</td><td>0.2</td><td>I.Â setosa</td></tr>\n",
       "<tr><td>38</td><td>4.9</td><td>3.6</td><td>1.4</td><td>0.1</td><td>I.Â setosa</td></tr>\n",
       "<tr><td>39</td><td>4.4</td><td>3</td><td>1.3</td><td>0.2</td><td>I.Â setosa</td></tr>\n",
       "<tr><td>40</td><td>5.1</td><td>3.4</td><td>1.5</td><td>0.2</td><td>I.Â setosa</td></tr>\n",
       "<tr><td>41</td><td>5</td><td>3.5</td><td>1.3</td><td>0.3</td><td>I.Â setosa</td></tr>\n",
       "<tr><td>42</td><td>4.5</td><td>2.3</td><td>1.3</td><td>0.3</td><td>I.Â setosa</td></tr>\n",
       "<tr><td>43</td><td>4.4</td><td>3.2</td><td>1.3</td><td>0.2</td><td>I.Â setosa</td></tr>\n",
       "<tr><td>44</td><td>5</td><td>3.5</td><td>1.6</td><td>0.6</td><td>I.Â setosa</td></tr>\n",
       "<tr><td>45</td><td>5.1</td><td>3.8</td><td>1.9</td><td>0.4</td><td>I.Â setosa</td></tr>\n",
       "<tr><td>46</td><td>4.8</td><td>3</td><td>1.4</td><td>0.3</td><td>I.Â setosa</td></tr>\n",
       "<tr><td>47</td><td>5.1</td><td>3.8</td><td>1.6</td><td>0.2</td><td>I.Â setosa</td></tr>\n",
       "<tr><td>48</td><td>4.6</td><td>3.2</td><td>1.4</td><td>0.2</td><td>I.Â setosa</td></tr>\n",
       "<tr><td>49</td><td>5.3</td><td>3.7</td><td>1.5</td><td>0.2</td><td>I.Â setosa</td></tr>\n",
       "<tr><td>50</td><td>5</td><td>3.3</td><td>1.4</td><td>0.2</td><td>I.Â setosa</td></tr>\n",
       "<tr><td>51</td><td>7</td><td>3.2</td><td>4.7</td><td>1.4</td><td>I.Â versicolor</td></tr>\n",
       "<tr><td>52</td><td>6.4</td><td>3.2</td><td>4.5</td><td>1.5</td><td>I.Â versicolor</td></tr>\n",
       "<tr><td>53</td><td>6.9</td><td>3.1</td><td>4.9</td><td>1.5</td><td>I.Â versicolor</td></tr>\n",
       "<tr><td>54</td><td>5.5</td><td>2.3</td><td>4</td><td>1.3</td><td>I.Â versicolor</td></tr>\n",
       "<tr><td>55</td><td>6.5</td><td>2.8</td><td>4.6</td><td>1.5</td><td>I.Â versicolor</td></tr>\n",
       "<tr><td>56</td><td>5.7</td><td>2.8</td><td>4.5</td><td>1.3</td><td>I.Â versicolor</td></tr>\n",
       "<tr><td>57</td><td>6.3</td><td>3.3</td><td>4.7</td><td>1.6</td><td>I.Â versicolor</td></tr>\n",
       "<tr><td>58</td><td>4.9</td><td>2.4</td><td>3.3</td><td>1</td><td>I.Â versicolor</td></tr>\n",
       "<tr><td>59</td><td>6.6</td><td>2.9</td><td>4.6</td><td>1.3</td><td>I.Â versicolor</td></tr>\n",
       "<tr><td>60</td><td>5.2</td><td>2.7</td><td>3.9</td><td>1.4</td><td>I.Â versicolor</td></tr>\n",
       "<tr><td>61</td><td>5</td><td>2</td><td>3.5</td><td>1</td><td>I.Â versicolor</td></tr>\n",
       "<tr><td>62</td><td>5.9</td><td>3</td><td>4.2</td><td>1.5</td><td>I.Â versicolor</td></tr>\n",
       "<tr><td>63</td><td>6</td><td>2.2</td><td>4</td><td>1</td><td>I.Â versicolor</td></tr>\n",
       "<tr><td>64</td><td>6.1</td><td>2.9</td><td>4.7</td><td>1.4</td><td>I.Â versicolor</td></tr>\n",
       "<tr><td>65</td><td>5.6</td><td>2.9</td><td>3.6</td><td>1.3</td><td>I.Â versicolor</td></tr>\n",
       "<tr><td>66</td><td>6.7</td><td>3.1</td><td>4.4</td><td>1.4</td><td>I.Â versicolor</td></tr>\n",
       "<tr><td>67</td><td>5.6</td><td>3</td><td>4.5</td><td>1.5</td><td>I.Â versicolor</td></tr>\n",
       "<tr><td>68</td><td>5.8</td><td>2.7</td><td>4.1</td><td>1</td><td>I.Â versicolor</td></tr>\n",
       "<tr><td>69</td><td>6.2</td><td>2.2</td><td>4.5</td><td>1.5</td><td>I.Â versicolor</td></tr>\n",
       "<tr><td>70</td><td>5.6</td><td>2.5</td><td>3.9</td><td>1.1</td><td>I.Â versicolor</td></tr>\n",
       "<tr><td>71</td><td>5.9</td><td>3.2</td><td>4.8</td><td>1.8</td><td>I.Â versicolor</td></tr>\n",
       "<tr><td>72</td><td>6.1</td><td>2.8</td><td>4</td><td>1.3</td><td>I.Â versicolor</td></tr>\n",
       "<tr><td>73</td><td>6.3</td><td>2.5</td><td>4.9</td><td>1.5</td><td>I.Â versicolor</td></tr>\n",
       "<tr><td>74</td><td>6.1</td><td>2.8</td><td>4.7</td><td>1.2</td><td>I.Â versicolor</td></tr>\n",
       "<tr><td>75</td><td>6.4</td><td>2.9</td><td>4.3</td><td>1.3</td><td>I.Â versicolor</td></tr>\n",
       "<tr><td>76</td><td>6.6</td><td>3</td><td>4.4</td><td>1.4</td><td>I.Â versicolor</td></tr>\n",
       "<tr><td>77</td><td>6.8</td><td>2.8</td><td>4.8</td><td>1.4</td><td>I.Â versicolor</td></tr>\n",
       "<tr><td>78</td><td>6.7</td><td>3</td><td>5</td><td>1.7</td><td>I.Â versicolor</td></tr>\n",
       "<tr><td>79</td><td>6</td><td>2.9</td><td>4.5</td><td>1.5</td><td>I.Â versicolor</td></tr>\n",
       "<tr><td>80</td><td>5.7</td><td>2.6</td><td>3.5</td><td>1</td><td>I.Â versicolor</td></tr>\n",
       "<tr><td>81</td><td>5.5</td><td>2.4</td><td>3.8</td><td>1.1</td><td>I.Â versicolor</td></tr>\n",
       "<tr><td>82</td><td>5.5</td><td>2.4</td><td>3.7</td><td>1</td><td>I.Â versicolor</td></tr>\n",
       "<tr><td>83</td><td>5.8</td><td>2.7</td><td>3.9</td><td>1.2</td><td>I.Â versicolor</td></tr>\n",
       "<tr><td>84</td><td>6</td><td>2.7</td><td>5.1</td><td>1.6</td><td>I.Â versicolor</td></tr>\n",
       "<tr><td>85</td><td>5.4</td><td>3</td><td>4.5</td><td>1.5</td><td>I.Â versicolor</td></tr>\n",
       "<tr><td>86</td><td>6</td><td>3.4</td><td>4.5</td><td>1.6</td><td>I.Â versicolor</td></tr>\n",
       "<tr><td>87</td><td>6.7</td><td>3.1</td><td>4.7</td><td>1.5</td><td>I.Â versicolor</td></tr>\n",
       "<tr><td>88</td><td>6.3</td><td>2.3</td><td>4.4</td><td>1.3</td><td>I.Â versicolor</td></tr>\n",
       "<tr><td>89</td><td>5.6</td><td>3</td><td>4.1</td><td>1.3</td><td>I.Â versicolor</td></tr>\n",
       "<tr><td>90</td><td>5.5</td><td>2.5</td><td>4</td><td>1.3</td><td>I.Â versicolor</td></tr>\n",
       "<tr><td>91</td><td>5.5</td><td>2.6</td><td>4.4</td><td>1.2</td><td>I.Â versicolor</td></tr>\n",
       "<tr><td>92</td><td>6.1</td><td>3</td><td>4.6</td><td>1.4</td><td>I.Â versicolor</td></tr>\n",
       "<tr><td>93</td><td>5.8</td><td>2.6</td><td>4</td><td>1.2</td><td>I.Â versicolor</td></tr>\n",
       "<tr><td>94</td><td>5</td><td>2.3</td><td>3.3</td><td>1</td><td>I.Â versicolor</td></tr>\n",
       "<tr><td>95</td><td>5.6</td><td>2.7</td><td>4.2</td><td>1.3</td><td>I.Â versicolor</td></tr>\n",
       "<tr><td>96</td><td>5.7</td><td>3</td><td>4.2</td><td>1.2</td><td>I.Â versicolor</td></tr>\n",
       "<tr><td>97</td><td>5.7</td><td>2.9</td><td>4.2</td><td>1.3</td><td>I.Â versicolor</td></tr>\n",
       "<tr><td>98</td><td>6.2</td><td>2.9</td><td>4.3</td><td>1.3</td><td>I.Â versicolor</td></tr>\n",
       "<tr><td>99</td><td>5.1</td><td>2.5</td><td>3</td><td>1.1</td><td>I.Â versicolor</td></tr>\n",
       "<tr><td>100</td><td>5.7</td><td>2.8</td><td>4.1</td><td>1.3</td><td>I.Â versicolor</td></tr>\n",
       "<tr><td>101</td><td>6.3</td><td>3.3</td><td>6</td><td>2.5</td><td>I.Â virginica</td></tr>\n",
       "<tr><td>102</td><td>5.8</td><td>2.7</td><td>5.1</td><td>1.9</td><td>I.Â virginica</td></tr>\n",
       "<tr><td>103</td><td>7.1</td><td>3</td><td>5.9</td><td>2.1</td><td>I.Â virginica</td></tr>\n",
       "<tr><td>104</td><td>6.3</td><td>2.9</td><td>5.6</td><td>1.8</td><td>I.Â virginica</td></tr>\n",
       "<tr><td>105</td><td>6.5</td><td>3</td><td>5.8</td><td>2.2</td><td>I.Â virginica</td></tr>\n",
       "<tr><td>106</td><td>7.6</td><td>3</td><td>6.6</td><td>2.1</td><td>I.Â virginica</td></tr>\n",
       "<tr><td>107</td><td>4.9</td><td>2.5</td><td>4.5</td><td>1.7</td><td>I.Â virginica</td></tr>\n",
       "<tr><td>108</td><td>7.3</td><td>2.9</td><td>6.3</td><td>1.8</td><td>I.Â virginica</td></tr>\n",
       "<tr><td>109</td><td>6.7</td><td>2.5</td><td>5.8</td><td>1.8</td><td>I.Â virginica</td></tr>\n",
       "<tr><td>110</td><td>7.2</td><td>3.6</td><td>6.1</td><td>2.5</td><td>I.Â virginica</td></tr>\n",
       "<tr><td>111</td><td>6.5</td><td>3.2</td><td>5.1</td><td>2</td><td>I.Â virginica</td></tr>\n",
       "<tr><td>112</td><td>6.4</td><td>2.7</td><td>5.3</td><td>1.9</td><td>I.Â virginica</td></tr>\n",
       "<tr><td>113</td><td>6.8</td><td>3</td><td>5.5</td><td>2.1</td><td>I.Â virginica</td></tr>\n",
       "<tr><td>114</td><td>5.7</td><td>2.5</td><td>5</td><td>2</td><td>I.Â virginica</td></tr>\n",
       "<tr><td>115</td><td>5.8</td><td>2.8</td><td>5.1</td><td>2.4</td><td>I.Â virginica</td></tr>\n",
       "<tr><td>116</td><td>6.4</td><td>3.2</td><td>5.3</td><td>2.3</td><td>I.Â virginica</td></tr>\n",
       "<tr><td>117</td><td>6.5</td><td>3</td><td>5.5</td><td>1.8</td><td>I.Â virginica</td></tr>\n",
       "<tr><td>118</td><td>7.7</td><td>3.8</td><td>6.7</td><td>2.2</td><td>I.Â virginica</td></tr>\n",
       "<tr><td>119</td><td>7.7</td><td>2.6</td><td>6.9</td><td>2.3</td><td>I.Â virginica</td></tr>\n",
       "<tr><td>120</td><td>6</td><td>2.2</td><td>5</td><td>1.5</td><td>I.Â virginica</td></tr>\n",
       "<tr><td>121</td><td>6.9</td><td>3.2</td><td>5.7</td><td>2.3</td><td>I.Â virginica</td></tr>\n",
       "<tr><td>122</td><td>5.6</td><td>2.8</td><td>4.9</td><td>2</td><td>I.Â virginica</td></tr>\n",
       "<tr><td>123</td><td>7.7</td><td>2.8</td><td>6.7</td><td>2</td><td>I.Â virginica</td></tr>\n",
       "<tr><td>124</td><td>6.3</td><td>2.7</td><td>4.9</td><td>1.8</td><td>I.Â virginica</td></tr>\n",
       "<tr><td>125</td><td>6.7</td><td>3.3</td><td>5.7</td><td>2.1</td><td>I.Â virginica</td></tr>\n",
       "<tr><td>126</td><td>7.2</td><td>3.2</td><td>6</td><td>1.8</td><td>I.Â virginica</td></tr>\n",
       "<tr><td>127</td><td>6.2</td><td>2.8</td><td>4.8</td><td>1.8</td><td>I.Â virginica</td></tr>\n",
       "<tr><td>128</td><td>6.1</td><td>3</td><td>4.9</td><td>1.8</td><td>I.Â virginica</td></tr>\n",
       "<tr><td>129</td><td>6.4</td><td>2.8</td><td>5.6</td><td>2.1</td><td>I.Â virginica</td></tr>\n",
       "<tr><td>130</td><td>7.2</td><td>3</td><td>5.8</td><td>1.6</td><td>I.Â virginica</td></tr>\n",
       "<tr><td>131</td><td>7.4</td><td>2.8</td><td>6.1</td><td>1.9</td><td>I.Â virginica</td></tr>\n",
       "<tr><td>132</td><td>7.9</td><td>3.8</td><td>6.4</td><td>2</td><td>I.Â virginica</td></tr>\n",
       "<tr><td>133</td><td>6.4</td><td>2.8</td><td>5.6</td><td>2.2</td><td>I.Â virginica</td></tr>\n",
       "<tr><td>134</td><td>6.3</td><td>2.8</td><td>5.1</td><td>1.5</td><td>I.Â virginica</td></tr>\n",
       "<tr><td>135</td><td>6.1</td><td>2.6</td><td>5.6</td><td>1.4</td><td>I.Â virginica</td></tr>\n",
       "<tr><td>136</td><td>7.7</td><td>3</td><td>6.1</td><td>2.3</td><td>I.Â virginica</td></tr>\n",
       "<tr><td>137</td><td>6.3</td><td>3.4</td><td>5.6</td><td>2.4</td><td>I.Â virginica</td></tr>\n",
       "<tr><td>138</td><td>6.4</td><td>3.1</td><td>5.5</td><td>1.8</td><td>I.Â virginica</td></tr>\n",
       "<tr><td>139</td><td>6</td><td>3</td><td>4.8</td><td>1.8</td><td>I.Â virginica</td></tr>\n",
       "<tr><td>140</td><td>6.9</td><td>3.1</td><td>5.4</td><td>2.1</td><td>I.Â virginica</td></tr>\n",
       "<tr><td>141</td><td>6.7</td><td>3.1</td><td>5.6</td><td>2.4</td><td>I.Â virginica</td></tr>\n",
       "<tr><td>142</td><td>6.9</td><td>3.1</td><td>5.1</td><td>2.3</td><td>I.Â virginica</td></tr>\n",
       "<tr><td>143</td><td>5.8</td><td>2.7</td><td>5.1</td><td>1.9</td><td>I.Â virginica</td></tr>\n",
       "<tr><td>144</td><td>6.8</td><td>3.2</td><td>5.9</td><td>2.3</td><td>I.Â virginica</td></tr>\n",
       "<tr><td>145</td><td>6.7</td><td>3.3</td><td>5.7</td><td>2.5</td><td>I.Â virginica</td></tr>\n",
       "<tr><td>146</td><td>6.7</td><td>3</td><td>5.2</td><td>2.3</td><td>I.Â virginica</td></tr>\n",
       "<tr><td>147</td><td>6.3</td><td>2.5</td><td>5</td><td>1.9</td><td>I.Â virginica</td></tr>\n",
       "<tr><td>148</td><td>6.5</td><td>3</td><td>5.2</td><td>2</td><td>I.Â virginica</td></tr>\n",
       "<tr><td>149</td><td>6.2</td><td>3.4</td><td>5.4</td><td>2.3</td><td>I.Â virginica</td></tr>\n",
       "<tr><td>150</td><td>5.9</td><td>3</td><td>5.1</td><td>1.8</td><td>I.Â virginica</td></tr>\n",
       "</tbody></table>"
      ]
     },
     "execution_count": 35,
     "metadata": {},
     "output_type": "execute_result"
    }
   ],
   "source": [
    "iris_table"
   ]
  },
  {
   "cell_type": "code",
   "execution_count": 37,
   "id": "88810536",
   "metadata": {},
   "outputs": [],
   "source": [
    "tmp=iris_table.find_all('tr')"
   ]
  },
  {
   "cell_type": "code",
   "execution_count": 38,
   "id": "2c22cd5b",
   "metadata": {},
   "outputs": [
    {
     "data": {
      "text/plain": [
       "[<tr class=\"tableizer-firstrow\"><th>Dataset Order</th><th>Sepal length</th><th>Sepal width</th><th>Petal length</th><th>Petal width</th><th>Species</th></tr>,\n",
       " <tr><td>1</td><td>5.1</td><td>3.5</td><td>1.4</td><td>0.2</td><td>I.Â setosa</td></tr>,\n",
       " <tr><td>2</td><td>4.9</td><td>3</td><td>1.4</td><td>0.2</td><td>I.Â setosa</td></tr>,\n",
       " <tr><td>3</td><td>4.7</td><td>3.2</td><td>1.3</td><td>0.2</td><td>I.Â setosa</td></tr>,\n",
       " <tr><td>4</td><td>4.6</td><td>3.1</td><td>1.5</td><td>0.2</td><td>I.Â setosa</td></tr>,\n",
       " <tr><td>5</td><td>5</td><td>3.6</td><td>1.4</td><td>0.3</td><td>I.Â setosa</td></tr>,\n",
       " <tr><td>6</td><td>5.4</td><td>3.9</td><td>1.7</td><td>0.4</td><td>I.Â setosa</td></tr>,\n",
       " <tr><td>7</td><td>4.6</td><td>3.4</td><td>1.4</td><td>0.3</td><td>I.Â setosa</td></tr>,\n",
       " <tr><td>8</td><td>5</td><td>3.4</td><td>1.5</td><td>0.2</td><td>I.Â setosa</td></tr>,\n",
       " <tr><td>9</td><td>4.4</td><td>2.9</td><td>1.4</td><td>0.2</td><td>I.Â setosa</td></tr>,\n",
       " <tr><td>10</td><td>4.9</td><td>3.1</td><td>1.5</td><td>0.1</td><td>I.Â setosa</td></tr>,\n",
       " <tr><td>11</td><td>5.4</td><td>3.7</td><td>1.5</td><td>0.2</td><td>I.Â setosa</td></tr>,\n",
       " <tr><td>12</td><td>4.8</td><td>3.4</td><td>1.6</td><td>0.2</td><td>I.Â setosa</td></tr>,\n",
       " <tr><td>13</td><td>4.8</td><td>3</td><td>1.4</td><td>0.1</td><td>I.Â setosa</td></tr>,\n",
       " <tr><td>14</td><td>4.3</td><td>3</td><td>1.1</td><td>0.1</td><td>I.Â setosa</td></tr>,\n",
       " <tr><td>15</td><td>5.8</td><td>4</td><td>1.2</td><td>0.2</td><td>I.Â setosa</td></tr>,\n",
       " <tr><td>16</td><td>5.7</td><td>4.4</td><td>1.5</td><td>0.4</td><td>I.Â setosa</td></tr>,\n",
       " <tr><td>17</td><td>5.4</td><td>3.9</td><td>1.3</td><td>0.4</td><td>I.Â setosa</td></tr>,\n",
       " <tr><td>18</td><td>5.1</td><td>3.5</td><td>1.4</td><td>0.3</td><td>I.Â setosa</td></tr>,\n",
       " <tr><td>19</td><td>5.7</td><td>3.8</td><td>1.7</td><td>0.3</td><td>I.Â setosa</td></tr>,\n",
       " <tr><td>20</td><td>5.1</td><td>3.8</td><td>1.5</td><td>0.3</td><td>I.Â setosa</td></tr>,\n",
       " <tr><td>21</td><td>5.4</td><td>3.4</td><td>1.7</td><td>0.2</td><td>I.Â setosa</td></tr>,\n",
       " <tr><td>22</td><td>5.1</td><td>3.7</td><td>1.5</td><td>0.4</td><td>I.Â setosa</td></tr>,\n",
       " <tr><td>23</td><td>4.6</td><td>3.6</td><td>1</td><td>0.2</td><td>I.Â setosa</td></tr>,\n",
       " <tr><td>24</td><td>5.1</td><td>3.3</td><td>1.7</td><td>0.5</td><td>I.Â setosa</td></tr>,\n",
       " <tr><td>25</td><td>4.8</td><td>3.4</td><td>1.9</td><td>0.2</td><td>I.Â setosa</td></tr>,\n",
       " <tr><td>26</td><td>5</td><td>3</td><td>1.6</td><td>0.2</td><td>I.Â setosa</td></tr>,\n",
       " <tr><td>27</td><td>5</td><td>3.4</td><td>1.6</td><td>0.4</td><td>I.Â setosa</td></tr>,\n",
       " <tr><td>28</td><td>5.2</td><td>3.5</td><td>1.5</td><td>0.2</td><td>I.Â setosa</td></tr>,\n",
       " <tr><td>29</td><td>5.2</td><td>3.4</td><td>1.4</td><td>0.2</td><td>I.Â setosa</td></tr>,\n",
       " <tr><td>30</td><td>4.7</td><td>3.2</td><td>1.6</td><td>0.2</td><td>I.Â setosa</td></tr>,\n",
       " <tr><td>31</td><td>4.8</td><td>3.1</td><td>1.6</td><td>0.2</td><td>I.Â setosa</td></tr>,\n",
       " <tr><td>32</td><td>5.4</td><td>3.4</td><td>1.5</td><td>0.4</td><td>I.Â setosa</td></tr>,\n",
       " <tr><td>33</td><td>5.2</td><td>4.1</td><td>1.5</td><td>0.1</td><td>I.Â setosa</td></tr>,\n",
       " <tr><td>34</td><td>5.5</td><td>4.2</td><td>1.4</td><td>0.2</td><td>I.Â setosa</td></tr>,\n",
       " <tr><td>35</td><td>4.9</td><td>3.1</td><td>1.5</td><td>0.2</td><td>I.Â setosa</td></tr>,\n",
       " <tr><td>36</td><td>5</td><td>3.2</td><td>1.2</td><td>0.2</td><td>I.Â setosa</td></tr>,\n",
       " <tr><td>37</td><td>5.5</td><td>3.5</td><td>1.3</td><td>0.2</td><td>I.Â setosa</td></tr>,\n",
       " <tr><td>38</td><td>4.9</td><td>3.6</td><td>1.4</td><td>0.1</td><td>I.Â setosa</td></tr>,\n",
       " <tr><td>39</td><td>4.4</td><td>3</td><td>1.3</td><td>0.2</td><td>I.Â setosa</td></tr>,\n",
       " <tr><td>40</td><td>5.1</td><td>3.4</td><td>1.5</td><td>0.2</td><td>I.Â setosa</td></tr>,\n",
       " <tr><td>41</td><td>5</td><td>3.5</td><td>1.3</td><td>0.3</td><td>I.Â setosa</td></tr>,\n",
       " <tr><td>42</td><td>4.5</td><td>2.3</td><td>1.3</td><td>0.3</td><td>I.Â setosa</td></tr>,\n",
       " <tr><td>43</td><td>4.4</td><td>3.2</td><td>1.3</td><td>0.2</td><td>I.Â setosa</td></tr>,\n",
       " <tr><td>44</td><td>5</td><td>3.5</td><td>1.6</td><td>0.6</td><td>I.Â setosa</td></tr>,\n",
       " <tr><td>45</td><td>5.1</td><td>3.8</td><td>1.9</td><td>0.4</td><td>I.Â setosa</td></tr>,\n",
       " <tr><td>46</td><td>4.8</td><td>3</td><td>1.4</td><td>0.3</td><td>I.Â setosa</td></tr>,\n",
       " <tr><td>47</td><td>5.1</td><td>3.8</td><td>1.6</td><td>0.2</td><td>I.Â setosa</td></tr>,\n",
       " <tr><td>48</td><td>4.6</td><td>3.2</td><td>1.4</td><td>0.2</td><td>I.Â setosa</td></tr>,\n",
       " <tr><td>49</td><td>5.3</td><td>3.7</td><td>1.5</td><td>0.2</td><td>I.Â setosa</td></tr>,\n",
       " <tr><td>50</td><td>5</td><td>3.3</td><td>1.4</td><td>0.2</td><td>I.Â setosa</td></tr>,\n",
       " <tr><td>51</td><td>7</td><td>3.2</td><td>4.7</td><td>1.4</td><td>I.Â versicolor</td></tr>,\n",
       " <tr><td>52</td><td>6.4</td><td>3.2</td><td>4.5</td><td>1.5</td><td>I.Â versicolor</td></tr>,\n",
       " <tr><td>53</td><td>6.9</td><td>3.1</td><td>4.9</td><td>1.5</td><td>I.Â versicolor</td></tr>,\n",
       " <tr><td>54</td><td>5.5</td><td>2.3</td><td>4</td><td>1.3</td><td>I.Â versicolor</td></tr>,\n",
       " <tr><td>55</td><td>6.5</td><td>2.8</td><td>4.6</td><td>1.5</td><td>I.Â versicolor</td></tr>,\n",
       " <tr><td>56</td><td>5.7</td><td>2.8</td><td>4.5</td><td>1.3</td><td>I.Â versicolor</td></tr>,\n",
       " <tr><td>57</td><td>6.3</td><td>3.3</td><td>4.7</td><td>1.6</td><td>I.Â versicolor</td></tr>,\n",
       " <tr><td>58</td><td>4.9</td><td>2.4</td><td>3.3</td><td>1</td><td>I.Â versicolor</td></tr>,\n",
       " <tr><td>59</td><td>6.6</td><td>2.9</td><td>4.6</td><td>1.3</td><td>I.Â versicolor</td></tr>,\n",
       " <tr><td>60</td><td>5.2</td><td>2.7</td><td>3.9</td><td>1.4</td><td>I.Â versicolor</td></tr>,\n",
       " <tr><td>61</td><td>5</td><td>2</td><td>3.5</td><td>1</td><td>I.Â versicolor</td></tr>,\n",
       " <tr><td>62</td><td>5.9</td><td>3</td><td>4.2</td><td>1.5</td><td>I.Â versicolor</td></tr>,\n",
       " <tr><td>63</td><td>6</td><td>2.2</td><td>4</td><td>1</td><td>I.Â versicolor</td></tr>,\n",
       " <tr><td>64</td><td>6.1</td><td>2.9</td><td>4.7</td><td>1.4</td><td>I.Â versicolor</td></tr>,\n",
       " <tr><td>65</td><td>5.6</td><td>2.9</td><td>3.6</td><td>1.3</td><td>I.Â versicolor</td></tr>,\n",
       " <tr><td>66</td><td>6.7</td><td>3.1</td><td>4.4</td><td>1.4</td><td>I.Â versicolor</td></tr>,\n",
       " <tr><td>67</td><td>5.6</td><td>3</td><td>4.5</td><td>1.5</td><td>I.Â versicolor</td></tr>,\n",
       " <tr><td>68</td><td>5.8</td><td>2.7</td><td>4.1</td><td>1</td><td>I.Â versicolor</td></tr>,\n",
       " <tr><td>69</td><td>6.2</td><td>2.2</td><td>4.5</td><td>1.5</td><td>I.Â versicolor</td></tr>,\n",
       " <tr><td>70</td><td>5.6</td><td>2.5</td><td>3.9</td><td>1.1</td><td>I.Â versicolor</td></tr>,\n",
       " <tr><td>71</td><td>5.9</td><td>3.2</td><td>4.8</td><td>1.8</td><td>I.Â versicolor</td></tr>,\n",
       " <tr><td>72</td><td>6.1</td><td>2.8</td><td>4</td><td>1.3</td><td>I.Â versicolor</td></tr>,\n",
       " <tr><td>73</td><td>6.3</td><td>2.5</td><td>4.9</td><td>1.5</td><td>I.Â versicolor</td></tr>,\n",
       " <tr><td>74</td><td>6.1</td><td>2.8</td><td>4.7</td><td>1.2</td><td>I.Â versicolor</td></tr>,\n",
       " <tr><td>75</td><td>6.4</td><td>2.9</td><td>4.3</td><td>1.3</td><td>I.Â versicolor</td></tr>,\n",
       " <tr><td>76</td><td>6.6</td><td>3</td><td>4.4</td><td>1.4</td><td>I.Â versicolor</td></tr>,\n",
       " <tr><td>77</td><td>6.8</td><td>2.8</td><td>4.8</td><td>1.4</td><td>I.Â versicolor</td></tr>,\n",
       " <tr><td>78</td><td>6.7</td><td>3</td><td>5</td><td>1.7</td><td>I.Â versicolor</td></tr>,\n",
       " <tr><td>79</td><td>6</td><td>2.9</td><td>4.5</td><td>1.5</td><td>I.Â versicolor</td></tr>,\n",
       " <tr><td>80</td><td>5.7</td><td>2.6</td><td>3.5</td><td>1</td><td>I.Â versicolor</td></tr>,\n",
       " <tr><td>81</td><td>5.5</td><td>2.4</td><td>3.8</td><td>1.1</td><td>I.Â versicolor</td></tr>,\n",
       " <tr><td>82</td><td>5.5</td><td>2.4</td><td>3.7</td><td>1</td><td>I.Â versicolor</td></tr>,\n",
       " <tr><td>83</td><td>5.8</td><td>2.7</td><td>3.9</td><td>1.2</td><td>I.Â versicolor</td></tr>,\n",
       " <tr><td>84</td><td>6</td><td>2.7</td><td>5.1</td><td>1.6</td><td>I.Â versicolor</td></tr>,\n",
       " <tr><td>85</td><td>5.4</td><td>3</td><td>4.5</td><td>1.5</td><td>I.Â versicolor</td></tr>,\n",
       " <tr><td>86</td><td>6</td><td>3.4</td><td>4.5</td><td>1.6</td><td>I.Â versicolor</td></tr>,\n",
       " <tr><td>87</td><td>6.7</td><td>3.1</td><td>4.7</td><td>1.5</td><td>I.Â versicolor</td></tr>,\n",
       " <tr><td>88</td><td>6.3</td><td>2.3</td><td>4.4</td><td>1.3</td><td>I.Â versicolor</td></tr>,\n",
       " <tr><td>89</td><td>5.6</td><td>3</td><td>4.1</td><td>1.3</td><td>I.Â versicolor</td></tr>,\n",
       " <tr><td>90</td><td>5.5</td><td>2.5</td><td>4</td><td>1.3</td><td>I.Â versicolor</td></tr>,\n",
       " <tr><td>91</td><td>5.5</td><td>2.6</td><td>4.4</td><td>1.2</td><td>I.Â versicolor</td></tr>,\n",
       " <tr><td>92</td><td>6.1</td><td>3</td><td>4.6</td><td>1.4</td><td>I.Â versicolor</td></tr>,\n",
       " <tr><td>93</td><td>5.8</td><td>2.6</td><td>4</td><td>1.2</td><td>I.Â versicolor</td></tr>,\n",
       " <tr><td>94</td><td>5</td><td>2.3</td><td>3.3</td><td>1</td><td>I.Â versicolor</td></tr>,\n",
       " <tr><td>95</td><td>5.6</td><td>2.7</td><td>4.2</td><td>1.3</td><td>I.Â versicolor</td></tr>,\n",
       " <tr><td>96</td><td>5.7</td><td>3</td><td>4.2</td><td>1.2</td><td>I.Â versicolor</td></tr>,\n",
       " <tr><td>97</td><td>5.7</td><td>2.9</td><td>4.2</td><td>1.3</td><td>I.Â versicolor</td></tr>,\n",
       " <tr><td>98</td><td>6.2</td><td>2.9</td><td>4.3</td><td>1.3</td><td>I.Â versicolor</td></tr>,\n",
       " <tr><td>99</td><td>5.1</td><td>2.5</td><td>3</td><td>1.1</td><td>I.Â versicolor</td></tr>,\n",
       " <tr><td>100</td><td>5.7</td><td>2.8</td><td>4.1</td><td>1.3</td><td>I.Â versicolor</td></tr>,\n",
       " <tr><td>101</td><td>6.3</td><td>3.3</td><td>6</td><td>2.5</td><td>I.Â virginica</td></tr>,\n",
       " <tr><td>102</td><td>5.8</td><td>2.7</td><td>5.1</td><td>1.9</td><td>I.Â virginica</td></tr>,\n",
       " <tr><td>103</td><td>7.1</td><td>3</td><td>5.9</td><td>2.1</td><td>I.Â virginica</td></tr>,\n",
       " <tr><td>104</td><td>6.3</td><td>2.9</td><td>5.6</td><td>1.8</td><td>I.Â virginica</td></tr>,\n",
       " <tr><td>105</td><td>6.5</td><td>3</td><td>5.8</td><td>2.2</td><td>I.Â virginica</td></tr>,\n",
       " <tr><td>106</td><td>7.6</td><td>3</td><td>6.6</td><td>2.1</td><td>I.Â virginica</td></tr>,\n",
       " <tr><td>107</td><td>4.9</td><td>2.5</td><td>4.5</td><td>1.7</td><td>I.Â virginica</td></tr>,\n",
       " <tr><td>108</td><td>7.3</td><td>2.9</td><td>6.3</td><td>1.8</td><td>I.Â virginica</td></tr>,\n",
       " <tr><td>109</td><td>6.7</td><td>2.5</td><td>5.8</td><td>1.8</td><td>I.Â virginica</td></tr>,\n",
       " <tr><td>110</td><td>7.2</td><td>3.6</td><td>6.1</td><td>2.5</td><td>I.Â virginica</td></tr>,\n",
       " <tr><td>111</td><td>6.5</td><td>3.2</td><td>5.1</td><td>2</td><td>I.Â virginica</td></tr>,\n",
       " <tr><td>112</td><td>6.4</td><td>2.7</td><td>5.3</td><td>1.9</td><td>I.Â virginica</td></tr>,\n",
       " <tr><td>113</td><td>6.8</td><td>3</td><td>5.5</td><td>2.1</td><td>I.Â virginica</td></tr>,\n",
       " <tr><td>114</td><td>5.7</td><td>2.5</td><td>5</td><td>2</td><td>I.Â virginica</td></tr>,\n",
       " <tr><td>115</td><td>5.8</td><td>2.8</td><td>5.1</td><td>2.4</td><td>I.Â virginica</td></tr>,\n",
       " <tr><td>116</td><td>6.4</td><td>3.2</td><td>5.3</td><td>2.3</td><td>I.Â virginica</td></tr>,\n",
       " <tr><td>117</td><td>6.5</td><td>3</td><td>5.5</td><td>1.8</td><td>I.Â virginica</td></tr>,\n",
       " <tr><td>118</td><td>7.7</td><td>3.8</td><td>6.7</td><td>2.2</td><td>I.Â virginica</td></tr>,\n",
       " <tr><td>119</td><td>7.7</td><td>2.6</td><td>6.9</td><td>2.3</td><td>I.Â virginica</td></tr>,\n",
       " <tr><td>120</td><td>6</td><td>2.2</td><td>5</td><td>1.5</td><td>I.Â virginica</td></tr>,\n",
       " <tr><td>121</td><td>6.9</td><td>3.2</td><td>5.7</td><td>2.3</td><td>I.Â virginica</td></tr>,\n",
       " <tr><td>122</td><td>5.6</td><td>2.8</td><td>4.9</td><td>2</td><td>I.Â virginica</td></tr>,\n",
       " <tr><td>123</td><td>7.7</td><td>2.8</td><td>6.7</td><td>2</td><td>I.Â virginica</td></tr>,\n",
       " <tr><td>124</td><td>6.3</td><td>2.7</td><td>4.9</td><td>1.8</td><td>I.Â virginica</td></tr>,\n",
       " <tr><td>125</td><td>6.7</td><td>3.3</td><td>5.7</td><td>2.1</td><td>I.Â virginica</td></tr>,\n",
       " <tr><td>126</td><td>7.2</td><td>3.2</td><td>6</td><td>1.8</td><td>I.Â virginica</td></tr>,\n",
       " <tr><td>127</td><td>6.2</td><td>2.8</td><td>4.8</td><td>1.8</td><td>I.Â virginica</td></tr>,\n",
       " <tr><td>128</td><td>6.1</td><td>3</td><td>4.9</td><td>1.8</td><td>I.Â virginica</td></tr>,\n",
       " <tr><td>129</td><td>6.4</td><td>2.8</td><td>5.6</td><td>2.1</td><td>I.Â virginica</td></tr>,\n",
       " <tr><td>130</td><td>7.2</td><td>3</td><td>5.8</td><td>1.6</td><td>I.Â virginica</td></tr>,\n",
       " <tr><td>131</td><td>7.4</td><td>2.8</td><td>6.1</td><td>1.9</td><td>I.Â virginica</td></tr>,\n",
       " <tr><td>132</td><td>7.9</td><td>3.8</td><td>6.4</td><td>2</td><td>I.Â virginica</td></tr>,\n",
       " <tr><td>133</td><td>6.4</td><td>2.8</td><td>5.6</td><td>2.2</td><td>I.Â virginica</td></tr>,\n",
       " <tr><td>134</td><td>6.3</td><td>2.8</td><td>5.1</td><td>1.5</td><td>I.Â virginica</td></tr>,\n",
       " <tr><td>135</td><td>6.1</td><td>2.6</td><td>5.6</td><td>1.4</td><td>I.Â virginica</td></tr>,\n",
       " <tr><td>136</td><td>7.7</td><td>3</td><td>6.1</td><td>2.3</td><td>I.Â virginica</td></tr>,\n",
       " <tr><td>137</td><td>6.3</td><td>3.4</td><td>5.6</td><td>2.4</td><td>I.Â virginica</td></tr>,\n",
       " <tr><td>138</td><td>6.4</td><td>3.1</td><td>5.5</td><td>1.8</td><td>I.Â virginica</td></tr>,\n",
       " <tr><td>139</td><td>6</td><td>3</td><td>4.8</td><td>1.8</td><td>I.Â virginica</td></tr>,\n",
       " <tr><td>140</td><td>6.9</td><td>3.1</td><td>5.4</td><td>2.1</td><td>I.Â virginica</td></tr>,\n",
       " <tr><td>141</td><td>6.7</td><td>3.1</td><td>5.6</td><td>2.4</td><td>I.Â virginica</td></tr>,\n",
       " <tr><td>142</td><td>6.9</td><td>3.1</td><td>5.1</td><td>2.3</td><td>I.Â virginica</td></tr>,\n",
       " <tr><td>143</td><td>5.8</td><td>2.7</td><td>5.1</td><td>1.9</td><td>I.Â virginica</td></tr>,\n",
       " <tr><td>144</td><td>6.8</td><td>3.2</td><td>5.9</td><td>2.3</td><td>I.Â virginica</td></tr>,\n",
       " <tr><td>145</td><td>6.7</td><td>3.3</td><td>5.7</td><td>2.5</td><td>I.Â virginica</td></tr>,\n",
       " <tr><td>146</td><td>6.7</td><td>3</td><td>5.2</td><td>2.3</td><td>I.Â virginica</td></tr>,\n",
       " <tr><td>147</td><td>6.3</td><td>2.5</td><td>5</td><td>1.9</td><td>I.Â virginica</td></tr>,\n",
       " <tr><td>148</td><td>6.5</td><td>3</td><td>5.2</td><td>2</td><td>I.Â virginica</td></tr>,\n",
       " <tr><td>149</td><td>6.2</td><td>3.4</td><td>5.4</td><td>2.3</td><td>I.Â virginica</td></tr>,\n",
       " <tr><td>150</td><td>5.9</td><td>3</td><td>5.1</td><td>1.8</td><td>I.Â virginica</td></tr>]"
      ]
     },
     "execution_count": 38,
     "metadata": {},
     "output_type": "execute_result"
    }
   ],
   "source": [
    "tmp"
   ]
  },
  {
   "cell_type": "code",
   "execution_count": 39,
   "id": "622bea0e",
   "metadata": {},
   "outputs": [],
   "source": [
    "first=tmp[0]"
   ]
  },
  {
   "cell_type": "code",
   "execution_count": 40,
   "id": "b4847923",
   "metadata": {},
   "outputs": [
    {
     "data": {
      "text/plain": [
       "<tr class=\"tableizer-firstrow\"><th>Dataset Order</th><th>Sepal length</th><th>Sepal width</th><th>Petal length</th><th>Petal width</th><th>Species</th></tr>"
      ]
     },
     "execution_count": 40,
     "metadata": {},
     "output_type": "execute_result"
    }
   ],
   "source": [
    "first"
   ]
  },
  {
   "cell_type": "code",
   "execution_count": 41,
   "id": "1497fc56",
   "metadata": {},
   "outputs": [],
   "source": [
    "allRows=tmp[1:]"
   ]
  },
  {
   "cell_type": "code",
   "execution_count": 42,
   "id": "ce31c023",
   "metadata": {},
   "outputs": [
    {
     "data": {
      "text/plain": [
       "[<tr><td>1</td><td>5.1</td><td>3.5</td><td>1.4</td><td>0.2</td><td>I.Â setosa</td></tr>,\n",
       " <tr><td>2</td><td>4.9</td><td>3</td><td>1.4</td><td>0.2</td><td>I.Â setosa</td></tr>,\n",
       " <tr><td>3</td><td>4.7</td><td>3.2</td><td>1.3</td><td>0.2</td><td>I.Â setosa</td></tr>,\n",
       " <tr><td>4</td><td>4.6</td><td>3.1</td><td>1.5</td><td>0.2</td><td>I.Â setosa</td></tr>,\n",
       " <tr><td>5</td><td>5</td><td>3.6</td><td>1.4</td><td>0.3</td><td>I.Â setosa</td></tr>,\n",
       " <tr><td>6</td><td>5.4</td><td>3.9</td><td>1.7</td><td>0.4</td><td>I.Â setosa</td></tr>,\n",
       " <tr><td>7</td><td>4.6</td><td>3.4</td><td>1.4</td><td>0.3</td><td>I.Â setosa</td></tr>,\n",
       " <tr><td>8</td><td>5</td><td>3.4</td><td>1.5</td><td>0.2</td><td>I.Â setosa</td></tr>,\n",
       " <tr><td>9</td><td>4.4</td><td>2.9</td><td>1.4</td><td>0.2</td><td>I.Â setosa</td></tr>,\n",
       " <tr><td>10</td><td>4.9</td><td>3.1</td><td>1.5</td><td>0.1</td><td>I.Â setosa</td></tr>,\n",
       " <tr><td>11</td><td>5.4</td><td>3.7</td><td>1.5</td><td>0.2</td><td>I.Â setosa</td></tr>,\n",
       " <tr><td>12</td><td>4.8</td><td>3.4</td><td>1.6</td><td>0.2</td><td>I.Â setosa</td></tr>,\n",
       " <tr><td>13</td><td>4.8</td><td>3</td><td>1.4</td><td>0.1</td><td>I.Â setosa</td></tr>,\n",
       " <tr><td>14</td><td>4.3</td><td>3</td><td>1.1</td><td>0.1</td><td>I.Â setosa</td></tr>,\n",
       " <tr><td>15</td><td>5.8</td><td>4</td><td>1.2</td><td>0.2</td><td>I.Â setosa</td></tr>,\n",
       " <tr><td>16</td><td>5.7</td><td>4.4</td><td>1.5</td><td>0.4</td><td>I.Â setosa</td></tr>,\n",
       " <tr><td>17</td><td>5.4</td><td>3.9</td><td>1.3</td><td>0.4</td><td>I.Â setosa</td></tr>,\n",
       " <tr><td>18</td><td>5.1</td><td>3.5</td><td>1.4</td><td>0.3</td><td>I.Â setosa</td></tr>,\n",
       " <tr><td>19</td><td>5.7</td><td>3.8</td><td>1.7</td><td>0.3</td><td>I.Â setosa</td></tr>,\n",
       " <tr><td>20</td><td>5.1</td><td>3.8</td><td>1.5</td><td>0.3</td><td>I.Â setosa</td></tr>,\n",
       " <tr><td>21</td><td>5.4</td><td>3.4</td><td>1.7</td><td>0.2</td><td>I.Â setosa</td></tr>,\n",
       " <tr><td>22</td><td>5.1</td><td>3.7</td><td>1.5</td><td>0.4</td><td>I.Â setosa</td></tr>,\n",
       " <tr><td>23</td><td>4.6</td><td>3.6</td><td>1</td><td>0.2</td><td>I.Â setosa</td></tr>,\n",
       " <tr><td>24</td><td>5.1</td><td>3.3</td><td>1.7</td><td>0.5</td><td>I.Â setosa</td></tr>,\n",
       " <tr><td>25</td><td>4.8</td><td>3.4</td><td>1.9</td><td>0.2</td><td>I.Â setosa</td></tr>,\n",
       " <tr><td>26</td><td>5</td><td>3</td><td>1.6</td><td>0.2</td><td>I.Â setosa</td></tr>,\n",
       " <tr><td>27</td><td>5</td><td>3.4</td><td>1.6</td><td>0.4</td><td>I.Â setosa</td></tr>,\n",
       " <tr><td>28</td><td>5.2</td><td>3.5</td><td>1.5</td><td>0.2</td><td>I.Â setosa</td></tr>,\n",
       " <tr><td>29</td><td>5.2</td><td>3.4</td><td>1.4</td><td>0.2</td><td>I.Â setosa</td></tr>,\n",
       " <tr><td>30</td><td>4.7</td><td>3.2</td><td>1.6</td><td>0.2</td><td>I.Â setosa</td></tr>,\n",
       " <tr><td>31</td><td>4.8</td><td>3.1</td><td>1.6</td><td>0.2</td><td>I.Â setosa</td></tr>,\n",
       " <tr><td>32</td><td>5.4</td><td>3.4</td><td>1.5</td><td>0.4</td><td>I.Â setosa</td></tr>,\n",
       " <tr><td>33</td><td>5.2</td><td>4.1</td><td>1.5</td><td>0.1</td><td>I.Â setosa</td></tr>,\n",
       " <tr><td>34</td><td>5.5</td><td>4.2</td><td>1.4</td><td>0.2</td><td>I.Â setosa</td></tr>,\n",
       " <tr><td>35</td><td>4.9</td><td>3.1</td><td>1.5</td><td>0.2</td><td>I.Â setosa</td></tr>,\n",
       " <tr><td>36</td><td>5</td><td>3.2</td><td>1.2</td><td>0.2</td><td>I.Â setosa</td></tr>,\n",
       " <tr><td>37</td><td>5.5</td><td>3.5</td><td>1.3</td><td>0.2</td><td>I.Â setosa</td></tr>,\n",
       " <tr><td>38</td><td>4.9</td><td>3.6</td><td>1.4</td><td>0.1</td><td>I.Â setosa</td></tr>,\n",
       " <tr><td>39</td><td>4.4</td><td>3</td><td>1.3</td><td>0.2</td><td>I.Â setosa</td></tr>,\n",
       " <tr><td>40</td><td>5.1</td><td>3.4</td><td>1.5</td><td>0.2</td><td>I.Â setosa</td></tr>,\n",
       " <tr><td>41</td><td>5</td><td>3.5</td><td>1.3</td><td>0.3</td><td>I.Â setosa</td></tr>,\n",
       " <tr><td>42</td><td>4.5</td><td>2.3</td><td>1.3</td><td>0.3</td><td>I.Â setosa</td></tr>,\n",
       " <tr><td>43</td><td>4.4</td><td>3.2</td><td>1.3</td><td>0.2</td><td>I.Â setosa</td></tr>,\n",
       " <tr><td>44</td><td>5</td><td>3.5</td><td>1.6</td><td>0.6</td><td>I.Â setosa</td></tr>,\n",
       " <tr><td>45</td><td>5.1</td><td>3.8</td><td>1.9</td><td>0.4</td><td>I.Â setosa</td></tr>,\n",
       " <tr><td>46</td><td>4.8</td><td>3</td><td>1.4</td><td>0.3</td><td>I.Â setosa</td></tr>,\n",
       " <tr><td>47</td><td>5.1</td><td>3.8</td><td>1.6</td><td>0.2</td><td>I.Â setosa</td></tr>,\n",
       " <tr><td>48</td><td>4.6</td><td>3.2</td><td>1.4</td><td>0.2</td><td>I.Â setosa</td></tr>,\n",
       " <tr><td>49</td><td>5.3</td><td>3.7</td><td>1.5</td><td>0.2</td><td>I.Â setosa</td></tr>,\n",
       " <tr><td>50</td><td>5</td><td>3.3</td><td>1.4</td><td>0.2</td><td>I.Â setosa</td></tr>,\n",
       " <tr><td>51</td><td>7</td><td>3.2</td><td>4.7</td><td>1.4</td><td>I.Â versicolor</td></tr>,\n",
       " <tr><td>52</td><td>6.4</td><td>3.2</td><td>4.5</td><td>1.5</td><td>I.Â versicolor</td></tr>,\n",
       " <tr><td>53</td><td>6.9</td><td>3.1</td><td>4.9</td><td>1.5</td><td>I.Â versicolor</td></tr>,\n",
       " <tr><td>54</td><td>5.5</td><td>2.3</td><td>4</td><td>1.3</td><td>I.Â versicolor</td></tr>,\n",
       " <tr><td>55</td><td>6.5</td><td>2.8</td><td>4.6</td><td>1.5</td><td>I.Â versicolor</td></tr>,\n",
       " <tr><td>56</td><td>5.7</td><td>2.8</td><td>4.5</td><td>1.3</td><td>I.Â versicolor</td></tr>,\n",
       " <tr><td>57</td><td>6.3</td><td>3.3</td><td>4.7</td><td>1.6</td><td>I.Â versicolor</td></tr>,\n",
       " <tr><td>58</td><td>4.9</td><td>2.4</td><td>3.3</td><td>1</td><td>I.Â versicolor</td></tr>,\n",
       " <tr><td>59</td><td>6.6</td><td>2.9</td><td>4.6</td><td>1.3</td><td>I.Â versicolor</td></tr>,\n",
       " <tr><td>60</td><td>5.2</td><td>2.7</td><td>3.9</td><td>1.4</td><td>I.Â versicolor</td></tr>,\n",
       " <tr><td>61</td><td>5</td><td>2</td><td>3.5</td><td>1</td><td>I.Â versicolor</td></tr>,\n",
       " <tr><td>62</td><td>5.9</td><td>3</td><td>4.2</td><td>1.5</td><td>I.Â versicolor</td></tr>,\n",
       " <tr><td>63</td><td>6</td><td>2.2</td><td>4</td><td>1</td><td>I.Â versicolor</td></tr>,\n",
       " <tr><td>64</td><td>6.1</td><td>2.9</td><td>4.7</td><td>1.4</td><td>I.Â versicolor</td></tr>,\n",
       " <tr><td>65</td><td>5.6</td><td>2.9</td><td>3.6</td><td>1.3</td><td>I.Â versicolor</td></tr>,\n",
       " <tr><td>66</td><td>6.7</td><td>3.1</td><td>4.4</td><td>1.4</td><td>I.Â versicolor</td></tr>,\n",
       " <tr><td>67</td><td>5.6</td><td>3</td><td>4.5</td><td>1.5</td><td>I.Â versicolor</td></tr>,\n",
       " <tr><td>68</td><td>5.8</td><td>2.7</td><td>4.1</td><td>1</td><td>I.Â versicolor</td></tr>,\n",
       " <tr><td>69</td><td>6.2</td><td>2.2</td><td>4.5</td><td>1.5</td><td>I.Â versicolor</td></tr>,\n",
       " <tr><td>70</td><td>5.6</td><td>2.5</td><td>3.9</td><td>1.1</td><td>I.Â versicolor</td></tr>,\n",
       " <tr><td>71</td><td>5.9</td><td>3.2</td><td>4.8</td><td>1.8</td><td>I.Â versicolor</td></tr>,\n",
       " <tr><td>72</td><td>6.1</td><td>2.8</td><td>4</td><td>1.3</td><td>I.Â versicolor</td></tr>,\n",
       " <tr><td>73</td><td>6.3</td><td>2.5</td><td>4.9</td><td>1.5</td><td>I.Â versicolor</td></tr>,\n",
       " <tr><td>74</td><td>6.1</td><td>2.8</td><td>4.7</td><td>1.2</td><td>I.Â versicolor</td></tr>,\n",
       " <tr><td>75</td><td>6.4</td><td>2.9</td><td>4.3</td><td>1.3</td><td>I.Â versicolor</td></tr>,\n",
       " <tr><td>76</td><td>6.6</td><td>3</td><td>4.4</td><td>1.4</td><td>I.Â versicolor</td></tr>,\n",
       " <tr><td>77</td><td>6.8</td><td>2.8</td><td>4.8</td><td>1.4</td><td>I.Â versicolor</td></tr>,\n",
       " <tr><td>78</td><td>6.7</td><td>3</td><td>5</td><td>1.7</td><td>I.Â versicolor</td></tr>,\n",
       " <tr><td>79</td><td>6</td><td>2.9</td><td>4.5</td><td>1.5</td><td>I.Â versicolor</td></tr>,\n",
       " <tr><td>80</td><td>5.7</td><td>2.6</td><td>3.5</td><td>1</td><td>I.Â versicolor</td></tr>,\n",
       " <tr><td>81</td><td>5.5</td><td>2.4</td><td>3.8</td><td>1.1</td><td>I.Â versicolor</td></tr>,\n",
       " <tr><td>82</td><td>5.5</td><td>2.4</td><td>3.7</td><td>1</td><td>I.Â versicolor</td></tr>,\n",
       " <tr><td>83</td><td>5.8</td><td>2.7</td><td>3.9</td><td>1.2</td><td>I.Â versicolor</td></tr>,\n",
       " <tr><td>84</td><td>6</td><td>2.7</td><td>5.1</td><td>1.6</td><td>I.Â versicolor</td></tr>,\n",
       " <tr><td>85</td><td>5.4</td><td>3</td><td>4.5</td><td>1.5</td><td>I.Â versicolor</td></tr>,\n",
       " <tr><td>86</td><td>6</td><td>3.4</td><td>4.5</td><td>1.6</td><td>I.Â versicolor</td></tr>,\n",
       " <tr><td>87</td><td>6.7</td><td>3.1</td><td>4.7</td><td>1.5</td><td>I.Â versicolor</td></tr>,\n",
       " <tr><td>88</td><td>6.3</td><td>2.3</td><td>4.4</td><td>1.3</td><td>I.Â versicolor</td></tr>,\n",
       " <tr><td>89</td><td>5.6</td><td>3</td><td>4.1</td><td>1.3</td><td>I.Â versicolor</td></tr>,\n",
       " <tr><td>90</td><td>5.5</td><td>2.5</td><td>4</td><td>1.3</td><td>I.Â versicolor</td></tr>,\n",
       " <tr><td>91</td><td>5.5</td><td>2.6</td><td>4.4</td><td>1.2</td><td>I.Â versicolor</td></tr>,\n",
       " <tr><td>92</td><td>6.1</td><td>3</td><td>4.6</td><td>1.4</td><td>I.Â versicolor</td></tr>,\n",
       " <tr><td>93</td><td>5.8</td><td>2.6</td><td>4</td><td>1.2</td><td>I.Â versicolor</td></tr>,\n",
       " <tr><td>94</td><td>5</td><td>2.3</td><td>3.3</td><td>1</td><td>I.Â versicolor</td></tr>,\n",
       " <tr><td>95</td><td>5.6</td><td>2.7</td><td>4.2</td><td>1.3</td><td>I.Â versicolor</td></tr>,\n",
       " <tr><td>96</td><td>5.7</td><td>3</td><td>4.2</td><td>1.2</td><td>I.Â versicolor</td></tr>,\n",
       " <tr><td>97</td><td>5.7</td><td>2.9</td><td>4.2</td><td>1.3</td><td>I.Â versicolor</td></tr>,\n",
       " <tr><td>98</td><td>6.2</td><td>2.9</td><td>4.3</td><td>1.3</td><td>I.Â versicolor</td></tr>,\n",
       " <tr><td>99</td><td>5.1</td><td>2.5</td><td>3</td><td>1.1</td><td>I.Â versicolor</td></tr>,\n",
       " <tr><td>100</td><td>5.7</td><td>2.8</td><td>4.1</td><td>1.3</td><td>I.Â versicolor</td></tr>,\n",
       " <tr><td>101</td><td>6.3</td><td>3.3</td><td>6</td><td>2.5</td><td>I.Â virginica</td></tr>,\n",
       " <tr><td>102</td><td>5.8</td><td>2.7</td><td>5.1</td><td>1.9</td><td>I.Â virginica</td></tr>,\n",
       " <tr><td>103</td><td>7.1</td><td>3</td><td>5.9</td><td>2.1</td><td>I.Â virginica</td></tr>,\n",
       " <tr><td>104</td><td>6.3</td><td>2.9</td><td>5.6</td><td>1.8</td><td>I.Â virginica</td></tr>,\n",
       " <tr><td>105</td><td>6.5</td><td>3</td><td>5.8</td><td>2.2</td><td>I.Â virginica</td></tr>,\n",
       " <tr><td>106</td><td>7.6</td><td>3</td><td>6.6</td><td>2.1</td><td>I.Â virginica</td></tr>,\n",
       " <tr><td>107</td><td>4.9</td><td>2.5</td><td>4.5</td><td>1.7</td><td>I.Â virginica</td></tr>,\n",
       " <tr><td>108</td><td>7.3</td><td>2.9</td><td>6.3</td><td>1.8</td><td>I.Â virginica</td></tr>,\n",
       " <tr><td>109</td><td>6.7</td><td>2.5</td><td>5.8</td><td>1.8</td><td>I.Â virginica</td></tr>,\n",
       " <tr><td>110</td><td>7.2</td><td>3.6</td><td>6.1</td><td>2.5</td><td>I.Â virginica</td></tr>,\n",
       " <tr><td>111</td><td>6.5</td><td>3.2</td><td>5.1</td><td>2</td><td>I.Â virginica</td></tr>,\n",
       " <tr><td>112</td><td>6.4</td><td>2.7</td><td>5.3</td><td>1.9</td><td>I.Â virginica</td></tr>,\n",
       " <tr><td>113</td><td>6.8</td><td>3</td><td>5.5</td><td>2.1</td><td>I.Â virginica</td></tr>,\n",
       " <tr><td>114</td><td>5.7</td><td>2.5</td><td>5</td><td>2</td><td>I.Â virginica</td></tr>,\n",
       " <tr><td>115</td><td>5.8</td><td>2.8</td><td>5.1</td><td>2.4</td><td>I.Â virginica</td></tr>,\n",
       " <tr><td>116</td><td>6.4</td><td>3.2</td><td>5.3</td><td>2.3</td><td>I.Â virginica</td></tr>,\n",
       " <tr><td>117</td><td>6.5</td><td>3</td><td>5.5</td><td>1.8</td><td>I.Â virginica</td></tr>,\n",
       " <tr><td>118</td><td>7.7</td><td>3.8</td><td>6.7</td><td>2.2</td><td>I.Â virginica</td></tr>,\n",
       " <tr><td>119</td><td>7.7</td><td>2.6</td><td>6.9</td><td>2.3</td><td>I.Â virginica</td></tr>,\n",
       " <tr><td>120</td><td>6</td><td>2.2</td><td>5</td><td>1.5</td><td>I.Â virginica</td></tr>,\n",
       " <tr><td>121</td><td>6.9</td><td>3.2</td><td>5.7</td><td>2.3</td><td>I.Â virginica</td></tr>,\n",
       " <tr><td>122</td><td>5.6</td><td>2.8</td><td>4.9</td><td>2</td><td>I.Â virginica</td></tr>,\n",
       " <tr><td>123</td><td>7.7</td><td>2.8</td><td>6.7</td><td>2</td><td>I.Â virginica</td></tr>,\n",
       " <tr><td>124</td><td>6.3</td><td>2.7</td><td>4.9</td><td>1.8</td><td>I.Â virginica</td></tr>,\n",
       " <tr><td>125</td><td>6.7</td><td>3.3</td><td>5.7</td><td>2.1</td><td>I.Â virginica</td></tr>,\n",
       " <tr><td>126</td><td>7.2</td><td>3.2</td><td>6</td><td>1.8</td><td>I.Â virginica</td></tr>,\n",
       " <tr><td>127</td><td>6.2</td><td>2.8</td><td>4.8</td><td>1.8</td><td>I.Â virginica</td></tr>,\n",
       " <tr><td>128</td><td>6.1</td><td>3</td><td>4.9</td><td>1.8</td><td>I.Â virginica</td></tr>,\n",
       " <tr><td>129</td><td>6.4</td><td>2.8</td><td>5.6</td><td>2.1</td><td>I.Â virginica</td></tr>,\n",
       " <tr><td>130</td><td>7.2</td><td>3</td><td>5.8</td><td>1.6</td><td>I.Â virginica</td></tr>,\n",
       " <tr><td>131</td><td>7.4</td><td>2.8</td><td>6.1</td><td>1.9</td><td>I.Â virginica</td></tr>,\n",
       " <tr><td>132</td><td>7.9</td><td>3.8</td><td>6.4</td><td>2</td><td>I.Â virginica</td></tr>,\n",
       " <tr><td>133</td><td>6.4</td><td>2.8</td><td>5.6</td><td>2.2</td><td>I.Â virginica</td></tr>,\n",
       " <tr><td>134</td><td>6.3</td><td>2.8</td><td>5.1</td><td>1.5</td><td>I.Â virginica</td></tr>,\n",
       " <tr><td>135</td><td>6.1</td><td>2.6</td><td>5.6</td><td>1.4</td><td>I.Â virginica</td></tr>,\n",
       " <tr><td>136</td><td>7.7</td><td>3</td><td>6.1</td><td>2.3</td><td>I.Â virginica</td></tr>,\n",
       " <tr><td>137</td><td>6.3</td><td>3.4</td><td>5.6</td><td>2.4</td><td>I.Â virginica</td></tr>,\n",
       " <tr><td>138</td><td>6.4</td><td>3.1</td><td>5.5</td><td>1.8</td><td>I.Â virginica</td></tr>,\n",
       " <tr><td>139</td><td>6</td><td>3</td><td>4.8</td><td>1.8</td><td>I.Â virginica</td></tr>,\n",
       " <tr><td>140</td><td>6.9</td><td>3.1</td><td>5.4</td><td>2.1</td><td>I.Â virginica</td></tr>,\n",
       " <tr><td>141</td><td>6.7</td><td>3.1</td><td>5.6</td><td>2.4</td><td>I.Â virginica</td></tr>,\n",
       " <tr><td>142</td><td>6.9</td><td>3.1</td><td>5.1</td><td>2.3</td><td>I.Â virginica</td></tr>,\n",
       " <tr><td>143</td><td>5.8</td><td>2.7</td><td>5.1</td><td>1.9</td><td>I.Â virginica</td></tr>,\n",
       " <tr><td>144</td><td>6.8</td><td>3.2</td><td>5.9</td><td>2.3</td><td>I.Â virginica</td></tr>,\n",
       " <tr><td>145</td><td>6.7</td><td>3.3</td><td>5.7</td><td>2.5</td><td>I.Â virginica</td></tr>,\n",
       " <tr><td>146</td><td>6.7</td><td>3</td><td>5.2</td><td>2.3</td><td>I.Â virginica</td></tr>,\n",
       " <tr><td>147</td><td>6.3</td><td>2.5</td><td>5</td><td>1.9</td><td>I.Â virginica</td></tr>,\n",
       " <tr><td>148</td><td>6.5</td><td>3</td><td>5.2</td><td>2</td><td>I.Â virginica</td></tr>,\n",
       " <tr><td>149</td><td>6.2</td><td>3.4</td><td>5.4</td><td>2.3</td><td>I.Â virginica</td></tr>,\n",
       " <tr><td>150</td><td>5.9</td><td>3</td><td>5.1</td><td>1.8</td><td>I.Â virginica</td></tr>]"
      ]
     },
     "execution_count": 42,
     "metadata": {},
     "output_type": "execute_result"
    }
   ],
   "source": [
    "allRows"
   ]
  },
  {
   "cell_type": "code",
   "execution_count": 44,
   "id": "d8449c04",
   "metadata": {},
   "outputs": [],
   "source": [
    "headers=[header.text for header in first.find_all('th')]"
   ]
  },
  {
   "cell_type": "code",
   "execution_count": 45,
   "id": "501b122d",
   "metadata": {},
   "outputs": [
    {
     "data": {
      "text/plain": [
       "['Dataset Order',\n",
       " 'Sepal length',\n",
       " 'Sepal width',\n",
       " 'Petal length',\n",
       " 'Petal width',\n",
       " 'Species']"
      ]
     },
     "execution_count": 45,
     "metadata": {},
     "output_type": "execute_result"
    }
   ],
   "source": [
    "headers"
   ]
  },
  {
   "cell_type": "code",
   "execution_count": 47,
   "id": "020c7c53",
   "metadata": {},
   "outputs": [],
   "source": [
    "values=[[data.text for data in row.find_all('td')] for row in allRows]"
   ]
  },
  {
   "cell_type": "code",
   "execution_count": 48,
   "id": "76b3320c",
   "metadata": {},
   "outputs": [
    {
     "data": {
      "text/plain": [
       "[['1', '5.1', '3.5', '1.4', '0.2', 'I.Â\\xa0setosa'],\n",
       " ['2', '4.9', '3', '1.4', '0.2', 'I.Â\\xa0setosa'],\n",
       " ['3', '4.7', '3.2', '1.3', '0.2', 'I.Â\\xa0setosa'],\n",
       " ['4', '4.6', '3.1', '1.5', '0.2', 'I.Â\\xa0setosa'],\n",
       " ['5', '5', '3.6', '1.4', '0.3', 'I.Â\\xa0setosa'],\n",
       " ['6', '5.4', '3.9', '1.7', '0.4', 'I.Â\\xa0setosa'],\n",
       " ['7', '4.6', '3.4', '1.4', '0.3', 'I.Â\\xa0setosa'],\n",
       " ['8', '5', '3.4', '1.5', '0.2', 'I.Â\\xa0setosa'],\n",
       " ['9', '4.4', '2.9', '1.4', '0.2', 'I.Â\\xa0setosa'],\n",
       " ['10', '4.9', '3.1', '1.5', '0.1', 'I.Â\\xa0setosa'],\n",
       " ['11', '5.4', '3.7', '1.5', '0.2', 'I.Â\\xa0setosa'],\n",
       " ['12', '4.8', '3.4', '1.6', '0.2', 'I.Â\\xa0setosa'],\n",
       " ['13', '4.8', '3', '1.4', '0.1', 'I.Â\\xa0setosa'],\n",
       " ['14', '4.3', '3', '1.1', '0.1', 'I.Â\\xa0setosa'],\n",
       " ['15', '5.8', '4', '1.2', '0.2', 'I.Â\\xa0setosa'],\n",
       " ['16', '5.7', '4.4', '1.5', '0.4', 'I.Â\\xa0setosa'],\n",
       " ['17', '5.4', '3.9', '1.3', '0.4', 'I.Â\\xa0setosa'],\n",
       " ['18', '5.1', '3.5', '1.4', '0.3', 'I.Â\\xa0setosa'],\n",
       " ['19', '5.7', '3.8', '1.7', '0.3', 'I.Â\\xa0setosa'],\n",
       " ['20', '5.1', '3.8', '1.5', '0.3', 'I.Â\\xa0setosa'],\n",
       " ['21', '5.4', '3.4', '1.7', '0.2', 'I.Â\\xa0setosa'],\n",
       " ['22', '5.1', '3.7', '1.5', '0.4', 'I.Â\\xa0setosa'],\n",
       " ['23', '4.6', '3.6', '1', '0.2', 'I.Â\\xa0setosa'],\n",
       " ['24', '5.1', '3.3', '1.7', '0.5', 'I.Â\\xa0setosa'],\n",
       " ['25', '4.8', '3.4', '1.9', '0.2', 'I.Â\\xa0setosa'],\n",
       " ['26', '5', '3', '1.6', '0.2', 'I.Â\\xa0setosa'],\n",
       " ['27', '5', '3.4', '1.6', '0.4', 'I.Â\\xa0setosa'],\n",
       " ['28', '5.2', '3.5', '1.5', '0.2', 'I.Â\\xa0setosa'],\n",
       " ['29', '5.2', '3.4', '1.4', '0.2', 'I.Â\\xa0setosa'],\n",
       " ['30', '4.7', '3.2', '1.6', '0.2', 'I.Â\\xa0setosa'],\n",
       " ['31', '4.8', '3.1', '1.6', '0.2', 'I.Â\\xa0setosa'],\n",
       " ['32', '5.4', '3.4', '1.5', '0.4', 'I.Â\\xa0setosa'],\n",
       " ['33', '5.2', '4.1', '1.5', '0.1', 'I.Â\\xa0setosa'],\n",
       " ['34', '5.5', '4.2', '1.4', '0.2', 'I.Â\\xa0setosa'],\n",
       " ['35', '4.9', '3.1', '1.5', '0.2', 'I.Â\\xa0setosa'],\n",
       " ['36', '5', '3.2', '1.2', '0.2', 'I.Â\\xa0setosa'],\n",
       " ['37', '5.5', '3.5', '1.3', '0.2', 'I.Â\\xa0setosa'],\n",
       " ['38', '4.9', '3.6', '1.4', '0.1', 'I.Â\\xa0setosa'],\n",
       " ['39', '4.4', '3', '1.3', '0.2', 'I.Â\\xa0setosa'],\n",
       " ['40', '5.1', '3.4', '1.5', '0.2', 'I.Â\\xa0setosa'],\n",
       " ['41', '5', '3.5', '1.3', '0.3', 'I.Â\\xa0setosa'],\n",
       " ['42', '4.5', '2.3', '1.3', '0.3', 'I.Â\\xa0setosa'],\n",
       " ['43', '4.4', '3.2', '1.3', '0.2', 'I.Â\\xa0setosa'],\n",
       " ['44', '5', '3.5', '1.6', '0.6', 'I.Â\\xa0setosa'],\n",
       " ['45', '5.1', '3.8', '1.9', '0.4', 'I.Â\\xa0setosa'],\n",
       " ['46', '4.8', '3', '1.4', '0.3', 'I.Â\\xa0setosa'],\n",
       " ['47', '5.1', '3.8', '1.6', '0.2', 'I.Â\\xa0setosa'],\n",
       " ['48', '4.6', '3.2', '1.4', '0.2', 'I.Â\\xa0setosa'],\n",
       " ['49', '5.3', '3.7', '1.5', '0.2', 'I.Â\\xa0setosa'],\n",
       " ['50', '5', '3.3', '1.4', '0.2', 'I.Â\\xa0setosa'],\n",
       " ['51', '7', '3.2', '4.7', '1.4', 'I.Â\\xa0versicolor'],\n",
       " ['52', '6.4', '3.2', '4.5', '1.5', 'I.Â\\xa0versicolor'],\n",
       " ['53', '6.9', '3.1', '4.9', '1.5', 'I.Â\\xa0versicolor'],\n",
       " ['54', '5.5', '2.3', '4', '1.3', 'I.Â\\xa0versicolor'],\n",
       " ['55', '6.5', '2.8', '4.6', '1.5', 'I.Â\\xa0versicolor'],\n",
       " ['56', '5.7', '2.8', '4.5', '1.3', 'I.Â\\xa0versicolor'],\n",
       " ['57', '6.3', '3.3', '4.7', '1.6', 'I.Â\\xa0versicolor'],\n",
       " ['58', '4.9', '2.4', '3.3', '1', 'I.Â\\xa0versicolor'],\n",
       " ['59', '6.6', '2.9', '4.6', '1.3', 'I.Â\\xa0versicolor'],\n",
       " ['60', '5.2', '2.7', '3.9', '1.4', 'I.Â\\xa0versicolor'],\n",
       " ['61', '5', '2', '3.5', '1', 'I.Â\\xa0versicolor'],\n",
       " ['62', '5.9', '3', '4.2', '1.5', 'I.Â\\xa0versicolor'],\n",
       " ['63', '6', '2.2', '4', '1', 'I.Â\\xa0versicolor'],\n",
       " ['64', '6.1', '2.9', '4.7', '1.4', 'I.Â\\xa0versicolor'],\n",
       " ['65', '5.6', '2.9', '3.6', '1.3', 'I.Â\\xa0versicolor'],\n",
       " ['66', '6.7', '3.1', '4.4', '1.4', 'I.Â\\xa0versicolor'],\n",
       " ['67', '5.6', '3', '4.5', '1.5', 'I.Â\\xa0versicolor'],\n",
       " ['68', '5.8', '2.7', '4.1', '1', 'I.Â\\xa0versicolor'],\n",
       " ['69', '6.2', '2.2', '4.5', '1.5', 'I.Â\\xa0versicolor'],\n",
       " ['70', '5.6', '2.5', '3.9', '1.1', 'I.Â\\xa0versicolor'],\n",
       " ['71', '5.9', '3.2', '4.8', '1.8', 'I.Â\\xa0versicolor'],\n",
       " ['72', '6.1', '2.8', '4', '1.3', 'I.Â\\xa0versicolor'],\n",
       " ['73', '6.3', '2.5', '4.9', '1.5', 'I.Â\\xa0versicolor'],\n",
       " ['74', '6.1', '2.8', '4.7', '1.2', 'I.Â\\xa0versicolor'],\n",
       " ['75', '6.4', '2.9', '4.3', '1.3', 'I.Â\\xa0versicolor'],\n",
       " ['76', '6.6', '3', '4.4', '1.4', 'I.Â\\xa0versicolor'],\n",
       " ['77', '6.8', '2.8', '4.8', '1.4', 'I.Â\\xa0versicolor'],\n",
       " ['78', '6.7', '3', '5', '1.7', 'I.Â\\xa0versicolor'],\n",
       " ['79', '6', '2.9', '4.5', '1.5', 'I.Â\\xa0versicolor'],\n",
       " ['80', '5.7', '2.6', '3.5', '1', 'I.Â\\xa0versicolor'],\n",
       " ['81', '5.5', '2.4', '3.8', '1.1', 'I.Â\\xa0versicolor'],\n",
       " ['82', '5.5', '2.4', '3.7', '1', 'I.Â\\xa0versicolor'],\n",
       " ['83', '5.8', '2.7', '3.9', '1.2', 'I.Â\\xa0versicolor'],\n",
       " ['84', '6', '2.7', '5.1', '1.6', 'I.Â\\xa0versicolor'],\n",
       " ['85', '5.4', '3', '4.5', '1.5', 'I.Â\\xa0versicolor'],\n",
       " ['86', '6', '3.4', '4.5', '1.6', 'I.Â\\xa0versicolor'],\n",
       " ['87', '6.7', '3.1', '4.7', '1.5', 'I.Â\\xa0versicolor'],\n",
       " ['88', '6.3', '2.3', '4.4', '1.3', 'I.Â\\xa0versicolor'],\n",
       " ['89', '5.6', '3', '4.1', '1.3', 'I.Â\\xa0versicolor'],\n",
       " ['90', '5.5', '2.5', '4', '1.3', 'I.Â\\xa0versicolor'],\n",
       " ['91', '5.5', '2.6', '4.4', '1.2', 'I.Â\\xa0versicolor'],\n",
       " ['92', '6.1', '3', '4.6', '1.4', 'I.Â\\xa0versicolor'],\n",
       " ['93', '5.8', '2.6', '4', '1.2', 'I.Â\\xa0versicolor'],\n",
       " ['94', '5', '2.3', '3.3', '1', 'I.Â\\xa0versicolor'],\n",
       " ['95', '5.6', '2.7', '4.2', '1.3', 'I.Â\\xa0versicolor'],\n",
       " ['96', '5.7', '3', '4.2', '1.2', 'I.Â\\xa0versicolor'],\n",
       " ['97', '5.7', '2.9', '4.2', '1.3', 'I.Â\\xa0versicolor'],\n",
       " ['98', '6.2', '2.9', '4.3', '1.3', 'I.Â\\xa0versicolor'],\n",
       " ['99', '5.1', '2.5', '3', '1.1', 'I.Â\\xa0versicolor'],\n",
       " ['100', '5.7', '2.8', '4.1', '1.3', 'I.Â\\xa0versicolor'],\n",
       " ['101', '6.3', '3.3', '6', '2.5', 'I.Â\\xa0virginica'],\n",
       " ['102', '5.8', '2.7', '5.1', '1.9', 'I.Â\\xa0virginica'],\n",
       " ['103', '7.1', '3', '5.9', '2.1', 'I.Â\\xa0virginica'],\n",
       " ['104', '6.3', '2.9', '5.6', '1.8', 'I.Â\\xa0virginica'],\n",
       " ['105', '6.5', '3', '5.8', '2.2', 'I.Â\\xa0virginica'],\n",
       " ['106', '7.6', '3', '6.6', '2.1', 'I.Â\\xa0virginica'],\n",
       " ['107', '4.9', '2.5', '4.5', '1.7', 'I.Â\\xa0virginica'],\n",
       " ['108', '7.3', '2.9', '6.3', '1.8', 'I.Â\\xa0virginica'],\n",
       " ['109', '6.7', '2.5', '5.8', '1.8', 'I.Â\\xa0virginica'],\n",
       " ['110', '7.2', '3.6', '6.1', '2.5', 'I.Â\\xa0virginica'],\n",
       " ['111', '6.5', '3.2', '5.1', '2', 'I.Â\\xa0virginica'],\n",
       " ['112', '6.4', '2.7', '5.3', '1.9', 'I.Â\\xa0virginica'],\n",
       " ['113', '6.8', '3', '5.5', '2.1', 'I.Â\\xa0virginica'],\n",
       " ['114', '5.7', '2.5', '5', '2', 'I.Â\\xa0virginica'],\n",
       " ['115', '5.8', '2.8', '5.1', '2.4', 'I.Â\\xa0virginica'],\n",
       " ['116', '6.4', '3.2', '5.3', '2.3', 'I.Â\\xa0virginica'],\n",
       " ['117', '6.5', '3', '5.5', '1.8', 'I.Â\\xa0virginica'],\n",
       " ['118', '7.7', '3.8', '6.7', '2.2', 'I.Â\\xa0virginica'],\n",
       " ['119', '7.7', '2.6', '6.9', '2.3', 'I.Â\\xa0virginica'],\n",
       " ['120', '6', '2.2', '5', '1.5', 'I.Â\\xa0virginica'],\n",
       " ['121', '6.9', '3.2', '5.7', '2.3', 'I.Â\\xa0virginica'],\n",
       " ['122', '5.6', '2.8', '4.9', '2', 'I.Â\\xa0virginica'],\n",
       " ['123', '7.7', '2.8', '6.7', '2', 'I.Â\\xa0virginica'],\n",
       " ['124', '6.3', '2.7', '4.9', '1.8', 'I.Â\\xa0virginica'],\n",
       " ['125', '6.7', '3.3', '5.7', '2.1', 'I.Â\\xa0virginica'],\n",
       " ['126', '7.2', '3.2', '6', '1.8', 'I.Â\\xa0virginica'],\n",
       " ['127', '6.2', '2.8', '4.8', '1.8', 'I.Â\\xa0virginica'],\n",
       " ['128', '6.1', '3', '4.9', '1.8', 'I.Â\\xa0virginica'],\n",
       " ['129', '6.4', '2.8', '5.6', '2.1', 'I.Â\\xa0virginica'],\n",
       " ['130', '7.2', '3', '5.8', '1.6', 'I.Â\\xa0virginica'],\n",
       " ['131', '7.4', '2.8', '6.1', '1.9', 'I.Â\\xa0virginica'],\n",
       " ['132', '7.9', '3.8', '6.4', '2', 'I.Â\\xa0virginica'],\n",
       " ['133', '6.4', '2.8', '5.6', '2.2', 'I.Â\\xa0virginica'],\n",
       " ['134', '6.3', '2.8', '5.1', '1.5', 'I.Â\\xa0virginica'],\n",
       " ['135', '6.1', '2.6', '5.6', '1.4', 'I.Â\\xa0virginica'],\n",
       " ['136', '7.7', '3', '6.1', '2.3', 'I.Â\\xa0virginica'],\n",
       " ['137', '6.3', '3.4', '5.6', '2.4', 'I.Â\\xa0virginica'],\n",
       " ['138', '6.4', '3.1', '5.5', '1.8', 'I.Â\\xa0virginica'],\n",
       " ['139', '6', '3', '4.8', '1.8', 'I.Â\\xa0virginica'],\n",
       " ['140', '6.9', '3.1', '5.4', '2.1', 'I.Â\\xa0virginica'],\n",
       " ['141', '6.7', '3.1', '5.6', '2.4', 'I.Â\\xa0virginica'],\n",
       " ['142', '6.9', '3.1', '5.1', '2.3', 'I.Â\\xa0virginica'],\n",
       " ['143', '5.8', '2.7', '5.1', '1.9', 'I.Â\\xa0virginica'],\n",
       " ['144', '6.8', '3.2', '5.9', '2.3', 'I.Â\\xa0virginica'],\n",
       " ['145', '6.7', '3.3', '5.7', '2.5', 'I.Â\\xa0virginica'],\n",
       " ['146', '6.7', '3', '5.2', '2.3', 'I.Â\\xa0virginica'],\n",
       " ['147', '6.3', '2.5', '5', '1.9', 'I.Â\\xa0virginica'],\n",
       " ['148', '6.5', '3', '5.2', '2', 'I.Â\\xa0virginica'],\n",
       " ['149', '6.2', '3.4', '5.4', '2.3', 'I.Â\\xa0virginica'],\n",
       " ['150', '5.9', '3', '5.1', '1.8', 'I.Â\\xa0virginica']]"
      ]
     },
     "execution_count": 48,
     "metadata": {},
     "output_type": "execute_result"
    }
   ],
   "source": [
    "values"
   ]
  },
  {
   "cell_type": "code",
   "execution_count": 49,
   "id": "4bae7cfa",
   "metadata": {},
   "outputs": [
    {
     "data": {
      "text/plain": [
       "[['1', '5.1', '3.5', '1.4', '0.2', 'I.Â\\xa0setosa'],\n",
       " ['2', '4.9', '3', '1.4', '0.2', 'I.Â\\xa0setosa']]"
      ]
     },
     "execution_count": 49,
     "metadata": {},
     "output_type": "execute_result"
    }
   ],
   "source": [
    "values[:2]"
   ]
  },
  {
   "cell_type": "code",
   "execution_count": 50,
   "id": "b998f304",
   "metadata": {},
   "outputs": [],
   "source": [
    "import pandas as pd"
   ]
  },
  {
   "cell_type": "code",
   "execution_count": 51,
   "id": "84864f68",
   "metadata": {},
   "outputs": [],
   "source": [
    "df=pd.DataFrame(data=values,columns=headers)"
   ]
  },
  {
   "cell_type": "code",
   "execution_count": 52,
   "id": "15377b6e",
   "metadata": {},
   "outputs": [
    {
     "data": {
      "text/html": [
       "<div>\n",
       "<style scoped>\n",
       "    .dataframe tbody tr th:only-of-type {\n",
       "        vertical-align: middle;\n",
       "    }\n",
       "\n",
       "    .dataframe tbody tr th {\n",
       "        vertical-align: top;\n",
       "    }\n",
       "\n",
       "    .dataframe thead th {\n",
       "        text-align: right;\n",
       "    }\n",
       "</style>\n",
       "<table border=\"1\" class=\"dataframe\">\n",
       "  <thead>\n",
       "    <tr style=\"text-align: right;\">\n",
       "      <th></th>\n",
       "      <th>Dataset Order</th>\n",
       "      <th>Sepal length</th>\n",
       "      <th>Sepal width</th>\n",
       "      <th>Petal length</th>\n",
       "      <th>Petal width</th>\n",
       "      <th>Species</th>\n",
       "    </tr>\n",
       "  </thead>\n",
       "  <tbody>\n",
       "    <tr>\n",
       "      <th>0</th>\n",
       "      <td>1</td>\n",
       "      <td>5.1</td>\n",
       "      <td>3.5</td>\n",
       "      <td>1.4</td>\n",
       "      <td>0.2</td>\n",
       "      <td>I.Â setosa</td>\n",
       "    </tr>\n",
       "    <tr>\n",
       "      <th>1</th>\n",
       "      <td>2</td>\n",
       "      <td>4.9</td>\n",
       "      <td>3</td>\n",
       "      <td>1.4</td>\n",
       "      <td>0.2</td>\n",
       "      <td>I.Â setosa</td>\n",
       "    </tr>\n",
       "    <tr>\n",
       "      <th>2</th>\n",
       "      <td>3</td>\n",
       "      <td>4.7</td>\n",
       "      <td>3.2</td>\n",
       "      <td>1.3</td>\n",
       "      <td>0.2</td>\n",
       "      <td>I.Â setosa</td>\n",
       "    </tr>\n",
       "    <tr>\n",
       "      <th>3</th>\n",
       "      <td>4</td>\n",
       "      <td>4.6</td>\n",
       "      <td>3.1</td>\n",
       "      <td>1.5</td>\n",
       "      <td>0.2</td>\n",
       "      <td>I.Â setosa</td>\n",
       "    </tr>\n",
       "    <tr>\n",
       "      <th>4</th>\n",
       "      <td>5</td>\n",
       "      <td>5</td>\n",
       "      <td>3.6</td>\n",
       "      <td>1.4</td>\n",
       "      <td>0.3</td>\n",
       "      <td>I.Â setosa</td>\n",
       "    </tr>\n",
       "    <tr>\n",
       "      <th>...</th>\n",
       "      <td>...</td>\n",
       "      <td>...</td>\n",
       "      <td>...</td>\n",
       "      <td>...</td>\n",
       "      <td>...</td>\n",
       "      <td>...</td>\n",
       "    </tr>\n",
       "    <tr>\n",
       "      <th>145</th>\n",
       "      <td>146</td>\n",
       "      <td>6.7</td>\n",
       "      <td>3</td>\n",
       "      <td>5.2</td>\n",
       "      <td>2.3</td>\n",
       "      <td>I.Â virginica</td>\n",
       "    </tr>\n",
       "    <tr>\n",
       "      <th>146</th>\n",
       "      <td>147</td>\n",
       "      <td>6.3</td>\n",
       "      <td>2.5</td>\n",
       "      <td>5</td>\n",
       "      <td>1.9</td>\n",
       "      <td>I.Â virginica</td>\n",
       "    </tr>\n",
       "    <tr>\n",
       "      <th>147</th>\n",
       "      <td>148</td>\n",
       "      <td>6.5</td>\n",
       "      <td>3</td>\n",
       "      <td>5.2</td>\n",
       "      <td>2</td>\n",
       "      <td>I.Â virginica</td>\n",
       "    </tr>\n",
       "    <tr>\n",
       "      <th>148</th>\n",
       "      <td>149</td>\n",
       "      <td>6.2</td>\n",
       "      <td>3.4</td>\n",
       "      <td>5.4</td>\n",
       "      <td>2.3</td>\n",
       "      <td>I.Â virginica</td>\n",
       "    </tr>\n",
       "    <tr>\n",
       "      <th>149</th>\n",
       "      <td>150</td>\n",
       "      <td>5.9</td>\n",
       "      <td>3</td>\n",
       "      <td>5.1</td>\n",
       "      <td>1.8</td>\n",
       "      <td>I.Â virginica</td>\n",
       "    </tr>\n",
       "  </tbody>\n",
       "</table>\n",
       "<p>150 rows × 6 columns</p>\n",
       "</div>"
      ],
      "text/plain": [
       "    Dataset Order Sepal length Sepal width Petal length Petal width  \\\n",
       "0               1          5.1         3.5          1.4         0.2   \n",
       "1               2          4.9           3          1.4         0.2   \n",
       "2               3          4.7         3.2          1.3         0.2   \n",
       "3               4          4.6         3.1          1.5         0.2   \n",
       "4               5            5         3.6          1.4         0.3   \n",
       "..            ...          ...         ...          ...         ...   \n",
       "145           146          6.7           3          5.2         2.3   \n",
       "146           147          6.3         2.5            5         1.9   \n",
       "147           148          6.5           3          5.2           2   \n",
       "148           149          6.2         3.4          5.4         2.3   \n",
       "149           150          5.9           3          5.1         1.8   \n",
       "\n",
       "           Species  \n",
       "0       I.Â setosa  \n",
       "1       I.Â setosa  \n",
       "2       I.Â setosa  \n",
       "3       I.Â setosa  \n",
       "4       I.Â setosa  \n",
       "..             ...  \n",
       "145  I.Â virginica  \n",
       "146  I.Â virginica  \n",
       "147  I.Â virginica  \n",
       "148  I.Â virginica  \n",
       "149  I.Â virginica  \n",
       "\n",
       "[150 rows x 6 columns]"
      ]
     },
     "execution_count": 52,
     "metadata": {},
     "output_type": "execute_result"
    }
   ],
   "source": [
    "df"
   ]
  },
  {
   "cell_type": "code",
   "execution_count": 53,
   "id": "0923bc58",
   "metadata": {},
   "outputs": [],
   "source": [
    "cols=['Dataset Order','Sepal length','Sepal width','Petal length','Petal width']"
   ]
  },
  {
   "cell_type": "code",
   "execution_count": 54,
   "id": "3092daed",
   "metadata": {},
   "outputs": [],
   "source": [
    "df[cols]=df[cols].apply(pd.to_numeric,errors='coerce')"
   ]
  },
  {
   "cell_type": "code",
   "execution_count": 60,
   "id": "02c8bf98",
   "metadata": {},
   "outputs": [],
   "source": [
    "df['Species']=df['Species'].map(lambda x:x.replace('\\xa0',' '))"
   ]
  },
  {
   "cell_type": "code",
   "execution_count": 58,
   "id": "0d71b713",
   "metadata": {},
   "outputs": [],
   "source": [
    "df['Species']=df['Species'].map(lambda x:x.replace('\\n',''))"
   ]
  },
  {
   "cell_type": "code",
   "execution_count": 61,
   "id": "e0b83e58",
   "metadata": {},
   "outputs": [
    {
     "data": {
      "text/plain": [
       "<title>Flower - Wikipedia</title>"
      ]
     },
     "execution_count": 61,
     "metadata": {},
     "output_type": "execute_result"
    }
   ],
   "source": [
    "web.title"
   ]
  },
  {
   "cell_type": "code",
   "execution_count": 62,
   "id": "d0061167",
   "metadata": {},
   "outputs": [
    {
     "data": {
      "text/plain": [
       "<h1 class=\"firstHeading mw-first-heading\" id=\"firstHeading\"><span class=\"mw-page-title-main\">Flower</span></h1>"
      ]
     },
     "execution_count": 62,
     "metadata": {},
     "output_type": "execute_result"
    }
   ],
   "source": [
    "web.h1"
   ]
  },
  {
   "cell_type": "code",
   "execution_count": 64,
   "id": "8a5df729",
   "metadata": {},
   "outputs": [
    {
     "data": {
      "text/plain": [
       "<p class=\"mw-empty-elt\">\n",
       "</p>"
      ]
     },
     "execution_count": 64,
     "metadata": {},
     "output_type": "execute_result"
    }
   ],
   "source": [
    "web.find('p')"
   ]
  },
  {
   "cell_type": "code",
   "execution_count": 65,
   "id": "2d194f05",
   "metadata": {},
   "outputs": [
    {
     "data": {
      "text/plain": [
       "<div class=\"vector-header-container\">\n",
       "<header class=\"vector-header mw-header\">\n",
       "<div class=\"vector-header-start\">\n",
       "<nav aria-label=\"Site\" class=\"vector-main-menu-landmark\" role=\"navigation\">\n",
       "<div class=\"vector-dropdown vector-main-menu-dropdown vector-button-flush-left vector-button-flush-right\" id=\"vector-main-menu-dropdown\">\n",
       "<input aria-haspopup=\"true\" aria-label=\"Main menu\" class=\"vector-dropdown-checkbox\" data-event-name=\"ui.dropdown-vector-main-menu-dropdown\" id=\"vector-main-menu-dropdown-checkbox\" role=\"button\" type=\"checkbox\"/>\n",
       "<label aria-hidden=\"true\" class=\"vector-dropdown-label cdx-button cdx-button--fake-button cdx-button--fake-button--enabled cdx-button--weight-quiet cdx-button--icon-only\" for=\"vector-main-menu-dropdown-checkbox\" id=\"vector-main-menu-dropdown-label\"><span class=\"vector-icon mw-ui-icon-menu mw-ui-icon-wikimedia-menu\"></span>\n",
       "<span class=\"vector-dropdown-label-text\">Main menu</span>\n",
       "</label>\n",
       "<div class=\"vector-dropdown-content\">\n",
       "<div class=\"vector-unpinned-container\" id=\"vector-main-menu-unpinned-container\">\n",
       "<div class=\"vector-main-menu vector-pinnable-element\" id=\"vector-main-menu\">\n",
       "<div class=\"vector-pinnable-header vector-main-menu-pinnable-header vector-pinnable-header-unpinned\" data-feature-name=\"main-menu-pinned\" data-pinnable-element-id=\"vector-main-menu\" data-pinned-container-id=\"vector-main-menu-pinned-container\" data-unpinned-container-id=\"vector-main-menu-unpinned-container\">\n",
       "<div class=\"vector-pinnable-header-label\">Main menu</div>\n",
       "<button class=\"vector-pinnable-header-toggle-button vector-pinnable-header-pin-button\" data-event-name=\"pinnable-header.vector-main-menu.pin\">move to sidebar</button>\n",
       "<button class=\"vector-pinnable-header-toggle-button vector-pinnable-header-unpin-button\" data-event-name=\"pinnable-header.vector-main-menu.unpin\">hide</button>\n",
       "</div>\n",
       "<div class=\"vector-menu mw-portlet mw-portlet-navigation\" id=\"p-navigation\">\n",
       "<div class=\"vector-menu-heading\">\n",
       "\t\tNavigation\n",
       "\t</div>\n",
       "<div class=\"vector-menu-content\">\n",
       "<ul class=\"vector-menu-content-list\">\n",
       "<li class=\"mw-list-item\" id=\"n-mainpage-description\"><a accesskey=\"z\" href=\"/wiki/Main_Page\" title=\"Visit the main page [z]\"><span>Main page</span></a></li><li class=\"mw-list-item\" id=\"n-contents\"><a href=\"/wiki/Wikipedia:Contents\" title=\"Guides to browsing Wikipedia\"><span>Contents</span></a></li><li class=\"mw-list-item\" id=\"n-currentevents\"><a href=\"/wiki/Portal:Current_events\" title=\"Articles related to current events\"><span>Current events</span></a></li><li class=\"mw-list-item\" id=\"n-randompage\"><a accesskey=\"x\" href=\"/wiki/Special:Random\" title=\"Visit a randomly selected article [x]\"><span>Random article</span></a></li><li class=\"mw-list-item\" id=\"n-aboutsite\"><a href=\"/wiki/Wikipedia:About\" title=\"Learn about Wikipedia and how it works\"><span>About Wikipedia</span></a></li><li class=\"mw-list-item\" id=\"n-contactpage\"><a href=\"//en.wikipedia.org/wiki/Wikipedia:Contact_us\" title=\"How to contact Wikipedia\"><span>Contact us</span></a></li><li class=\"mw-list-item\" id=\"n-sitesupport\"><a href=\"https://donate.wikimedia.org/wiki/Special:FundraiserRedirector?utm_source=donate&amp;utm_medium=sidebar&amp;utm_campaign=C13_en.wikipedia.org&amp;uselang=en\" title=\"Support us by donating to the Wikimedia Foundation\"><span>Donate</span></a></li>\n",
       "</ul>\n",
       "</div>\n",
       "</div>\n",
       "<div class=\"vector-menu mw-portlet mw-portlet-interaction\" id=\"p-interaction\">\n",
       "<div class=\"vector-menu-heading\">\n",
       "\t\tContribute\n",
       "\t</div>\n",
       "<div class=\"vector-menu-content\">\n",
       "<ul class=\"vector-menu-content-list\">\n",
       "<li class=\"mw-list-item\" id=\"n-help\"><a href=\"/wiki/Help:Contents\" title=\"Guidance on how to use and edit Wikipedia\"><span>Help</span></a></li><li class=\"mw-list-item\" id=\"n-introduction\"><a href=\"/wiki/Help:Introduction\" title=\"Learn how to edit Wikipedia\"><span>Learn to edit</span></a></li><li class=\"mw-list-item\" id=\"n-portal\"><a href=\"/wiki/Wikipedia:Community_portal\" title=\"The hub for editors\"><span>Community portal</span></a></li><li class=\"mw-list-item\" id=\"n-recentchanges\"><a accesskey=\"r\" href=\"/wiki/Special:RecentChanges\" title=\"A list of recent changes to Wikipedia [r]\"><span>Recent changes</span></a></li><li class=\"mw-list-item\" id=\"n-upload\"><a href=\"/wiki/Wikipedia:File_upload_wizard\" title=\"Add images or other media for use on Wikipedia\"><span>Upload file</span></a></li>\n",
       "</ul>\n",
       "</div>\n",
       "</div>\n",
       "</div>\n",
       "</div>\n",
       "</div>\n",
       "</div>\n",
       "</nav>\n",
       "<a class=\"mw-logo\" href=\"/wiki/Main_Page\">\n",
       "<img alt=\"\" aria-hidden=\"true\" class=\"mw-logo-icon\" height=\"50\" src=\"/static/images/icons/wikipedia.png\" width=\"50\"/>\n",
       "<span class=\"mw-logo-container\">\n",
       "<img alt=\"Wikipedia\" class=\"mw-logo-wordmark\" src=\"/static/images/mobile/copyright/wikipedia-wordmark-en.svg\" style=\"width: 7.5em; height: 1.125em;\"/>\n",
       "<img alt=\"The Free Encyclopedia\" class=\"mw-logo-tagline\" height=\"13\" src=\"/static/images/mobile/copyright/wikipedia-tagline-en.svg\" style=\"width: 7.3125em; height: 0.8125em;\" width=\"117\"/>\n",
       "</span>\n",
       "</a>\n",
       "</div>\n",
       "<div class=\"vector-header-end\">\n",
       "<div class=\"vector-search-box-vue vector-search-box-collapses vector-search-box-show-thumbnail vector-search-box-auto-expand-width vector-search-box\" id=\"p-search\" role=\"search\">\n",
       "<a accesskey=\"f\" class=\"cdx-button cdx-button--fake-button cdx-button--fake-button--enabled cdx-button--weight-quiet cdx-button--icon-only search-toggle\" href=\"/wiki/Special:Search\" id=\"\" title=\"Search Wikipedia [f]\"><span class=\"vector-icon mw-ui-icon-search mw-ui-icon-wikimedia-search\"></span>\n",
       "<span>Search</span>\n",
       "</a>\n",
       "<div class=\"vector-typeahead-search-container\">\n",
       "<div class=\"cdx-typeahead-search cdx-typeahead-search--show-thumbnail cdx-typeahead-search--auto-expand-width\">\n",
       "<form action=\"/w/index.php\" class=\"cdx-search-input cdx-search-input--has-end-button\" id=\"searchform\">\n",
       "<div class=\"cdx-search-input__input-wrapper\" data-search-loc=\"header-moved\" id=\"simpleSearch\">\n",
       "<div class=\"cdx-text-input cdx-text-input--has-start-icon\">\n",
       "<input accesskey=\"f\" aria-label=\"Search Wikipedia\" autocapitalize=\"sentences\" class=\"cdx-text-input__input\" id=\"searchInput\" name=\"search\" placeholder=\"Search Wikipedia\" title=\"Search Wikipedia [f]\" type=\"search\"/>\n",
       "<span class=\"cdx-text-input__icon cdx-text-input__start-icon\"></span>\n",
       "</div>\n",
       "<input name=\"title\" type=\"hidden\" value=\"Special:Search\"/>\n",
       "</div>\n",
       "<button class=\"cdx-button cdx-search-input__end-button\">Search</button>\n",
       "</form>\n",
       "</div>\n",
       "</div>\n",
       "</div>\n",
       "<nav aria-label=\"Personal tools\" class=\"vector-user-links vector-user-links-wide\" role=\"navigation\">\n",
       "<div class=\"vector-user-links-main\">\n",
       "<div class=\"vector-menu mw-portlet emptyPortlet\" id=\"p-vector-user-menu-preferences\">\n",
       "<div class=\"vector-menu-content\">\n",
       "<ul class=\"vector-menu-content-list\">\n",
       "</ul>\n",
       "</div>\n",
       "</div>\n",
       "<div class=\"vector-menu mw-portlet emptyPortlet\" id=\"p-vector-user-menu-userpage\">\n",
       "<div class=\"vector-menu-content\">\n",
       "<ul class=\"vector-menu-content-list\">\n",
       "</ul>\n",
       "</div>\n",
       "</div>\n",
       "<nav aria-label=\"Appearance\" class=\"vector-client-prefs-landmark\">\n",
       "</nav>\n",
       "<div class=\"vector-menu mw-portlet emptyPortlet\" id=\"p-vector-user-menu-notifications\">\n",
       "<div class=\"vector-menu-content\">\n",
       "<ul class=\"vector-menu-content-list\">\n",
       "</ul>\n",
       "</div>\n",
       "</div>\n",
       "<div class=\"vector-menu mw-portlet\" id=\"p-vector-user-menu-overflow\">\n",
       "<div class=\"vector-menu-content\">\n",
       "<ul class=\"vector-menu-content-list\">\n",
       "<li class=\"user-links-collapsible-item mw-list-item user-links-collapsible-item\" id=\"pt-createaccount-2\"><a class=\"\" data-mw=\"interface\" href=\"/w/index.php?title=Special:CreateAccount&amp;returnto=Flower\" title=\"You are encouraged to create an account and log in; however, it is not mandatory\"><span>Create account</span></a>\n",
       "</li>\n",
       "<li class=\"user-links-collapsible-item mw-list-item user-links-collapsible-item\" id=\"pt-login-2\"><a accesskey=\"o\" class=\"\" data-mw=\"interface\" href=\"/w/index.php?title=Special:UserLogin&amp;returnto=Flower\" title=\"You're encouraged to log in; however, it's not mandatory. [o]\"><span>Log in</span></a>\n",
       "</li>\n",
       "</ul>\n",
       "</div>\n",
       "</div>\n",
       "</div>\n",
       "<div class=\"vector-dropdown vector-user-menu vector-button-flush-right vector-user-menu-logged-out\" id=\"vector-user-links-dropdown\" title=\"Log in and more options\">\n",
       "<input aria-haspopup=\"true\" aria-label=\"Personal tools\" class=\"vector-dropdown-checkbox\" data-event-name=\"ui.dropdown-vector-user-links-dropdown\" id=\"vector-user-links-dropdown-checkbox\" role=\"button\" type=\"checkbox\"/>\n",
       "<label aria-hidden=\"true\" class=\"vector-dropdown-label cdx-button cdx-button--fake-button cdx-button--fake-button--enabled cdx-button--weight-quiet cdx-button--icon-only\" for=\"vector-user-links-dropdown-checkbox\" id=\"vector-user-links-dropdown-label\"><span class=\"vector-icon mw-ui-icon-ellipsis mw-ui-icon-wikimedia-ellipsis\"></span>\n",
       "<span class=\"vector-dropdown-label-text\">Personal tools</span>\n",
       "</label>\n",
       "<div class=\"vector-dropdown-content\">\n",
       "<div class=\"vector-menu mw-portlet mw-portlet-personal user-links-collapsible-item\" id=\"p-personal\" title=\"User menu\">\n",
       "<div class=\"vector-menu-content\">\n",
       "<ul class=\"vector-menu-content-list\">\n",
       "<li class=\"user-links-collapsible-item mw-list-item\" id=\"pt-createaccount\"><a href=\"/w/index.php?title=Special:CreateAccount&amp;returnto=Flower\" title=\"You are encouraged to create an account and log in; however, it is not mandatory\"><span class=\"vector-icon mw-ui-icon-userAdd mw-ui-icon-wikimedia-userAdd\"></span> <span>Create account</span></a></li><li class=\"user-links-collapsible-item mw-list-item\" id=\"pt-login\"><a accesskey=\"o\" href=\"/w/index.php?title=Special:UserLogin&amp;returnto=Flower\" title=\"You're encouraged to log in; however, it's not mandatory. [o]\"><span class=\"vector-icon mw-ui-icon-logIn mw-ui-icon-wikimedia-logIn\"></span> <span>Log in</span></a></li>\n",
       "</ul>\n",
       "</div>\n",
       "</div>\n",
       "<div class=\"vector-menu mw-portlet mw-portlet-user-menu-anon-editor\" id=\"p-user-menu-anon-editor\">\n",
       "<div class=\"vector-menu-heading\">\n",
       "\t\tPages for logged out editors <a aria-label=\"Learn more about editing\" href=\"/wiki/Help:Introduction\"><span>learn more</span></a>\n",
       "</div>\n",
       "<div class=\"vector-menu-content\">\n",
       "<ul class=\"vector-menu-content-list\">\n",
       "<li class=\"mw-list-item\" id=\"pt-anoncontribs\"><a accesskey=\"y\" href=\"/wiki/Special:MyContributions\" title=\"A list of edits made from this IP address [y]\"><span>Contributions</span></a></li><li class=\"mw-list-item\" id=\"pt-anontalk\"><a accesskey=\"n\" href=\"/wiki/Special:MyTalk\" title=\"Discussion about edits from this IP address [n]\"><span>Talk</span></a></li>\n",
       "</ul>\n",
       "</div>\n",
       "</div>\n",
       "</div>\n",
       "</div>\n",
       "</nav>\n",
       "</div>\n",
       "</header>\n",
       "</div>"
      ]
     },
     "execution_count": 65,
     "metadata": {},
     "output_type": "execute_result"
    }
   ],
   "source": [
    "web.find('div')"
   ]
  },
  {
   "cell_type": "code",
   "execution_count": null,
   "id": "9cabc12a",
   "metadata": {},
   "outputs": [],
   "source": []
  }
 ],
 "metadata": {
  "kernelspec": {
   "display_name": "Python 3",
   "language": "python",
   "name": "python3"
  },
  "language_info": {
   "codemirror_mode": {
    "name": "ipython",
    "version": 3
   },
   "file_extension": ".py",
   "mimetype": "text/x-python",
   "name": "python",
   "nbconvert_exporter": "python",
   "pygments_lexer": "ipython3",
   "version": "3.11.5"
  }
 },
 "nbformat": 4,
 "nbformat_minor": 5
}
