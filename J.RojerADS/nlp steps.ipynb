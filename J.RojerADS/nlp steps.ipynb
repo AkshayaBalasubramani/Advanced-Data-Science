{
 "cells": [
  {
   "cell_type": "code",
   "execution_count": 13,
   "id": "55be8281",
   "metadata": {},
   "outputs": [],
   "source": [
    "from bs4 import BeautifulSoup\n",
    "from urllib.request import urlopen\n",
    "import nltk\n",
    "\n",
    "\n",
    "wp='https://www.presidency.ucsb.edu/documents/address-before-joint-session-the-congress-1'\n",
    "pageSource = urlopen(wp).read()\n",
    "pa= BeautifulSoup(pageSource, 'lxml')\n"
   ]
  },
  {
   "cell_type": "code",
   "execution_count": 6,
   "id": "168b60c8",
   "metadata": {},
   "outputs": [],
   "source": [
    "main=pa.find('div',class_=\"main-container container\")"
   ]
  },
  {
   "cell_type": "code",
   "execution_count": 7,
   "id": "60603b68",
   "metadata": {},
   "outputs": [],
   "source": [
    "content=main.find(\"div\",class_=\"field-docs-content\")"
   ]
  },
  {
   "cell_type": "code",
   "execution_count": 8,
   "id": "4dadce72",
   "metadata": {},
   "outputs": [],
   "source": [
    "content_p=content.find_all('p')"
   ]
  },
  {
   "cell_type": "code",
   "execution_count": 10,
   "id": "cfdb53d9",
   "metadata": {},
   "outputs": [],
   "source": [
    "paragraphs = [p.get_text().strip() for p in\n",
    "content_p]\n",
    "speech = '\\n'.join(paragraphs)\n"
   ]
  },
  {
   "cell_type": "code",
   "execution_count": 11,
   "id": "ab289cb4",
   "metadata": {},
   "outputs": [],
   "source": [
    "with open('obama2009.txt','wb') as f:\n",
    "    f.write(speech.encode())"
   ]
  },
  {
   "cell_type": "code",
   "execution_count": 16,
   "id": "9ecffe54",
   "metadata": {},
   "outputs": [],
   "source": [
    "sentences=nltk.sent_tokenize(speech)"
   ]
  },
  {
   "cell_type": "code",
   "execution_count": 17,
   "id": "47b6951d",
   "metadata": {},
   "outputs": [],
   "source": [
    "tokenized_sentences = [nltk.word_tokenize(sentence)\n",
    "for sentence in sentences]\n",
    "tagged_sentences = [nltk.pos_tag(sentence) for\n",
    "sentence in tokenized_sentences]\n"
   ]
  },
  {
   "cell_type": "code",
   "execution_count": 20,
   "id": "8904b409",
   "metadata": {},
   "outputs": [],
   "source": [
    "chunked_sentences = nltk.ne_chunk_sents(\n",
    "tagged_sentences, binary=True)\n"
   ]
  },
  {
   "cell_type": "code",
   "execution_count": 19,
   "id": "dc168a2d",
   "metadata": {},
   "outputs": [
    {
     "name": "stderr",
     "output_type": "stream",
     "text": [
      "[nltk_data] Downloading package maxent_ne_chunker to\n",
      "[nltk_data]     C:\\Users\\91821\\AppData\\Roaming\\nltk_data...\n",
      "[nltk_data]   Unzipping chunkers\\maxent_ne_chunker.zip.\n"
     ]
    },
    {
     "data": {
      "text/plain": [
       "True"
      ]
     },
     "execution_count": 19,
     "metadata": {},
     "output_type": "execute_result"
    }
   ],
   "source": [
    "nltk.download('maxent_ne_chunker')\n",
    "  "
   ]
  },
  {
   "cell_type": "code",
   "execution_count": 22,
   "id": "4a4e7013",
   "metadata": {},
   "outputs": [],
   "source": [
    "from nltk.tree import Tree\n",
    "ne1 = Tree('NE', [('Nobody', 'NN')])\n",
    "ne2 = Tree('NE', [('Spanish', 'JJ'),\n",
    "('Inquisition', 'NNP')])\n",
    "s = Tree('S', [ne1, ('expects', 'VBZ'),\n",
    "('the', 'DT'), ne2])"
   ]
  },
  {
   "cell_type": "code",
   "execution_count": 31,
   "id": "6f50f7be",
   "metadata": {},
   "outputs": [],
   "source": [
    "def get_entity_names(tree):\n",
    "    entity_names = []\n",
    "    if hasattr(tree, 'label') and tree.label:\n",
    "        if tree.label() == 'NE':\n",
    "           entity_names.append(' '.join([child[0] for child in tree]))\n",
    "        else:\n",
    "            for child in tree:\n",
    "                entity_names.extend(get_entity_names(child))\n",
    "    return entity_names"
   ]
  },
  {
   "cell_type": "code",
   "execution_count": 32,
   "id": "95f9fe4f",
   "metadata": {},
   "outputs": [
    {
     "ename": "SyntaxError",
     "evalue": "invalid character '’' (U+2019) (3291928622.py, line 5)",
     "output_type": "error",
     "traceback": [
      "\u001b[1;36m  Cell \u001b[1;32mIn[32], line 5\u001b[1;36m\u001b[0m\n\u001b[1;33m    [’South Carolina’, ’American’, ’God’,\u001b[0m\n\u001b[1;37m     ^\u001b[0m\n\u001b[1;31mSyntaxError\u001b[0m\u001b[1;31m:\u001b[0m invalid character '’' (U+2019)\n"
     ]
    }
   ],
   "source": []
  },
  {
   "cell_type": "code",
   "execution_count": null,
   "id": "bab382c9",
   "metadata": {},
   "outputs": [],
   "source": []
  }
 ],
 "metadata": {
  "kernelspec": {
   "display_name": "Python 3 (ipykernel)",
   "language": "python",
   "name": "python3"
  },
  "language_info": {
   "codemirror_mode": {
    "name": "ipython",
    "version": 3
   },
   "file_extension": ".py",
   "mimetype": "text/x-python",
   "name": "python",
   "nbconvert_exporter": "python",
   "pygments_lexer": "ipython3",
   "version": "3.11.5"
  }
 },
 "nbformat": 4,
 "nbformat_minor": 5
}
