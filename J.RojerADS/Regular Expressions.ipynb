{
 "cells": [
  {
   "cell_type": "code",
   "execution_count": 1,
   "id": "375b9a57",
   "metadata": {},
   "outputs": [],
   "source": [
    "import re"
   ]
  },
  {
   "cell_type": "code",
   "execution_count": 2,
   "id": "7197e62b",
   "metadata": {},
   "outputs": [],
   "source": [
    "corpus = r\"\"\"Breakfast options:\n",
    "1. Egg and baaacon - £10.0 ($12.83);\n",
    "2. Egg, sausage and baaaaacon - £11.0 ($12.83);\n",
    "3. Egg and beans - £12.0 ($15.40);\n",
    "4. Egg, baaacon and beans - £13.0 ($16.68);\n",
    "5. Beans, sausage, beans - £14.0 ($17.97);\n",
    "6. Beans, baaaaacon, beans, tomato and beans -\n",
    "£15.0 ($19.25); \"\"\"\n"
   ]
  },
  {
   "cell_type": "code",
   "execution_count": 3,
   "id": "a1782847",
   "metadata": {},
   "outputs": [
    {
     "name": "stdout",
     "output_type": "stream",
     "text": [
      "Breakfast options:\n",
      "1. Egg and baaacon - £10.0 ($12.83);\n",
      "2. Egg, sausage and baaaaacon - £11.0 ($12.83);\n",
      "3. Egg and spam - £12.0 ($15.40);\n",
      "4. Egg, baaacon and spam - £13.0 ($16.68);\n",
      "5. Beans, sausage, spam - £14.0 ($17.97);\n",
      "6. Beans, baaaaacon, spam, tomato and spam -\n",
      "£15.0 ($19.25);\n"
     ]
    }
   ],
   "source": [
    "for line in corpus.splitlines():\n",
    "    line=re.sub('beans','spam',line.rstrip())\n",
    "    print(line)"
   ]
  },
  {
   "cell_type": "code",
   "execution_count": 4,
   "id": "13cd1247",
   "metadata": {},
   "outputs": [
    {
     "name": "stdout",
     "output_type": "stream",
     "text": [
      "1. Egg and baaacon - £10.0 ($12.83);\n",
      "2. Egg, sausage and baaaaacon - £11.0 ($12.83);\n",
      "3. Egg and beans - £12.0 ($15.40);\n",
      "4. Egg, baaacon and beans - £13.0 ($16.68);\n",
      "5. Beans, sausage, beans - £14.0 ($17.97);\n",
      "6. Beans, baaaaacon, beans, tomato and beans -\n"
     ]
    }
   ],
   "source": [
    "numlines=re.compile('^\\d')\n",
    "for line in corpus.splitlines():\n",
    "    result=numlines.search(line)\n",
    "    if result:\n",
    "        print(line)"
   ]
  },
  {
   "cell_type": "code",
   "execution_count": 5,
   "id": "2141bc16",
   "metadata": {},
   "outputs": [],
   "source": [
    "endparaen=re.compile('\\)$')"
   ]
  },
  {
   "cell_type": "code",
   "execution_count": 7,
   "id": "b48653ee",
   "metadata": {},
   "outputs": [
    {
     "data": {
      "text/plain": [
       "re.compile(r'\\)$', re.UNICODE)"
      ]
     },
     "execution_count": 7,
     "metadata": {},
     "output_type": "execute_result"
    }
   ],
   "source": [
    "endparaen"
   ]
  },
  {
   "cell_type": "code",
   "execution_count": 8,
   "id": "6b077968",
   "metadata": {},
   "outputs": [],
   "source": [
    "bword=re.compile(\"[Bb]\\w+\")"
   ]
  },
  {
   "cell_type": "code",
   "execution_count": 10,
   "id": "7c993d58",
   "metadata": {},
   "outputs": [
    {
     "data": {
      "text/plain": [
       "['Breakfast',\n",
       " 'baaacon',\n",
       " 'baaaaacon',\n",
       " 'beans',\n",
       " 'baaacon',\n",
       " 'beans',\n",
       " 'Beans',\n",
       " 'beans',\n",
       " 'Beans',\n",
       " 'baaaaacon',\n",
       " 'beans',\n",
       " 'beans']"
      ]
     },
     "execution_count": 10,
     "metadata": {},
     "output_type": "execute_result"
    }
   ],
   "source": [
    "bword.findall(corpus)"
   ]
  },
  {
   "cell_type": "code",
   "execution_count": 12,
   "id": "3bc5522c",
   "metadata": {},
   "outputs": [
    {
     "data": {
      "text/plain": [
       "['baaacon', 'baaaaacon', 'baaacon', 'baaaaacon']"
      ]
     },
     "execution_count": 12,
     "metadata": {},
     "output_type": "execute_result"
    }
   ],
   "source": [
    "#misspellied bacons\n",
    "re.findall('ba+\\w+',corpus)"
   ]
  },
  {
   "cell_type": "code",
   "execution_count": 13,
   "id": "ac570353",
   "metadata": {},
   "outputs": [
    {
     "data": {
      "text/plain": [
       "['baaacon', 'baaaaacon', 'baaacon', 'baaaaacon']"
      ]
     },
     "execution_count": 13,
     "metadata": {},
     "output_type": "execute_result"
    }
   ],
   "source": [
    "re.findall('ba{3,5}con',corpus)"
   ]
  },
  {
   "cell_type": "code",
   "execution_count": 14,
   "id": "32262017",
   "metadata": {},
   "outputs": [
    {
     "data": {
      "text/plain": [
       "['10.0', '11.0', '12.0', '13.0', '14.0', '15.0']"
      ]
     },
     "execution_count": 14,
     "metadata": {},
     "output_type": "execute_result"
    }
   ],
   "source": [
    "re.findall('£(\\d+\\.0)',corpus)"
   ]
  },
  {
   "cell_type": "code",
   "execution_count": 18,
   "id": "24e910b8",
   "metadata": {},
   "outputs": [
    {
     "data": {
      "text/plain": [
       "['12.83', '12.83', '15.40', '16.68', '17.97', '19.25']"
      ]
     },
     "execution_count": 18,
     "metadata": {},
     "output_type": "execute_result"
    }
   ],
   "source": [
    "re.findall('\\(\\$(\\d+\\.\\d+)\\)',corpus)"
   ]
  },
  {
   "cell_type": "code",
   "execution_count": null,
   "id": "11c51e70",
   "metadata": {},
   "outputs": [],
   "source": [
    "#unicode"
   ]
  },
  {
   "cell_type": "code",
   "execution_count": 19,
   "id": "23836f54",
   "metadata": {},
   "outputs": [
    {
     "data": {
      "text/plain": [
       "str"
      ]
     },
     "execution_count": 19,
     "metadata": {},
     "output_type": "execute_result"
    }
   ],
   "source": [
    "type(\"hello world\")"
   ]
  },
  {
   "cell_type": "code",
   "execution_count": 21,
   "id": "8079b193",
   "metadata": {},
   "outputs": [
    {
     "data": {
      "text/plain": [
       "bytes"
      ]
     },
     "execution_count": 21,
     "metadata": {},
     "output_type": "execute_result"
    }
   ],
   "source": [
    "type(b\"hello!\")"
   ]
  },
  {
   "cell_type": "code",
   "execution_count": 22,
   "id": "0ce49af6",
   "metadata": {},
   "outputs": [
    {
     "ename": "SyntaxError",
     "evalue": "bytes can only contain ASCII literal characters (3055162717.py, line 1)",
     "output_type": "error",
     "traceback": [
      "\u001b[1;36m  Cell \u001b[1;32mIn[22], line 1\u001b[1;36m\u001b[0m\n\u001b[1;33m    type(b\"ありがとう\")\u001b[0m\n\u001b[1;37m         ^\u001b[0m\n\u001b[1;31mSyntaxError\u001b[0m\u001b[1;31m:\u001b[0m bytes can only contain ASCII literal characters\n"
     ]
    }
   ],
   "source": [
    "type(b\"ありがとう\")"
   ]
  },
  {
   "cell_type": "code",
   "execution_count": 23,
   "id": "a48345e4",
   "metadata": {},
   "outputs": [
    {
     "data": {
      "text/plain": [
       "b'\\xe3\\x81\\x82\\xe3\\x82\\x8a\\xe3\\x81\\x8c\\xe3\\x81\\xa8\\xe3\\x81\\x86'"
      ]
     },
     "execution_count": 23,
     "metadata": {},
     "output_type": "execute_result"
    }
   ],
   "source": [
    "arigato=\"ありがとう\"\n",
    "bytes(arigato,'utf-8')"
   ]
  },
  {
   "cell_type": "code",
   "execution_count": 24,
   "id": "4fbab3a3",
   "metadata": {},
   "outputs": [
    {
     "data": {
      "text/plain": [
       "b'\\xff\\xfe\\x00\\x00B0\\x00\\x00\\x8a0\\x00\\x00L0\\x00\\x00h0\\x00\\x00F0\\x00\\x00'"
      ]
     },
     "execution_count": 24,
     "metadata": {},
     "output_type": "execute_result"
    }
   ],
   "source": [
    "bytes(arigato,'utf-32')"
   ]
  },
  {
   "cell_type": "code",
   "execution_count": 25,
   "id": "aa8ae921",
   "metadata": {},
   "outputs": [
    {
     "data": {
      "text/plain": [
       "b'\\xe3\\x81\\x82\\xe3\\x82\\x8a\\xe3\\x81\\x8c\\xe3\\x81\\xa8\\xe3\\x81\\x86'"
      ]
     },
     "execution_count": 25,
     "metadata": {},
     "output_type": "execute_result"
    }
   ],
   "source": [
    "arigato.encode()"
   ]
  },
  {
   "cell_type": "code",
   "execution_count": 28,
   "id": "0516890f",
   "metadata": {},
   "outputs": [],
   "source": [
    "japon=b\"\\xe3\\x81\\x82\\xe3\\x82\\x8a\\xe3\\x81\\x8c\\xe3\\x81\\xa8\\xe3\\x81\\x86\""
   ]
  },
  {
   "cell_type": "code",
   "execution_count": 29,
   "id": "3e105277",
   "metadata": {},
   "outputs": [
    {
     "data": {
      "text/plain": [
       "'ありがとう'"
      ]
     },
     "execution_count": 29,
     "metadata": {},
     "output_type": "execute_result"
    }
   ],
   "source": [
    "japon.decode()"
   ]
  },
  {
   "cell_type": "code",
   "execution_count": 30,
   "id": "97ad5d1d",
   "metadata": {},
   "outputs": [],
   "source": [
    "#tokenise"
   ]
  },
  {
   "cell_type": "code",
   "execution_count": 71,
   "id": "1f346bd2",
   "metadata": {},
   "outputs": [],
   "source": [
    "sentence=\"I am a really good person.I hav a pink purse.I am happy to inform u about my grade\""
   ]
  },
  {
   "cell_type": "code",
   "execution_count": 33,
   "id": "8005d523",
   "metadata": {},
   "outputs": [
    {
     "data": {
      "text/plain": [
       "['I',\n",
       " 'am',\n",
       " 'a',\n",
       " 'really',\n",
       " 'good',\n",
       " 'person.I',\n",
       " 'hav',\n",
       " 'a',\n",
       " 'pink',\n",
       " 'purse.I',\n",
       " 'am',\n",
       " 'happy',\n",
       " 'to',\n",
       " 'inform',\n",
       " 'u',\n",
       " 'about',\n",
       " 'my',\n",
       " 'grade']"
      ]
     },
     "execution_count": 33,
     "metadata": {},
     "output_type": "execute_result"
    }
   ],
   "source": [
    "sentence.split()"
   ]
  },
  {
   "cell_type": "code",
   "execution_count": 34,
   "id": "86153ef7",
   "metadata": {},
   "outputs": [
    {
     "data": {
      "text/plain": [
       "['I am a really good person',\n",
       " 'I hav a pink purse',\n",
       " 'I am happy to inform u about my grade']"
      ]
     },
     "execution_count": 34,
     "metadata": {},
     "output_type": "execute_result"
    }
   ],
   "source": [
    "sentence.split('.')"
   ]
  },
  {
   "cell_type": "code",
   "execution_count": 35,
   "id": "ab7290b1",
   "metadata": {},
   "outputs": [],
   "source": [
    "import re"
   ]
  },
  {
   "cell_type": "code",
   "execution_count": 36,
   "id": "3c9e8d1a",
   "metadata": {},
   "outputs": [
    {
     "data": {
      "text/plain": [
       "['I',\n",
       " 'am',\n",
       " 'a',\n",
       " 'really',\n",
       " 'good',\n",
       " 'person',\n",
       " 'I',\n",
       " 'hav',\n",
       " 'a',\n",
       " 'pink',\n",
       " 'purse',\n",
       " 'I',\n",
       " 'am',\n",
       " 'happy',\n",
       " 'to',\n",
       " 'inform',\n",
       " 'u',\n",
       " 'about',\n",
       " 'my',\n",
       " 'grade']"
      ]
     },
     "execution_count": 36,
     "metadata": {},
     "output_type": "execute_result"
    }
   ],
   "source": [
    "re.split('[,!\\.\\-\\s]',sentence)"
   ]
  },
  {
   "cell_type": "code",
   "execution_count": 37,
   "id": "28314023",
   "metadata": {},
   "outputs": [],
   "source": [
    "import nltk"
   ]
  },
  {
   "cell_type": "code",
   "execution_count": 40,
   "id": "1157ac9c",
   "metadata": {},
   "outputs": [
    {
     "name": "stderr",
     "output_type": "stream",
     "text": [
      "[nltk_data] Downloading package punkt to\n",
      "[nltk_data]     C:\\Users\\91821\\AppData\\Roaming\\nltk_data...\n",
      "[nltk_data]   Unzipping tokenizers\\punkt.zip.\n"
     ]
    },
    {
     "data": {
      "text/plain": [
       "True"
      ]
     },
     "execution_count": 40,
     "metadata": {},
     "output_type": "execute_result"
    }
   ],
   "source": [
    "nltk.download('punkt')"
   ]
  },
  {
   "cell_type": "code",
   "execution_count": 42,
   "id": "ec0b6978",
   "metadata": {},
   "outputs": [
    {
     "data": {
      "text/plain": [
       "['I',\n",
       " 'am',\n",
       " 'a',\n",
       " 'really',\n",
       " 'good',\n",
       " 'person.I',\n",
       " 'hav',\n",
       " 'a',\n",
       " 'pink',\n",
       " 'purse.I',\n",
       " 'am',\n",
       " 'happy',\n",
       " 'to',\n",
       " 'inform',\n",
       " 'u',\n",
       " 'about',\n",
       " 'my',\n",
       " 'grade']"
      ]
     },
     "execution_count": 42,
     "metadata": {},
     "output_type": "execute_result"
    }
   ],
   "source": [
    "nltk.word_tokenize(sentence)"
   ]
  },
  {
   "cell_type": "code",
   "execution_count": 44,
   "id": "1ee8f931",
   "metadata": {},
   "outputs": [
    {
     "data": {
      "text/plain": [
       "['I am a really good person.I hav a pink purse.I am happy to inform u about my grade']"
      ]
     },
     "execution_count": 44,
     "metadata": {},
     "output_type": "execute_result"
    }
   ],
   "source": [
    "nltk.sent_tokenize(sentence)"
   ]
  },
  {
   "cell_type": "code",
   "execution_count": 46,
   "id": "fbdb5992",
   "metadata": {},
   "outputs": [],
   "source": [
    "words=nltk.word_tokenize(sentence.lower())"
   ]
  },
  {
   "cell_type": "code",
   "execution_count": 47,
   "id": "f7763d20",
   "metadata": {},
   "outputs": [
    {
     "data": {
      "text/plain": [
       "['i',\n",
       " 'am',\n",
       " 'a',\n",
       " 'really',\n",
       " 'good',\n",
       " 'person.i',\n",
       " 'hav',\n",
       " 'a',\n",
       " 'pink',\n",
       " 'purse.i',\n",
       " 'am',\n",
       " 'happy',\n",
       " 'to',\n",
       " 'inform',\n",
       " 'u',\n",
       " 'about',\n",
       " 'my',\n",
       " 'grade']"
      ]
     },
     "execution_count": 47,
     "metadata": {},
     "output_type": "execute_result"
    }
   ],
   "source": [
    "words"
   ]
  },
  {
   "cell_type": "code",
   "execution_count": 48,
   "id": "7d5931a2",
   "metadata": {},
   "outputs": [],
   "source": [
    "w=\"working,making,made,soap\""
   ]
  },
  {
   "cell_type": "code",
   "execution_count": 49,
   "id": "6b0197ff",
   "metadata": {},
   "outputs": [],
   "source": [
    "porter=nltk.PorterStemmer()"
   ]
  },
  {
   "cell_type": "code",
   "execution_count": 60,
   "id": "175c58cb",
   "metadata": {},
   "outputs": [
    {
     "data": {
      "text/plain": [
       "['i',\n",
       " 'am',\n",
       " 'a',\n",
       " 'realli',\n",
       " 'good',\n",
       " 'person.i',\n",
       " 'hav',\n",
       " 'a',\n",
       " 'pink',\n",
       " 'purse.i',\n",
       " 'am',\n",
       " 'happi',\n",
       " 'to',\n",
       " 'inform',\n",
       " 'u',\n",
       " 'about',\n",
       " 'my',\n",
       " 'grade']"
      ]
     },
     "execution_count": 60,
     "metadata": {},
     "output_type": "execute_result"
    }
   ],
   "source": [
    "[porter.stem(word) for word in words]"
   ]
  },
  {
   "cell_type": "code",
   "execution_count": 61,
   "id": "22048bb7",
   "metadata": {},
   "outputs": [
    {
     "data": {
      "text/plain": [
       "['i',\n",
       " 'am',\n",
       " 'a',\n",
       " 'really',\n",
       " 'good',\n",
       " 'person.i',\n",
       " 'hav',\n",
       " 'a',\n",
       " 'pink',\n",
       " 'purse.i',\n",
       " 'am',\n",
       " 'happy',\n",
       " 'to',\n",
       " 'inform',\n",
       " 'u',\n",
       " 'about',\n",
       " 'my',\n",
       " 'grade']"
      ]
     },
     "execution_count": 61,
     "metadata": {},
     "output_type": "execute_result"
    }
   ],
   "source": [
    "lemmatiser=nltk.WordNetLemmatizer()\n",
    "[lemmatiser.lemmatize(word) for word in words]"
   ]
  },
  {
   "cell_type": "code",
   "execution_count": 57,
   "id": "168a38f0",
   "metadata": {},
   "outputs": [
    {
     "name": "stderr",
     "output_type": "stream",
     "text": [
      "[nltk_data] Downloading package wordnet to\n",
      "[nltk_data]     C:\\Users\\91821\\AppData\\Roaming\\nltk_data...\n"
     ]
    },
    {
     "data": {
      "text/plain": [
       "True"
      ]
     },
     "execution_count": 57,
     "metadata": {},
     "output_type": "execute_result"
    }
   ],
   "source": [
    "nltk.download('wordnet')"
   ]
  },
  {
   "cell_type": "code",
   "execution_count": 62,
   "id": "43611d80",
   "metadata": {},
   "outputs": [],
   "source": [
    "tweet=\"@oroio This is new parrpot!!!:(#sad .... https://jorel.com)\""
   ]
  },
  {
   "cell_type": "code",
   "execution_count": 63,
   "id": "c5ee491c",
   "metadata": {},
   "outputs": [
    {
     "data": {
      "text/plain": [
       "['@',\n",
       " 'oroio',\n",
       " 'This',\n",
       " 'is',\n",
       " 'new',\n",
       " 'parrpot',\n",
       " '!',\n",
       " '!',\n",
       " '!',\n",
       " ':',\n",
       " '(',\n",
       " '#',\n",
       " 'sad',\n",
       " '....',\n",
       " 'https',\n",
       " ':',\n",
       " '//jorel.com',\n",
       " ')']"
      ]
     },
     "execution_count": 63,
     "metadata": {},
     "output_type": "execute_result"
    }
   ],
   "source": [
    "nltk.word_tokenize(tweet)"
   ]
  },
  {
   "cell_type": "code",
   "execution_count": 65,
   "id": "ff264aea",
   "metadata": {},
   "outputs": [],
   "source": [
    "pattern = r'''(?x) # A verbose regex\n",
    "[\\$£]?\\d+[\\.:%]?\\d*%?\n",
    "|(?:[A-Z]\\.)+\n",
    "|(?:https?://)?(?:\\w+\\.)(?:\\w{2,})+(?:[\\w/]+)?\n",
    "|[@\\#]?\\w+(?:[-’]\\w+)*\n",
    "|\\.\\.\\.\n",
    "|[!?]+\n",
    "|:[()]'''\n"
   ]
  },
  {
   "cell_type": "code",
   "execution_count": 66,
   "id": "c9878ec0",
   "metadata": {},
   "outputs": [
    {
     "data": {
      "text/plain": [
       "['@oroio',\n",
       " 'This',\n",
       " 'is',\n",
       " 'new',\n",
       " 'parrpot',\n",
       " '!!!',\n",
       " ':(',\n",
       " '#sad',\n",
       " '...',\n",
       " 'https://jorel.com']"
      ]
     },
     "execution_count": 66,
     "metadata": {},
     "output_type": "execute_result"
    }
   ],
   "source": [
    "nltk.regexp_tokenize(tweet,pattern)"
   ]
  },
  {
   "cell_type": "code",
   "execution_count": 67,
   "id": "7531aed0",
   "metadata": {},
   "outputs": [
    {
     "data": {
      "text/plain": [
       "['@oroio',\n",
       " 'This',\n",
       " 'is',\n",
       " 'new',\n",
       " 'parrpot',\n",
       " '!',\n",
       " '!',\n",
       " '!',\n",
       " ':(',\n",
       " '#sad',\n",
       " '...',\n",
       " 'https://jorel.com',\n",
       " ')']"
      ]
     },
     "execution_count": 67,
     "metadata": {},
     "output_type": "execute_result"
    }
   ],
   "source": [
    "#premade fn\n",
    "from nltk.tokenize.casual import TweetTokenizer\n",
    "TweetTokenizer().tokenize(tweet)"
   ]
  },
  {
   "cell_type": "code",
   "execution_count": 74,
   "id": "1e192a67",
   "metadata": {},
   "outputs": [],
   "source": [
    "s=nltk.sent_tokenize(sentence)\n",
    "s1=nltk.word_tokenize(s[0])"
   ]
  },
  {
   "cell_type": "code",
   "execution_count": 77,
   "id": "e6ba4ad9",
   "metadata": {},
   "outputs": [
    {
     "data": {
      "text/plain": [
       "[('I', 'PRP'),\n",
       " ('am', 'VBP'),\n",
       " ('a', 'DT'),\n",
       " ('really', 'RB'),\n",
       " ('good', 'JJ'),\n",
       " ('person.I', 'NN'),\n",
       " ('hav', 'VBZ'),\n",
       " ('a', 'DT'),\n",
       " ('pink', 'NN'),\n",
       " ('purse.I', 'NN'),\n",
       " ('am', 'VBP'),\n",
       " ('happy', 'JJ'),\n",
       " ('to', 'TO'),\n",
       " ('inform', 'VB'),\n",
       " ('u', 'JJ'),\n",
       " ('about', 'IN'),\n",
       " ('my', 'PRP$'),\n",
       " ('grade', 'NN')]"
      ]
     },
     "execution_count": 77,
     "metadata": {},
     "output_type": "execute_result"
    }
   ],
   "source": [
    "nltk.pos_tag(s1)"
   ]
  },
  {
   "cell_type": "code",
   "execution_count": 76,
   "id": "57f95ede",
   "metadata": {},
   "outputs": [
    {
     "name": "stderr",
     "output_type": "stream",
     "text": [
      "[nltk_data] Downloading package averaged_perceptron_tagger to\n",
      "[nltk_data]     C:\\Users\\91821\\AppData\\Roaming\\nltk_data...\n",
      "[nltk_data]   Unzipping taggers\\averaged_perceptron_tagger.zip.\n"
     ]
    },
    {
     "data": {
      "text/plain": [
       "True"
      ]
     },
     "execution_count": 76,
     "metadata": {},
     "output_type": "execute_result"
    }
   ],
   "source": [
    "nltk.download('averaged_perceptron_tagger')"
   ]
  },
  {
   "cell_type": "code",
   "execution_count": null,
   "id": "9fe8fa72",
   "metadata": {},
   "outputs": [],
   "source": []
  }
 ],
 "metadata": {
  "kernelspec": {
   "display_name": "Python 3 (ipykernel)",
   "language": "python",
   "name": "python3"
  },
  "language_info": {
   "codemirror_mode": {
    "name": "ipython",
    "version": 3
   },
   "file_extension": ".py",
   "mimetype": "text/x-python",
   "name": "python",
   "nbconvert_exporter": "python",
   "pygments_lexer": "ipython3",
   "version": "3.11.5"
  }
 },
 "nbformat": 4,
 "nbformat_minor": 5
}
