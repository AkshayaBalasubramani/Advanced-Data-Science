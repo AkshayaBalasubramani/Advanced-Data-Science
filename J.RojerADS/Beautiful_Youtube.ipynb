{
 "cells": [
  {
   "cell_type": "code",
   "execution_count": 1,
   "id": "c95c5515",
   "metadata": {},
   "outputs": [],
   "source": [
    "from bs4 import BeautifulSoup"
   ]
  },
  {
   "cell_type": "code",
   "execution_count": 8,
   "id": "e0024b40",
   "metadata": {},
   "outputs": [],
   "source": [
    "with open(r\"C:\\Users\\91821\\Desktop\\index.html\",\"r\") as f:\n",
    "    doc=BeautifulSoup(f,\"html.parser\")"
   ]
  },
  {
   "cell_type": "code",
   "execution_count": 9,
   "id": "4233d87e",
   "metadata": {},
   "outputs": [
    {
     "name": "stdout",
     "output_type": "stream",
     "text": [
      "<html>\n",
      "<head>\n",
      "<title>Your Title Here</title>\n",
      "</head>\n",
      "<body bgcolor=\"FFFFFF\">\n",
      "<center><img align=\"BOTTOM\" src=\"clouds.jpg\"/> </center>\n",
      "<hr/>\n",
      "<a href=\"http://somegreatsite.com\">Link Name</a>\n",
      "    \n",
      "    is a link to another nifty site\n",
      "    \n",
      "    <h1>This is a Header</h1>\n",
      "<h2>This is a Medium Header</h2>\n",
      "    \n",
      "    Send me mail at <a href=\"mailto:support@yourcompany.com\">\n",
      "    \n",
      "    support@yourcompany.com</a>.\n",
      "    \n",
      "    <p> This is a new paragraph!\n",
      "    \n",
      "    <p> <b color=\"red\">This is a new paragraph!</b>\n",
      "<br/> <b><i>This is a new sentence without a paragraph break, in bold italics.</i></b>\n",
      "<hr/>\n",
      "</p></p></body>\n",
      "</html>\n"
     ]
    }
   ],
   "source": [
    "print(doc)"
   ]
  },
  {
   "cell_type": "code",
   "execution_count": 10,
   "id": "471bbc5f",
   "metadata": {},
   "outputs": [],
   "source": [
    "#search for a specific aspects"
   ]
  },
  {
   "cell_type": "code",
   "execution_count": 11,
   "id": "665f5bbc",
   "metadata": {},
   "outputs": [
    {
     "name": "stdout",
     "output_type": "stream",
     "text": [
      "<html>\n",
      " <head>\n",
      "  <title>\n",
      "   Your Title Here\n",
      "  </title>\n",
      " </head>\n",
      " <body bgcolor=\"FFFFFF\">\n",
      "  <center>\n",
      "   <img align=\"BOTTOM\" src=\"clouds.jpg\"/>\n",
      "  </center>\n",
      "  <hr/>\n",
      "  <a href=\"http://somegreatsite.com\">\n",
      "   Link Name\n",
      "  </a>\n",
      "  is a link to another nifty site\n",
      "  <h1>\n",
      "   This is a Header\n",
      "  </h1>\n",
      "  <h2>\n",
      "   This is a Medium Header\n",
      "  </h2>\n",
      "  Send me mail at\n",
      "  <a href=\"mailto:support@yourcompany.com\">\n",
      "   support@yourcompany.com\n",
      "  </a>\n",
      "  .\n",
      "  <p>\n",
      "   This is a new paragraph!\n",
      "   <p>\n",
      "    <b color=\"red\">\n",
      "     This is a new paragraph!\n",
      "    </b>\n",
      "    <br/>\n",
      "    <b>\n",
      "     <i>\n",
      "      This is a new sentence without a paragraph break, in bold italics.\n",
      "     </i>\n",
      "    </b>\n",
      "    <hr/>\n",
      "   </p>\n",
      "  </p>\n",
      " </body>\n",
      "</html>\n",
      "\n"
     ]
    }
   ],
   "source": [
    "print(doc.prettify())"
   ]
  },
  {
   "cell_type": "code",
   "execution_count": 16,
   "id": "1efa0201",
   "metadata": {},
   "outputs": [
    {
     "name": "stdout",
     "output_type": "stream",
     "text": [
      "<title>hello</title>\n",
      "hello\n"
     ]
    }
   ],
   "source": [
    "tag=doc.title\n",
    "print(tag)\n",
    "#make changes in the doc\n",
    "tag.string=\"hello\"\n",
    "print(tag.string)"
   ]
  },
  {
   "cell_type": "code",
   "execution_count": 17,
   "id": "4b8d0633",
   "metadata": {},
   "outputs": [
    {
     "data": {
      "text/plain": [
       "<html>\n",
       "<head>\n",
       "<title>hello</title>\n",
       "</head>\n",
       "<body bgcolor=\"FFFFFF\">\n",
       "<center><img align=\"BOTTOM\" src=\"clouds.jpg\"/> </center>\n",
       "<hr/>\n",
       "<a href=\"http://somegreatsite.com\">Link Name</a>\n",
       "    \n",
       "    is a link to another nifty site\n",
       "    \n",
       "    <h1>This is a Header</h1>\n",
       "<h2>This is a Medium Header</h2>\n",
       "    \n",
       "    Send me mail at <a href=\"mailto:support@yourcompany.com\">\n",
       "    \n",
       "    support@yourcompany.com</a>.\n",
       "    \n",
       "    <p> This is a new paragraph!\n",
       "    \n",
       "    <p> <b color=\"red\">This is a new paragraph!</b>\n",
       "<br/> <b><i>This is a new sentence without a paragraph break, in bold italics.</i></b>\n",
       "<hr/>\n",
       "</p></p></body>\n",
       "</html>"
      ]
     },
     "execution_count": 17,
     "metadata": {},
     "output_type": "execute_result"
    }
   ],
   "source": [
    "doc"
   ]
  },
  {
   "cell_type": "code",
   "execution_count": 19,
   "id": "894e0678",
   "metadata": {},
   "outputs": [
    {
     "data": {
      "text/plain": [
       "<a href=\"http://somegreatsite.com\">Link Name</a>"
      ]
     },
     "execution_count": 19,
     "metadata": {},
     "output_type": "execute_result"
    }
   ],
   "source": [
    "#in case of multiple same tags-first one is output\n",
    "t1=doc.find(\"a\")\n",
    "t1"
   ]
  },
  {
   "cell_type": "code",
   "execution_count": 20,
   "id": "288a30d9",
   "metadata": {},
   "outputs": [
    {
     "data": {
      "text/plain": [
       "[<a href=\"http://somegreatsite.com\">Link Name</a>,\n",
       " <a href=\"mailto:support@yourcompany.com\">\n",
       "     \n",
       "     support@yourcompany.com</a>]"
      ]
     },
     "execution_count": 20,
     "metadata": {},
     "output_type": "execute_result"
    }
   ],
   "source": [
    "t2=doc.find_all(\"a\")\n",
    "t2"
   ]
  },
  {
   "cell_type": "code",
   "execution_count": 21,
   "id": "abf4e685",
   "metadata": {},
   "outputs": [
    {
     "data": {
      "text/plain": [
       "[<p> This is a new paragraph!\n",
       "     \n",
       "     <p> <b color=\"red\">This is a new paragraph!</b>\n",
       " <br/> <b><i>This is a new sentence without a paragraph break, in bold italics.</i></b>\n",
       " <hr/>\n",
       " </p></p>,\n",
       " <p> <b color=\"red\">This is a new paragraph!</b>\n",
       " <br/> <b><i>This is a new sentence without a paragraph break, in bold italics.</i></b>\n",
       " <hr/>\n",
       " </p>]"
      ]
     },
     "execution_count": 21,
     "metadata": {},
     "output_type": "execute_result"
    }
   ],
   "source": [
    "p1=doc.find_all(\"p\")\n",
    "p1"
   ]
  },
  {
   "cell_type": "code",
   "execution_count": 22,
   "id": "0628d4b4",
   "metadata": {},
   "outputs": [
    {
     "name": "stdout",
     "output_type": "stream",
     "text": [
      "[<b color=\"red\">This is a new paragraph!</b>, <b><i>This is a new sentence without a paragraph break, in bold italics.</i></b>]\n"
     ]
    }
   ],
   "source": [
    "#nested tags access\n",
    "p1=doc.find_all(\"p\")[0]\n",
    "print(p1.find_all(\"b\"))"
   ]
  },
  {
   "cell_type": "code",
   "execution_count": 23,
   "id": "025bc17d",
   "metadata": {},
   "outputs": [
    {
     "name": "stdout",
     "output_type": "stream",
     "text": [
      "Requirement already satisfied: requests in c:\\users\\91821\\anaconda3\\lib\\site-packages (2.31.0)\n",
      "Requirement already satisfied: charset-normalizer<4,>=2 in c:\\users\\91821\\anaconda3\\lib\\site-packages (from requests) (2.0.4)\n",
      "Requirement already satisfied: idna<4,>=2.5 in c:\\users\\91821\\anaconda3\\lib\\site-packages (from requests) (3.4)\n",
      "Requirement already satisfied: urllib3<3,>=1.21.1 in c:\\users\\91821\\anaconda3\\lib\\site-packages (from requests) (1.26.16)\n",
      "Requirement already satisfied: certifi>=2017.4.17 in c:\\users\\91821\\anaconda3\\lib\\site-packages (from requests) (2023.7.22)\n"
     ]
    }
   ],
   "source": [
    "!pip install requests"
   ]
  },
  {
   "cell_type": "code",
   "execution_count": 26,
   "id": "41a72faf",
   "metadata": {},
   "outputs": [],
   "source": [
    "import requests \n",
    "url=\"https://www.newegg.com/p/0V4-0011-01335?Item=9SIBUNFK7V6602\""
   ]
  },
  {
   "cell_type": "code",
   "execution_count": 28,
   "id": "0ae37d6f",
   "metadata": {},
   "outputs": [
    {
     "name": "stdout",
     "output_type": "stream",
     "text": [
      "\n",
      "<!DOCTYPE html>\n",
      "<html xmlns=\"http://www.w3.org/1999/xhtml\" lang=\"en\">\n",
      "<head>\n",
      "<title>Are you a human?</title>\n",
      "<meta http-equiv=\"X-UA-Compatible\" content=\"IE=EDGE\" /><meta charset=\"UTF-8\" />\n",
      "<link rel=\"shortcut icon\" type=\"image/x-icon\" href=\"//c1.neweggimages.com/WebResource/Themes/2005/Nest/Newegg.ico\">\n",
      "<link rel=\"stylesheet\" type=\"text/css\" href=\"https://fonts.googleapis.com/css?family=Open+Sans:400,300,300italic,400italic,700,700italic|Open+Sans+Condensed:300,300italic,700\">\n",
      "<style type=\"text/css\">\n",
      "p{font-size:16px;color:#4d4d4d;padding:0;margin:0 0 5px}a img,a:hover img,a:visited img{border:0}.button-primary,.button-primary:focus,.button-primary:link,.button-primary:visited{font-family:'Open Sans Condensed','Arial Narrow','Helvetica Narrow',arial,helvetica,sans-serif;letter-spacing:1px;font-size:14px;font-weight:700;font-stretch:condensed;text-align:center;text-decoration:none;cursor:pointer;border-radius:4px;border:2px solid #E68626;display:inline-block;padding:9px 15px;margin:15px 0 0;outline:0;color:#552F00;background-color:#FFC010;background:linear-gradient(to bottom,#FFC010,#F9A21B);text-transform:uppercase}h1,h2{padding:0}.button-primary:active,.button-primary:hover{color:#552F00;background-color:#F9A21B;background:linear-gradient(to bottom,#F9A21B,#FFC010);border-color:#E68626}h1{margin:0;font-size:100px;line-height:120px;font-weight:700;color:#33425a}h2{color:#cc4e00;font-size:29px;margin:10px 0 20px}\n",
      ".lds-ripple{display:inline-block;position:relative;width:64px;height:64px}.lds-ripple div{position:absolute;border:4px solid #cc4e00;opacity:1;border-radius:50%;animation:lds-ripple 1s cubic-bezier(0,.2,.8,1) infinite}.lds-ripple div:nth-child(2){animation-delay:-.5s}@keyframes lds-ripple{0%{top:28px;left:28px;width:0;height:0;opacity:1}100%{top:-1px;left:-1px;width:58px;height:58px;opacity:0}}\n",
      "</style>\n",
      "<script type=\"text/javascript\">\n",
      "try{!function(e, t, n, r, i, o, a) {e.NAO = i,e[i] = e[i] || function() {\n",
      "(e[i].q = e[i].q || []).push(arguments)},e[i].l = 1 * new Date,o = t.createElement(n),a = t.getElementsByTagName(n)[0],o.async = 1,o.src = \"//www.newegg.com/gfplib.js\",a.parentNode.insertBefore(o, a)}(window, document, \"script\", 0, \"_na\")}catch(e){\n",
      "}\n",
      "</script>\n",
      "<script type=\"text/javascript\" src=\"//c1.neweggimages.com/webResource/Scripts/WWW/jquery-3.5.1.min.js\"></script>\n",
      "<script type=\"text/javascript\">\n",
      "var win = jQuery(this);\n",
      "if (win.width() < 900) {\n",
      "    window.resizeTo(900, win.height());\n",
      "}\n",
      "var why = '0';\n",
      "function getReferer() {\n",
      "    var reg = new RegExp(\"(^|&)referer=([^&]*)(&|$)\");\n",
      "    var r = window.location.search.replace(\"referer=/areyouahuman?\",\"\").substr(1).match(reg);\n",
      "    var referer = window.location.origin;\n",
      "    if (r) {\n",
      "        referer = unescape(r[2]);\n",
      "    }\n",
      "    if (referer.indexOf('?') > 0) {\n",
      "        referer += '&';\n",
      "    } else {\n",
      "        referer += '?';\n",
      "    }\n",
      "    referer += 'recaptcha=pass';\n",
      "\n",
      "    return referer;\n",
      "}\n",
      "\n",
      "var postEventData = function (refer) {\n",
      "    var items = location.hostname.split('.');\n",
      "    items.shift();\n",
      "    var topDomain = items.join('.');\n",
      "    var reg = /^https?\\:\\/\\/\\w+\\.([^\\/\\s]+)/;\n",
      "    var match = refer.match(reg);\n",
      "    if(match){\n",
      "        var d=match[1].split(\".\");\n",
      "        var dd=d[d.length-2]+\".\"+d[d.length-1];\n",
      "        if(dd !== topDomain) {\n",
      "            refer = location.origin;\n",
      "        }\n",
      "    }\n",
      "    else {\n",
      "        refer = location.origin+'/'+refer.replace(/^\\//,'');\n",
      "    }\n",
      "    jQuery.ajax({\n",
      "        type: \"POST\",\n",
      "        url: \"https://pf.newegg.com/r3\",\n",
      "        data: JSON.stringify({c: document.cookie }),\n",
      "        dataType: \"json\",\n",
      "        contentType: \"application/json\",\n",
      "        timeout:2000,\n",
      "        success: function () {\n",
      "            window.location.href = refer;\n",
      "        }\n",
      "    }).fail(function () {\n",
      "        window.location.href = refer;\n",
      "    });\n",
      "};\n",
      "function getretry(){\n",
      "    var de='1008';\n",
      "    var pec=1000;\n",
      "    window.location.href = window.location.origin + '/areyouahuman3?' + 'itn=true&' + (location.search || '?').substring(1);\n",
      "}\n",
      "setTimeout(function(){\n",
      "    getretry();\n",
      "}, 11500);\n",
      "(function (i, s, o, g, r, a, m) {\n",
      "    i['GoogleAnalyticsObject'] = r; i[r] = i[r] || function () {\n",
      "        (i[r].q = i[r].q || []).push(arguments)\n",
      "    }, i[r].l = 1 * new Date(); a = s.createElement(o),\n",
      "    m = s.getElementsByTagName(o)[0]; a.async = 1; a.src = g; m.parentNode.insertBefore(a, m)\n",
      "})(window, document, 'script', 'https://www.google-analytics.com/analytics.js', 'ga');\n",
      "ga('create', 'UA-1147542-13', 'auto');\n",
      "ga('send', 'pageview');\n",
      "</script>\n",
      "\n",
      "<script>(window.BOOMR_mq=window.BOOMR_mq||[]).push([\"addVar\",{\"rua.upush\":\"false\",\"rua.cpush\":\"false\",\"rua.upre\":\"false\",\"rua.cpre\":\"false\",\"rua.uprl\":\"false\",\"rua.cprl\":\"false\",\"rua.cprf\":\"false\",\"rua.trans\":\"\",\"rua.cook\":\"false\",\"rua.ims\":\"false\",\"rua.ufprl\":\"false\",\"rua.cfprl\":\"false\",\"rua.isuxp\":\"false\",\"rua.texp\":\"norulematch\"}]);</script>\n",
      "                              <script>!function(e){var n=\"https://s.go-mpulse.net/boomerang/\";if(\"False\"==\"True\")e.BOOMR_config=e.BOOMR_config||{},e.BOOMR_config.PageParams=e.BOOMR_config.PageParams||{},e.BOOMR_config.PageParams.pci=!0,n=\"https://s2.go-mpulse.net/boomerang/\";if(window.BOOMR_API_key=\"RGD28-F75F5-NJQ8B-DAKUQ-TEPC8\",function(){function e(){if(!o){var e=document.createElement(\"script\");e.id=\"boomr-scr-as\",e.src=window.BOOMR.url,e.async=!0,i.parentNode.appendChild(e),o=!0}}function t(e){o=!0;var n,t,a,r,d=document,O=window;if(window.BOOMR.snippetMethod=e?\"if\":\"i\",t=function(e,n){var t=d.createElement(\"script\");t.id=n||\"boomr-if-as\",t.src=window.BOOMR.url,BOOMR_lstart=(new Date).getTime(),e=e||d.body,e.appendChild(t)},!window.addEventListener&&window.attachEvent&&navigator.userAgent.match(/MSIE [67]\\./))return window.BOOMR.snippetMethod=\"s\",void t(i.parentNode,\"boomr-async\");a=document.createElement(\"IFRAME\"),a.src=\"about:blank\",a.title=\"\",a.role=\"presentation\",a.loading=\"eager\",r=(a.frameElement||a).style,r.width=0,r.height=0,r.border=0,r.display=\"none\",i.parentNode.appendChild(a);try{O=a.contentWindow,d=O.document.open()}catch(_){n=document.domain,a.src=\"javascript:var d=document.open();d.domain='\"+n+\"';void(0);\",O=a.contentWindow,d=O.document.open()}if(n)d._boomrl=function(){this.domain=n,t()},d.write(\"<bo\"+\"dy onload='document._boomrl();'>\");else if(O._boomrl=function(){t()},O.addEventListener)O.addEventListener(\"load\",O._boomrl,!1);else if(O.attachEvent)O.attachEvent(\"onload\",O._boomrl);d.close()}function a(e){window.BOOMR_onload=e&&e.timeStamp||(new Date).getTime()}if(!window.BOOMR||!window.BOOMR.version&&!window.BOOMR.snippetExecuted){window.BOOMR=window.BOOMR||{},window.BOOMR.snippetStart=(new Date).getTime(),window.BOOMR.snippetExecuted=!0,window.BOOMR.snippetVersion=12,window.BOOMR.url=n+\"RGD28-F75F5-NJQ8B-DAKUQ-TEPC8\";var i=document.currentScript||document.getElementsByTagName(\"script\")[0],o=!1,r=document.createElement(\"link\");if(r.relList&&\"function\"==typeof r.relList.supports&&r.relList.supports(\"preload\")&&\"as\"in r)window.BOOMR.snippetMethod=\"p\",r.href=window.BOOMR.url,r.rel=\"preload\",r.as=\"script\",r.addEventListener(\"load\",e),r.addEventListener(\"error\",function(){t(!0)}),setTimeout(function(){if(!o)t(!0)},3e3),BOOMR_lstart=(new Date).getTime(),i.parentNode.appendChild(r);else t(!1);if(window.addEventListener)window.addEventListener(\"load\",a,!1);else if(window.attachEvent)window.attachEvent(\"onload\",a)}}(),\"\".length>0)if(e&&\"performance\"in e&&e.performance&&\"function\"==typeof e.performance.setResourceTimingBufferSize)e.performance.setResourceTimingBufferSize();!function(){if(BOOMR=e.BOOMR||{},BOOMR.plugins=BOOMR.plugins||{},!BOOMR.plugins.AK){var n=\"\"==\"true\"?1:0,t=\"\",a=\"37t2gjixhvyv2ztfloqa-f-56d2403b1-clientnsv4-s.akamaihd.net\",i=\"false\"==\"true\"?2:1,o={\"ak.v\":\"37\",\"ak.cp\":\"589096\",\"ak.ai\":parseInt(\"248389\",10),\"ak.ol\":\"0\",\"ak.cr\":376,\"ak.ipv\":4,\"ak.proto\":\"http/1.1\",\"ak.rid\":\"c96183d\",\"ak.r\":26697,\"ak.a2\":n,\"ak.m\":\"x\",\"ak.n\":\"essl\",\"ak.bpcip\":\"223.231.163.0\",\"ak.cport\":54033,\"ak.gh\":\"23.3.70.63\",\"ak.quicv\":\"\",\"ak.tlsv\":\"tls1.3\",\"ak.0rtt\":\"\",\"ak.csrc\":\"-\",\"ak.acc\":\"reno\",\"ak.t\":\"1717918624\",\"ak.ak\":\"hOBiQwZUYzCg5VSAfCLimQ==BsizKiqlWj/pga1Qx4ly5QCth8IcbQeZyYBW7twkTrsZleN2rHPiRq78N9DNSSZKYS41JpAgJkCp30/Kyj8jARJjbJ8oYINp/+pcs+2tAkGL9hg5yy+k2AMtcDZxNCq0kRKD+gR1CHXRyeFspqVCM4t2Rz7IYubESHuMo+w0lkP403ZMw3y44QkkW87j/Eg7/YUQizDB9NbzkGZAIW08TxPwjjSYYYp/gOxhmvdOGKkL29GBuZxdM/rvd0v7QD4CgzByCSQFMkd0x2nyIIx3YT8wTPVyzCwx2widTDJgb8hGJJNPVTXVmQSRX8a80AKFdHOreHjyVksrnIWubsGDJVvX1vea40oqn7fi9/+i0Tnecs5qFe93XfEOFQxP1o6s+00U/WmvdZHR1gEf9E0NCjLXMUgyAAMEZ1OCXk4fyYU=\",\"ak.pv\":\"166\",\"ak.dpoabenc\":\"\",\"ak.tf\":i};if(\"\"!==t)o[\"ak.ruds\"]=t;var r={i:!1,av:function(n){var t=\"http.initiator\";if(n&&(!n[t]||\"spa_hard\"===n[t]))o[\"ak.feo\"]=void 0!==e.aFeoApplied?1:0,BOOMR.addVar(o)},rv:function(){var e=[\"ak.bpcip\",\"ak.cport\",\"ak.cr\",\"ak.csrc\",\"ak.gh\",\"ak.ipv\",\"ak.m\",\"ak.n\",\"ak.ol\",\"ak.proto\",\"ak.quicv\",\"ak.tlsv\",\"ak.0rtt\",\"ak.r\",\"ak.acc\",\"ak.t\",\"ak.tf\"];BOOMR.removeVar(e)}};BOOMR.plugins.AK={akVars:o,akDNSPreFetchDomain:a,init:function(){if(!r.i){var e=BOOMR.subscribe;e(\"before_beacon\",r.av,null,null),e(\"onbeacon\",r.rv,null,null),r.i=!0}return this},is_complete:function(){return!0}}}}()}(window);</script></head>\n",
      "<body style=\"font-family: 'Open Sans', Helvetica, Arial, sans-serif; line-height: 1.36;\">\n",
      "<div style=\"max-width: 1000px;min-width: 760px;overflow: hidden;margin:100px auto;\">\n",
      "    <div style=\"float: left;padding: 50px 10px 40px 10px; width: 250px; box-sizing: border-box;\">\n",
      "\t    <a style=\"border: none;\" href=\"https://www.newegg.com/\">\n",
      "\t        <img alt=\"\" width=\"216\" src=\"//c1.neweggimages.com/WebResource/Themes/2005/Nest/logo_424x210.png\" />\n",
      "\t    </a>\n",
      "    </div>\n",
      "    <div style=\"border-left: 1px solid #ccc; padding: 30px 10px 70px 40px; margin-left: 250px;\">\n",
      "\t\t<h1>Human?</h1>\n",
      "\t    <h2>Are you a human?</h2>\n",
      "\t    <p style=\"margin-bottom: 10px;\">We apologize for the confusion, but we can't quite tell if you're a person or a script.</p>\n",
      "\t    <p style=\"margin-bottom: 10px;\">Please don't take this personally. Bots and scripts can be very much lifelike these days!</p>\n",
      "\t    <p style=\"margin-bottom: 40px;\">To help us better protect your account security, please check the CAPTCHA box below.</p>\n",
      "\t    <div class=\"lds-ripple\"><div></div><div></div></div>\n",
      "        <p role=\"group\" aria-labelledby=\"detect\" ><label><input name=\"check\" type=\"checkbox\"  /> detecting...</label></p>\n",
      "        <script>var cookiesEnable=\"cookie\" in document&&(document.cookie.length>0||(document.cookie=\"test\").indexOf.call(document.cookie,\"test\")>-1);cookiesEnable||document.write('<p id=\"cookie\" style=\"margin-top: 40px;\">We use cookies to provide functionalities and bring better user experience to you. Please allow cookies for Newegg site.</p>');</script>\n",
      "\t    <p style=\"margin-top: 40px;\">If you're interested in accessing Newegg API service, please <a href=\"#\" title=\"Request Access to Newegg API\" onclick=\"javascript:newegg_inhouse_feedback2 && newegg_inhouse_feedback2.show();\" style=\"cursor: pointer;text-decoration: underline; color: #000;\">submit a request</a>.</p>\n",
      "\t    <p style=\"margin-top: 40px;\">We would love to hear your opinion. <a href=\"#\" title=\"feedback\" onclick=\"javascript:newegg_inhouse_feedback && newegg_inhouse_feedback.show();\" id=\"newegg_footer_feedback\" style=\"cursor: pointer;text-decoration: underline; color: #000;\">Let us know your feedback</a>.</p>\n",
      "\t</div>\n",
      "\t<script type=\"text/javascript\">\n",
      "    var newegg_inhouse_feedback=null,newegg_inhouse_feedback2=null;!function(){var e=document.location.protocol;if(\"http:\"==e||\"https:\"==e){var n=document.createElement(\"script\");n.type=\"text/javascript\",n.async=!0,n.src=\"//promotions.newegg.com/Newegg/Survey/newegg-feedback.min.js\";var g=document.getElementsByTagName(\"head\")[0].childNodes[0];g.parentNode.insertBefore(n,g),n.onload=function(){null==newegg_inhouse_feedback&&(newegg_inhouse_feedback=new neweggFeedback.NeweggSurvey({cardType:\"Id\",key:\"027BC6DB\"})),null==newegg_inhouse_feedback2&&(newegg_inhouse_feedback2=new neweggFeedback.NeweggSurvey({cardType:\"Id\",key:\"D762FCF1\"}))}}}();\n",
      "\tvar Web={StateManager:{Cookies:{get:function(e){for(var t=document.cookie.split(\";\"),n=0;n<t.length;n++){var o=t[n].split(\"=\");if(e==decodeURIComponent(o[0].trim()))return unescape(o[1])}return null},Name:{UTMA:\"__utma\",NVTC:\"NVTC\",NID:\"NV_NID\",SPT:\"NV_SPT\"}}}};\n",
      "\t</script>\n",
      "</div>\n",
      "<script>\n",
      "var nemdpec=1000;\n",
      "var nemdtoken='1e79963305171aab';\n",
      "var randomct = Math.random()*1000;\n",
      "    if (randomct > nemdpec) {\n",
      "(function (s, o, g, r, a, m) {a=s.createElement(o),m=s.getElementsByTagName(o)[0];a.async=1;\n",
      "    a.addEventListener('load', function() {\n",
      "grecaptcha.ready(function() {\n",
      "    grecaptcha.execute('6LdAn3UUAAAAAKt8pKdAdZf83OwfA2QhtacSvywE', {action: 'recaptcha'})\n",
      "    .then(function(token) {\n",
      "        jQuery.post(window.location.href, { t: token,t2:'s1', cookieEnabled: !!navigator.cookieEnabled, why: why }, function (data, status) {\n",
      "            if (data === 'success') {\n",
      "                var refer = getReferer();\n",
      "                postEventData(refer);\n",
      "                var noprotocl = refer.replace(\"http://\", \"\").replace(\"https://\", \"\");\n",
      "                var questionMarkLocation = noprotocl.indexOf(\"?\");\n",
      "                var label = questionMarkLocation > 0 ? noprotocl.slice(0, questionMarkLocation) : noprotocl;\n",
      "                ga('send', 'event', 'Captcha', 'Click', label);\n",
      "                \n",
      "            } else {\n",
      "                getretry();\n",
      "            }\n",
      "        });\n",
      "    });\n",
      "});\n",
      "});\n",
      "a.src=g;m.parentNode.insertBefore(a,m);\n",
      "})(window, document, 'script', 'https://www.google.com/recaptcha/api.js?render=6LdAn3UUAAAAAKt8pKdAdZf83OwfA2QhtacSvywE');\n",
      "    }\n",
      "    else{\n",
      "(function(e,t,l){function f(t,l){let n=0;for(let e=0;e<t.length;e++){n+=Math.pow(t[e]-l[e],2)}return Math.sqrt(n)}function n(t){let l=0;for(let e=0;e<t.length;e++){l+=t[e]}return l}function u(t){if(t.length>0){let e=n(t);return e/t.length}else{return 0}}function o(l,n){if(n.length>0){let t=0;for(let e=0;e<n.length;e++){t+=Math.pow(l-n[e],2)}return Math.sqrt(t/n.length)}return 0}var d={};d.t=new Array(3);d.l=new Array(2);d.i=250;d.u=300;d.o=1e3;d.h=t*1e3;d.M=\"_usereventdatas\";d.S=.8;d.v=.09;d.g=.05;d.debug=false;d.A=function(e,t,l,n){return Math.sqrt(Math.pow(e-l,2)+Math.pow(t-n,2))};d.J=function(e,t){return e/t};d.N=function(e,t,l){return Math.abs(t-e)/l};d.O=function(e,t,l,n){return Math.atan2(n-t,l-e)*180/Math.PI};d.m=function(e,t,l){return Math.abs(t-e)/l};d.p=function(e){if(e>=0&&e<45){return 0}else if(e>=45&&e<90){return 1}else if(e>=90&&e<135){return 2}else if(e>=135&&e<180){return 3}else if(e>=180||e<-135){return 4}else if(e>=-135&&e<-90){return 5}else if(e>=-90&&e<-45){return 6}else{return 7}};d.I=function(u){let o=u.timeStamp;let a=u.pageX;let s=u.pageY;if(d.t[0]!==undefined){let e=o-d.t[0][2];if(e>d.i){d.t[0]=[u.pageX,u.pageY,o,0,0];return}let t=d.A(a,s,d.t[0][0],d.t[0][1]);if(e<=0||t<=0){return}let l=d.J(t,e);let n=d.N(d.t[0][3],l,e);let r=d.O(d.t[0][0],d.t[0][1],a,s);let f=d.p(r);let i=d.m(d.t[0][4],r,e);if(d.l[0]!==undefined){d.l[0].push([t,l,n,i,f])}else{d.l[0]=[[t,l,n,i,f]]}d.t[0]=[u.pageX,u.pageY,o,l,r]}else{d.t[0]=[u.pageX,u.pageY,o,0,0]}};d.T=function(e){d.t[1]=e.timeStamp;if(d.t[2]!==undefined){let e=d.t[1]-d.t[2];if(e<=d.u&&e>0){if(d.l[1]!==undefined){d.l[1].push(e)}else{d.l[1]=[e]}}}};d._=function(e){d.t[2]=e.timeStamp};d.j=function(){let t=0;let l=0;let n=0;let r=0;let f=0;let i=0;let u=0;let o=0;let a=[0,0,0,0,0,0,0,0];let s=0;let c=0;if(d.l[0]!==undefined){let e=d.l[0].length;if(e>0){for(var h=0;h<e;h++){t+=d.l[0][h][0];l+=d.l[0][h][1];n+=d.l[0][h][2];r+=d.l[0][h][3];a[d.l[0][h][4]]+=1}t=t/e;l=l/e;n=n/e;r=r/e;for(var h=0;h<e;h++){f+=Math.pow(t-d.l[0][h][0],2);i+=Math.pow(l-d.l[0][h][1],2);u+=Math.pow(n-d.l[0][h][2],2);o+=Math.pow(r-d.l[0][h][3],2)}f=Math.sqrt(f/e);i=Math.sqrt(i/e);u=Math.sqrt(u/e);o=Math.sqrt(o/e);for(var h=0;h<a.length;h++){a[h]=a[h]/e}}}if(d.l[1]!==undefined){let e=d.l[1].length;if(e>0){for(var h=0;h<e;h++){s+=d.l[1][h]}s=s/e;for(var h=0;h<e;h++){c+=Math.pow(s-d.l[1][h],2)}c=Math.sqrt(c/e)}}let e=[t,l,n,r,f,i,u,o,s,c];let M=e.concat(a);return M};d.clear=function(){d.t=new Array(3);d.l=new Array(2)};d.k=function(e,t){localStorage.removeItem(d.M);e.onmousedown=d._;e.onmouseup=d.T;e.onmousemove=d.I;let l=setInterval(function(){let e=d.getData();d.q(e)},d.o);setTimeout(function(){clearInterval(l);let e=d.detect();t(e)},d.h)};d.getData=function(){let e=d.j();d.clear();return e};d.B=function(l,n){let r=[0,0,0,0,0,0,0,0,0,0,0,0,0];for(let t=0;t<n.length;t++){let e=f(n[t],l);if(e<=1){r[0]+=1}else if(e>1&&e<=2){r[1]+=1}else if(e>2&&e<=4){r[2]+=1}else if(e>4&&e<=8){r[3]+=1}else if(e>8&&e<=50){r[4]+=1}else if(e>50&&e<=100){r[5]+=1}else if(e>100&&e<=200){r[6]+=1}else if(e>200&&e<=300){r[7]+=1}else if(e>300&&e<=400){r[8]+=1}else if(e>400&&e<=500){r[9]+=1}else if(e>500&&e<=600){r[10]+=1}else if(e>600&&e<=800){r[11]+=1}else{r[12]+=1}}for(let e=0;e<r.length;e++){r[e]=r[e]/n.length}return r};d.q=function(t){if(t!==undefined&&t!=null){if(localStorage[d.M]===undefined||localStorage[d.M]==null){localStorage[d.M]=JSON.stringify([t])}else{let e=JSON.parse(localStorage[d.M]);if(Array.isArray(e)){e.push(t);localStorage[d.M]=JSON.stringify(e)}}}};d.detect=function(){let r=false;let f=JSON.parse(localStorage[d.M]);let i=[0,0,0,0,0,0,0,0,0,0,0,0,0];if(Array.isArray(f)&&f.length>1){let n=0;for(let l=0;l<f.length;l++){for(let e=l+1;e<f.length;e++){let t=d.B(f[l],f);for(let e=0;e<i.length;e++){i[e]+=t[e]}n+=1}}for(let e=0;e<i.length;e++){i[e]=i[e]/n}let e=i[0]+i[1];let t=i[10]+i[11]+i[12];if(e>=d.S||t>=d.g){r=true}else if(e<.5){let e=i.slice(2,10);let t=u(e);let l=o(t,e);if(l<=d.v){r=true}}}return r};d.k(e,l)})(document.querySelector(\"body\"),5,function(e) {\n",
      "    if (!e) {\n",
      "    var timestamp = Math.floor(Date.now() / 1000);\n",
      "    jQuery.post(window.location.href, { t: timestamp+nemdtoken, t2:'md', cookieEnabled: !!navigator.cookieEnabled, why: why }, function (data, status) {\n",
      "        if (data === 'success') {\n",
      "            var refer = getReferer();\n",
      "            postEventData(refer);\n",
      "            var noprotocl = refer.replace(\"http://\", \"\").replace(\"https://\", \"\");\n",
      "            var questionMarkLocation = noprotocl.indexOf(\"?\");\n",
      "            var label = questionMarkLocation > 0 ? noprotocl.slice(0, questionMarkLocation) : noprotocl;\n",
      "            ga('send', 'event', 'Captcha', 'Click', label);\n",
      "            \n",
      "        } else {\n",
      "            getretry();\n",
      "        }\n",
      "    });\n",
      "    } else {\n",
      "    getretry();\n",
      "    }\n",
      "});\n",
      "}\n",
      "</script>\n",
      "</body>\n",
      "</html>\n",
      "\n"
     ]
    }
   ],
   "source": [
    "result=requests.get(url)\n",
    "print(result.text)"
   ]
  },
  {
   "cell_type": "code",
   "execution_count": 31,
   "id": "0959873a",
   "metadata": {},
   "outputs": [],
   "source": [
    "doc=BeautifulSoup(result.text,\"html.parser\")"
   ]
  },
  {
   "cell_type": "code",
   "execution_count": 32,
   "id": "28ab136c",
   "metadata": {},
   "outputs": [
    {
     "data": {
      "text/plain": [
       "<title>Are you a human?</title>"
      ]
     },
     "execution_count": 32,
     "metadata": {},
     "output_type": "execute_result"
    }
   ],
   "source": [
    "doc.title"
   ]
  },
  {
   "cell_type": "code",
   "execution_count": 33,
   "id": "9af99507",
   "metadata": {},
   "outputs": [
    {
     "name": "stdout",
     "output_type": "stream",
     "text": [
      "<bound method Tag.prettify of \n",
      "<!DOCTYPE html>\n",
      "\n",
      "<html lang=\"en\" xmlns=\"http://www.w3.org/1999/xhtml\">\n",
      "<head>\n",
      "<title>Are you a human?</title>\n",
      "<meta content=\"IE=EDGE\" http-equiv=\"X-UA-Compatible\"/><meta charset=\"utf-8\"/>\n",
      "<link href=\"//c1.neweggimages.com/WebResource/Themes/2005/Nest/Newegg.ico\" rel=\"shortcut icon\" type=\"image/x-icon\"/>\n",
      "<link href=\"https://fonts.googleapis.com/css?family=Open+Sans:400,300,300italic,400italic,700,700italic|Open+Sans+Condensed:300,300italic,700\" rel=\"stylesheet\" type=\"text/css\"/>\n",
      "<style type=\"text/css\">\n",
      "p{font-size:16px;color:#4d4d4d;padding:0;margin:0 0 5px}a img,a:hover img,a:visited img{border:0}.button-primary,.button-primary:focus,.button-primary:link,.button-primary:visited{font-family:'Open Sans Condensed','Arial Narrow','Helvetica Narrow',arial,helvetica,sans-serif;letter-spacing:1px;font-size:14px;font-weight:700;font-stretch:condensed;text-align:center;text-decoration:none;cursor:pointer;border-radius:4px;border:2px solid #E68626;display:inline-block;padding:9px 15px;margin:15px 0 0;outline:0;color:#552F00;background-color:#FFC010;background:linear-gradient(to bottom,#FFC010,#F9A21B);text-transform:uppercase}h1,h2{padding:0}.button-primary:active,.button-primary:hover{color:#552F00;background-color:#F9A21B;background:linear-gradient(to bottom,#F9A21B,#FFC010);border-color:#E68626}h1{margin:0;font-size:100px;line-height:120px;font-weight:700;color:#33425a}h2{color:#cc4e00;font-size:29px;margin:10px 0 20px}\n",
      ".lds-ripple{display:inline-block;position:relative;width:64px;height:64px}.lds-ripple div{position:absolute;border:4px solid #cc4e00;opacity:1;border-radius:50%;animation:lds-ripple 1s cubic-bezier(0,.2,.8,1) infinite}.lds-ripple div:nth-child(2){animation-delay:-.5s}@keyframes lds-ripple{0%{top:28px;left:28px;width:0;height:0;opacity:1}100%{top:-1px;left:-1px;width:58px;height:58px;opacity:0}}\n",
      "</style>\n",
      "<script type=\"text/javascript\">\n",
      "try{!function(e, t, n, r, i, o, a) {e.NAO = i,e[i] = e[i] || function() {\n",
      "(e[i].q = e[i].q || []).push(arguments)},e[i].l = 1 * new Date,o = t.createElement(n),a = t.getElementsByTagName(n)[0],o.async = 1,o.src = \"//www.newegg.com/gfplib.js\",a.parentNode.insertBefore(o, a)}(window, document, \"script\", 0, \"_na\")}catch(e){\n",
      "}\n",
      "</script>\n",
      "<script src=\"//c1.neweggimages.com/webResource/Scripts/WWW/jquery-3.5.1.min.js\" type=\"text/javascript\"></script>\n",
      "<script type=\"text/javascript\">\n",
      "var win = jQuery(this);\n",
      "if (win.width() < 900) {\n",
      "    window.resizeTo(900, win.height());\n",
      "}\n",
      "var why = '0';\n",
      "function getReferer() {\n",
      "    var reg = new RegExp(\"(^|&)referer=([^&]*)(&|$)\");\n",
      "    var r = window.location.search.replace(\"referer=/areyouahuman?\",\"\").substr(1).match(reg);\n",
      "    var referer = window.location.origin;\n",
      "    if (r) {\n",
      "        referer = unescape(r[2]);\n",
      "    }\n",
      "    if (referer.indexOf('?') > 0) {\n",
      "        referer += '&';\n",
      "    } else {\n",
      "        referer += '?';\n",
      "    }\n",
      "    referer += 'recaptcha=pass';\n",
      "\n",
      "    return referer;\n",
      "}\n",
      "\n",
      "var postEventData = function (refer) {\n",
      "    var items = location.hostname.split('.');\n",
      "    items.shift();\n",
      "    var topDomain = items.join('.');\n",
      "    var reg = /^https?\\:\\/\\/\\w+\\.([^\\/\\s]+)/;\n",
      "    var match = refer.match(reg);\n",
      "    if(match){\n",
      "        var d=match[1].split(\".\");\n",
      "        var dd=d[d.length-2]+\".\"+d[d.length-1];\n",
      "        if(dd !== topDomain) {\n",
      "            refer = location.origin;\n",
      "        }\n",
      "    }\n",
      "    else {\n",
      "        refer = location.origin+'/'+refer.replace(/^\\//,'');\n",
      "    }\n",
      "    jQuery.ajax({\n",
      "        type: \"POST\",\n",
      "        url: \"https://pf.newegg.com/r3\",\n",
      "        data: JSON.stringify({c: document.cookie }),\n",
      "        dataType: \"json\",\n",
      "        contentType: \"application/json\",\n",
      "        timeout:2000,\n",
      "        success: function () {\n",
      "            window.location.href = refer;\n",
      "        }\n",
      "    }).fail(function () {\n",
      "        window.location.href = refer;\n",
      "    });\n",
      "};\n",
      "function getretry(){\n",
      "    var de='1008';\n",
      "    var pec=1000;\n",
      "    window.location.href = window.location.origin + '/areyouahuman3?' + 'itn=true&' + (location.search || '?').substring(1);\n",
      "}\n",
      "setTimeout(function(){\n",
      "    getretry();\n",
      "}, 11500);\n",
      "(function (i, s, o, g, r, a, m) {\n",
      "    i['GoogleAnalyticsObject'] = r; i[r] = i[r] || function () {\n",
      "        (i[r].q = i[r].q || []).push(arguments)\n",
      "    }, i[r].l = 1 * new Date(); a = s.createElement(o),\n",
      "    m = s.getElementsByTagName(o)[0]; a.async = 1; a.src = g; m.parentNode.insertBefore(a, m)\n",
      "})(window, document, 'script', 'https://www.google-analytics.com/analytics.js', 'ga');\n",
      "ga('create', 'UA-1147542-13', 'auto');\n",
      "ga('send', 'pageview');\n",
      "</script>\n",
      "<script>(window.BOOMR_mq=window.BOOMR_mq||[]).push([\"addVar\",{\"rua.upush\":\"false\",\"rua.cpush\":\"false\",\"rua.upre\":\"false\",\"rua.cpre\":\"false\",\"rua.uprl\":\"false\",\"rua.cprl\":\"false\",\"rua.cprf\":\"false\",\"rua.trans\":\"\",\"rua.cook\":\"false\",\"rua.ims\":\"false\",\"rua.ufprl\":\"false\",\"rua.cfprl\":\"false\",\"rua.isuxp\":\"false\",\"rua.texp\":\"norulematch\"}]);</script>\n",
      "<script>!function(e){var n=\"https://s.go-mpulse.net/boomerang/\";if(\"False\"==\"True\")e.BOOMR_config=e.BOOMR_config||{},e.BOOMR_config.PageParams=e.BOOMR_config.PageParams||{},e.BOOMR_config.PageParams.pci=!0,n=\"https://s2.go-mpulse.net/boomerang/\";if(window.BOOMR_API_key=\"RGD28-F75F5-NJQ8B-DAKUQ-TEPC8\",function(){function e(){if(!o){var e=document.createElement(\"script\");e.id=\"boomr-scr-as\",e.src=window.BOOMR.url,e.async=!0,i.parentNode.appendChild(e),o=!0}}function t(e){o=!0;var n,t,a,r,d=document,O=window;if(window.BOOMR.snippetMethod=e?\"if\":\"i\",t=function(e,n){var t=d.createElement(\"script\");t.id=n||\"boomr-if-as\",t.src=window.BOOMR.url,BOOMR_lstart=(new Date).getTime(),e=e||d.body,e.appendChild(t)},!window.addEventListener&&window.attachEvent&&navigator.userAgent.match(/MSIE [67]\\./))return window.BOOMR.snippetMethod=\"s\",void t(i.parentNode,\"boomr-async\");a=document.createElement(\"IFRAME\"),a.src=\"about:blank\",a.title=\"\",a.role=\"presentation\",a.loading=\"eager\",r=(a.frameElement||a).style,r.width=0,r.height=0,r.border=0,r.display=\"none\",i.parentNode.appendChild(a);try{O=a.contentWindow,d=O.document.open()}catch(_){n=document.domain,a.src=\"javascript:var d=document.open();d.domain='\"+n+\"';void(0);\",O=a.contentWindow,d=O.document.open()}if(n)d._boomrl=function(){this.domain=n,t()},d.write(\"<bo\"+\"dy onload='document._boomrl();'>\");else if(O._boomrl=function(){t()},O.addEventListener)O.addEventListener(\"load\",O._boomrl,!1);else if(O.attachEvent)O.attachEvent(\"onload\",O._boomrl);d.close()}function a(e){window.BOOMR_onload=e&&e.timeStamp||(new Date).getTime()}if(!window.BOOMR||!window.BOOMR.version&&!window.BOOMR.snippetExecuted){window.BOOMR=window.BOOMR||{},window.BOOMR.snippetStart=(new Date).getTime(),window.BOOMR.snippetExecuted=!0,window.BOOMR.snippetVersion=12,window.BOOMR.url=n+\"RGD28-F75F5-NJQ8B-DAKUQ-TEPC8\";var i=document.currentScript||document.getElementsByTagName(\"script\")[0],o=!1,r=document.createElement(\"link\");if(r.relList&&\"function\"==typeof r.relList.supports&&r.relList.supports(\"preload\")&&\"as\"in r)window.BOOMR.snippetMethod=\"p\",r.href=window.BOOMR.url,r.rel=\"preload\",r.as=\"script\",r.addEventListener(\"load\",e),r.addEventListener(\"error\",function(){t(!0)}),setTimeout(function(){if(!o)t(!0)},3e3),BOOMR_lstart=(new Date).getTime(),i.parentNode.appendChild(r);else t(!1);if(window.addEventListener)window.addEventListener(\"load\",a,!1);else if(window.attachEvent)window.attachEvent(\"onload\",a)}}(),\"\".length>0)if(e&&\"performance\"in e&&e.performance&&\"function\"==typeof e.performance.setResourceTimingBufferSize)e.performance.setResourceTimingBufferSize();!function(){if(BOOMR=e.BOOMR||{},BOOMR.plugins=BOOMR.plugins||{},!BOOMR.plugins.AK){var n=\"\"==\"true\"?1:0,t=\"\",a=\"37t2gjixhvyv2ztfloqa-f-56d2403b1-clientnsv4-s.akamaihd.net\",i=\"false\"==\"true\"?2:1,o={\"ak.v\":\"37\",\"ak.cp\":\"589096\",\"ak.ai\":parseInt(\"248389\",10),\"ak.ol\":\"0\",\"ak.cr\":376,\"ak.ipv\":4,\"ak.proto\":\"http/1.1\",\"ak.rid\":\"c96183d\",\"ak.r\":26697,\"ak.a2\":n,\"ak.m\":\"x\",\"ak.n\":\"essl\",\"ak.bpcip\":\"223.231.163.0\",\"ak.cport\":54033,\"ak.gh\":\"23.3.70.63\",\"ak.quicv\":\"\",\"ak.tlsv\":\"tls1.3\",\"ak.0rtt\":\"\",\"ak.csrc\":\"-\",\"ak.acc\":\"reno\",\"ak.t\":\"1717918624\",\"ak.ak\":\"hOBiQwZUYzCg5VSAfCLimQ==BsizKiqlWj/pga1Qx4ly5QCth8IcbQeZyYBW7twkTrsZleN2rHPiRq78N9DNSSZKYS41JpAgJkCp30/Kyj8jARJjbJ8oYINp/+pcs+2tAkGL9hg5yy+k2AMtcDZxNCq0kRKD+gR1CHXRyeFspqVCM4t2Rz7IYubESHuMo+w0lkP403ZMw3y44QkkW87j/Eg7/YUQizDB9NbzkGZAIW08TxPwjjSYYYp/gOxhmvdOGKkL29GBuZxdM/rvd0v7QD4CgzByCSQFMkd0x2nyIIx3YT8wTPVyzCwx2widTDJgb8hGJJNPVTXVmQSRX8a80AKFdHOreHjyVksrnIWubsGDJVvX1vea40oqn7fi9/+i0Tnecs5qFe93XfEOFQxP1o6s+00U/WmvdZHR1gEf9E0NCjLXMUgyAAMEZ1OCXk4fyYU=\",\"ak.pv\":\"166\",\"ak.dpoabenc\":\"\",\"ak.tf\":i};if(\"\"!==t)o[\"ak.ruds\"]=t;var r={i:!1,av:function(n){var t=\"http.initiator\";if(n&&(!n[t]||\"spa_hard\"===n[t]))o[\"ak.feo\"]=void 0!==e.aFeoApplied?1:0,BOOMR.addVar(o)},rv:function(){var e=[\"ak.bpcip\",\"ak.cport\",\"ak.cr\",\"ak.csrc\",\"ak.gh\",\"ak.ipv\",\"ak.m\",\"ak.n\",\"ak.ol\",\"ak.proto\",\"ak.quicv\",\"ak.tlsv\",\"ak.0rtt\",\"ak.r\",\"ak.acc\",\"ak.t\",\"ak.tf\"];BOOMR.removeVar(e)}};BOOMR.plugins.AK={akVars:o,akDNSPreFetchDomain:a,init:function(){if(!r.i){var e=BOOMR.subscribe;e(\"before_beacon\",r.av,null,null),e(\"onbeacon\",r.rv,null,null),r.i=!0}return this},is_complete:function(){return!0}}}}()}(window);</script></head>\n",
      "<body style=\"font-family: 'Open Sans', Helvetica, Arial, sans-serif; line-height: 1.36;\">\n",
      "<div style=\"max-width: 1000px;min-width: 760px;overflow: hidden;margin:100px auto;\">\n",
      "<div style=\"float: left;padding: 50px 10px 40px 10px; width: 250px; box-sizing: border-box;\">\n",
      "<a href=\"https://www.newegg.com/\" style=\"border: none;\">\n",
      "<img alt=\"\" src=\"//c1.neweggimages.com/WebResource/Themes/2005/Nest/logo_424x210.png\" width=\"216\"/>\n",
      "</a>\n",
      "</div>\n",
      "<div style=\"border-left: 1px solid #ccc; padding: 30px 10px 70px 40px; margin-left: 250px;\">\n",
      "<h1>Human?</h1>\n",
      "<h2>Are you a human?</h2>\n",
      "<p style=\"margin-bottom: 10px;\">We apologize for the confusion, but we can't quite tell if you're a person or a script.</p>\n",
      "<p style=\"margin-bottom: 10px;\">Please don't take this personally. Bots and scripts can be very much lifelike these days!</p>\n",
      "<p style=\"margin-bottom: 40px;\">To help us better protect your account security, please check the CAPTCHA box below.</p>\n",
      "<div class=\"lds-ripple\"><div></div><div></div></div>\n",
      "<p aria-labelledby=\"detect\" role=\"group\"><label><input name=\"check\" type=\"checkbox\"/> detecting...</label></p>\n",
      "<script>var cookiesEnable=\"cookie\" in document&&(document.cookie.length>0||(document.cookie=\"test\").indexOf.call(document.cookie,\"test\")>-1);cookiesEnable||document.write('<p id=\"cookie\" style=\"margin-top: 40px;\">We use cookies to provide functionalities and bring better user experience to you. Please allow cookies for Newegg site.</p>');</script>\n",
      "<p style=\"margin-top: 40px;\">If you're interested in accessing Newegg API service, please <a href=\"#\" onclick=\"javascript:newegg_inhouse_feedback2 &amp;&amp; newegg_inhouse_feedback2.show();\" style=\"cursor: pointer;text-decoration: underline; color: #000;\" title=\"Request Access to Newegg API\">submit a request</a>.</p>\n",
      "<p style=\"margin-top: 40px;\">We would love to hear your opinion. <a href=\"#\" id=\"newegg_footer_feedback\" onclick=\"javascript:newegg_inhouse_feedback &amp;&amp; newegg_inhouse_feedback.show();\" style=\"cursor: pointer;text-decoration: underline; color: #000;\" title=\"feedback\">Let us know your feedback</a>.</p>\n",
      "</div>\n",
      "<script type=\"text/javascript\">\n",
      "    var newegg_inhouse_feedback=null,newegg_inhouse_feedback2=null;!function(){var e=document.location.protocol;if(\"http:\"==e||\"https:\"==e){var n=document.createElement(\"script\");n.type=\"text/javascript\",n.async=!0,n.src=\"//promotions.newegg.com/Newegg/Survey/newegg-feedback.min.js\";var g=document.getElementsByTagName(\"head\")[0].childNodes[0];g.parentNode.insertBefore(n,g),n.onload=function(){null==newegg_inhouse_feedback&&(newegg_inhouse_feedback=new neweggFeedback.NeweggSurvey({cardType:\"Id\",key:\"027BC6DB\"})),null==newegg_inhouse_feedback2&&(newegg_inhouse_feedback2=new neweggFeedback.NeweggSurvey({cardType:\"Id\",key:\"D762FCF1\"}))}}}();\n",
      "\tvar Web={StateManager:{Cookies:{get:function(e){for(var t=document.cookie.split(\";\"),n=0;n<t.length;n++){var o=t[n].split(\"=\");if(e==decodeURIComponent(o[0].trim()))return unescape(o[1])}return null},Name:{UTMA:\"__utma\",NVTC:\"NVTC\",NID:\"NV_NID\",SPT:\"NV_SPT\"}}}};\n",
      "\t</script>\n",
      "</div>\n",
      "<script>\n",
      "var nemdpec=1000;\n",
      "var nemdtoken='1e79963305171aab';\n",
      "var randomct = Math.random()*1000;\n",
      "    if (randomct > nemdpec) {\n",
      "(function (s, o, g, r, a, m) {a=s.createElement(o),m=s.getElementsByTagName(o)[0];a.async=1;\n",
      "    a.addEventListener('load', function() {\n",
      "grecaptcha.ready(function() {\n",
      "    grecaptcha.execute('6LdAn3UUAAAAAKt8pKdAdZf83OwfA2QhtacSvywE', {action: 'recaptcha'})\n",
      "    .then(function(token) {\n",
      "        jQuery.post(window.location.href, { t: token,t2:'s1', cookieEnabled: !!navigator.cookieEnabled, why: why }, function (data, status) {\n",
      "            if (data === 'success') {\n",
      "                var refer = getReferer();\n",
      "                postEventData(refer);\n",
      "                var noprotocl = refer.replace(\"http://\", \"\").replace(\"https://\", \"\");\n",
      "                var questionMarkLocation = noprotocl.indexOf(\"?\");\n",
      "                var label = questionMarkLocation > 0 ? noprotocl.slice(0, questionMarkLocation) : noprotocl;\n",
      "                ga('send', 'event', 'Captcha', 'Click', label);\n",
      "                \n",
      "            } else {\n",
      "                getretry();\n",
      "            }\n",
      "        });\n",
      "    });\n",
      "});\n",
      "});\n",
      "a.src=g;m.parentNode.insertBefore(a,m);\n",
      "})(window, document, 'script', 'https://www.google.com/recaptcha/api.js?render=6LdAn3UUAAAAAKt8pKdAdZf83OwfA2QhtacSvywE');\n",
      "    }\n",
      "    else{\n",
      "(function(e,t,l){function f(t,l){let n=0;for(let e=0;e<t.length;e++){n+=Math.pow(t[e]-l[e],2)}return Math.sqrt(n)}function n(t){let l=0;for(let e=0;e<t.length;e++){l+=t[e]}return l}function u(t){if(t.length>0){let e=n(t);return e/t.length}else{return 0}}function o(l,n){if(n.length>0){let t=0;for(let e=0;e<n.length;e++){t+=Math.pow(l-n[e],2)}return Math.sqrt(t/n.length)}return 0}var d={};d.t=new Array(3);d.l=new Array(2);d.i=250;d.u=300;d.o=1e3;d.h=t*1e3;d.M=\"_usereventdatas\";d.S=.8;d.v=.09;d.g=.05;d.debug=false;d.A=function(e,t,l,n){return Math.sqrt(Math.pow(e-l,2)+Math.pow(t-n,2))};d.J=function(e,t){return e/t};d.N=function(e,t,l){return Math.abs(t-e)/l};d.O=function(e,t,l,n){return Math.atan2(n-t,l-e)*180/Math.PI};d.m=function(e,t,l){return Math.abs(t-e)/l};d.p=function(e){if(e>=0&&e<45){return 0}else if(e>=45&&e<90){return 1}else if(e>=90&&e<135){return 2}else if(e>=135&&e<180){return 3}else if(e>=180||e<-135){return 4}else if(e>=-135&&e<-90){return 5}else if(e>=-90&&e<-45){return 6}else{return 7}};d.I=function(u){let o=u.timeStamp;let a=u.pageX;let s=u.pageY;if(d.t[0]!==undefined){let e=o-d.t[0][2];if(e>d.i){d.t[0]=[u.pageX,u.pageY,o,0,0];return}let t=d.A(a,s,d.t[0][0],d.t[0][1]);if(e<=0||t<=0){return}let l=d.J(t,e);let n=d.N(d.t[0][3],l,e);let r=d.O(d.t[0][0],d.t[0][1],a,s);let f=d.p(r);let i=d.m(d.t[0][4],r,e);if(d.l[0]!==undefined){d.l[0].push([t,l,n,i,f])}else{d.l[0]=[[t,l,n,i,f]]}d.t[0]=[u.pageX,u.pageY,o,l,r]}else{d.t[0]=[u.pageX,u.pageY,o,0,0]}};d.T=function(e){d.t[1]=e.timeStamp;if(d.t[2]!==undefined){let e=d.t[1]-d.t[2];if(e<=d.u&&e>0){if(d.l[1]!==undefined){d.l[1].push(e)}else{d.l[1]=[e]}}}};d._=function(e){d.t[2]=e.timeStamp};d.j=function(){let t=0;let l=0;let n=0;let r=0;let f=0;let i=0;let u=0;let o=0;let a=[0,0,0,0,0,0,0,0];let s=0;let c=0;if(d.l[0]!==undefined){let e=d.l[0].length;if(e>0){for(var h=0;h<e;h++){t+=d.l[0][h][0];l+=d.l[0][h][1];n+=d.l[0][h][2];r+=d.l[0][h][3];a[d.l[0][h][4]]+=1}t=t/e;l=l/e;n=n/e;r=r/e;for(var h=0;h<e;h++){f+=Math.pow(t-d.l[0][h][0],2);i+=Math.pow(l-d.l[0][h][1],2);u+=Math.pow(n-d.l[0][h][2],2);o+=Math.pow(r-d.l[0][h][3],2)}f=Math.sqrt(f/e);i=Math.sqrt(i/e);u=Math.sqrt(u/e);o=Math.sqrt(o/e);for(var h=0;h<a.length;h++){a[h]=a[h]/e}}}if(d.l[1]!==undefined){let e=d.l[1].length;if(e>0){for(var h=0;h<e;h++){s+=d.l[1][h]}s=s/e;for(var h=0;h<e;h++){c+=Math.pow(s-d.l[1][h],2)}c=Math.sqrt(c/e)}}let e=[t,l,n,r,f,i,u,o,s,c];let M=e.concat(a);return M};d.clear=function(){d.t=new Array(3);d.l=new Array(2)};d.k=function(e,t){localStorage.removeItem(d.M);e.onmousedown=d._;e.onmouseup=d.T;e.onmousemove=d.I;let l=setInterval(function(){let e=d.getData();d.q(e)},d.o);setTimeout(function(){clearInterval(l);let e=d.detect();t(e)},d.h)};d.getData=function(){let e=d.j();d.clear();return e};d.B=function(l,n){let r=[0,0,0,0,0,0,0,0,0,0,0,0,0];for(let t=0;t<n.length;t++){let e=f(n[t],l);if(e<=1){r[0]+=1}else if(e>1&&e<=2){r[1]+=1}else if(e>2&&e<=4){r[2]+=1}else if(e>4&&e<=8){r[3]+=1}else if(e>8&&e<=50){r[4]+=1}else if(e>50&&e<=100){r[5]+=1}else if(e>100&&e<=200){r[6]+=1}else if(e>200&&e<=300){r[7]+=1}else if(e>300&&e<=400){r[8]+=1}else if(e>400&&e<=500){r[9]+=1}else if(e>500&&e<=600){r[10]+=1}else if(e>600&&e<=800){r[11]+=1}else{r[12]+=1}}for(let e=0;e<r.length;e++){r[e]=r[e]/n.length}return r};d.q=function(t){if(t!==undefined&&t!=null){if(localStorage[d.M]===undefined||localStorage[d.M]==null){localStorage[d.M]=JSON.stringify([t])}else{let e=JSON.parse(localStorage[d.M]);if(Array.isArray(e)){e.push(t);localStorage[d.M]=JSON.stringify(e)}}}};d.detect=function(){let r=false;let f=JSON.parse(localStorage[d.M]);let i=[0,0,0,0,0,0,0,0,0,0,0,0,0];if(Array.isArray(f)&&f.length>1){let n=0;for(let l=0;l<f.length;l++){for(let e=l+1;e<f.length;e++){let t=d.B(f[l],f);for(let e=0;e<i.length;e++){i[e]+=t[e]}n+=1}}for(let e=0;e<i.length;e++){i[e]=i[e]/n}let e=i[0]+i[1];let t=i[10]+i[11]+i[12];if(e>=d.S||t>=d.g){r=true}else if(e<.5){let e=i.slice(2,10);let t=u(e);let l=o(t,e);if(l<=d.v){r=true}}}return r};d.k(e,l)})(document.querySelector(\"body\"),5,function(e) {\n",
      "    if (!e) {\n",
      "    var timestamp = Math.floor(Date.now() / 1000);\n",
      "    jQuery.post(window.location.href, { t: timestamp+nemdtoken, t2:'md', cookieEnabled: !!navigator.cookieEnabled, why: why }, function (data, status) {\n",
      "        if (data === 'success') {\n",
      "            var refer = getReferer();\n",
      "            postEventData(refer);\n",
      "            var noprotocl = refer.replace(\"http://\", \"\").replace(\"https://\", \"\");\n",
      "            var questionMarkLocation = noprotocl.indexOf(\"?\");\n",
      "            var label = questionMarkLocation > 0 ? noprotocl.slice(0, questionMarkLocation) : noprotocl;\n",
      "            ga('send', 'event', 'Captcha', 'Click', label);\n",
      "            \n",
      "        } else {\n",
      "            getretry();\n",
      "        }\n",
      "    });\n",
      "    } else {\n",
      "    getretry();\n",
      "    }\n",
      "});\n",
      "}\n",
      "</script>\n",
      "</body>\n",
      "</html>\n",
      ">\n"
     ]
    }
   ],
   "source": [
    "print(doc.prettify)"
   ]
  },
  {
   "cell_type": "code",
   "execution_count": 34,
   "id": "a31caf72",
   "metadata": {},
   "outputs": [
    {
     "name": "stderr",
     "output_type": "stream",
     "text": [
      "<ipython-input-34-372899c258bf>:1: DeprecationWarning: The 'text' argument to find()-type methods is deprecated. Use 'string' instead.\n",
      "  price=doc.find_all(text=\"$\")\n"
     ]
    }
   ],
   "source": [
    "price=doc.find_all(text=\"$\")"
   ]
  },
  {
   "cell_type": "code",
   "execution_count": 36,
   "id": "3724c33e",
   "metadata": {},
   "outputs": [
    {
     "name": "stdout",
     "output_type": "stream",
     "text": [
      "[]\n"
     ]
    }
   ],
   "source": [
    "print(price)"
   ]
  },
  {
   "cell_type": "markdown",
   "id": "3b33ac22",
   "metadata": {},
   "source": [
    "BOOK"
   ]
  },
  {
   "cell_type": "code",
   "execution_count": 37,
   "id": "2aabbb7a",
   "metadata": {},
   "outputs": [],
   "source": [
    "from bs4 import BeautifulSoup"
   ]
  },
  {
   "cell_type": "code",
   "execution_count": 39,
   "id": "fa368bdc",
   "metadata": {},
   "outputs": [],
   "source": [
    "fname=r\"C:\\Users\\91821\\Downloads\\iris_page.html\""
   ]
  },
  {
   "cell_type": "code",
   "execution_count": 40,
   "id": "5a845587",
   "metadata": {},
   "outputs": [],
   "source": [
    "iris_soup=BeautifulSoup(open(fname),\"lxml\")"
   ]
  },
  {
   "cell_type": "code",
   "execution_count": 41,
   "id": "4aab5e99",
   "metadata": {},
   "outputs": [],
   "source": [
    "from urllib.request import urlopen\n",
    "from bs4 import BeautifulSoup\n",
    "wp=\"https://en.wikipedia.org/wiki/Iris_flower_data_set\"\n",
    "pageSource=urlopen(wp).read()\n",
    "\n",
    "Iris_Soup=BeautifulSoup(pageSource,\"lxml\")"
   ]
  },
  {
   "cell_type": "code",
   "execution_count": 42,
   "id": "3eb8ef95",
   "metadata": {},
   "outputs": [
    {
     "data": {
      "text/plain": [
       "bs4.BeautifulSoup"
      ]
     },
     "execution_count": 42,
     "metadata": {},
     "output_type": "execute_result"
    }
   ],
   "source": [
    "type(iris_soup)"
   ]
  },
  {
   "cell_type": "code",
   "execution_count": 43,
   "id": "c789de6d",
   "metadata": {},
   "outputs": [
    {
     "name": "stdout",
     "output_type": "stream",
     "text": [
      "[document]\n"
     ]
    }
   ],
   "source": [
    "print(iris_soup.name)"
   ]
  },
  {
   "cell_type": "code",
   "execution_count": 44,
   "id": "21e6bcda",
   "metadata": {},
   "outputs": [
    {
     "name": "stdout",
     "output_type": "stream",
     "text": [
      "<title>Iris flower dataset</title>\n"
     ]
    }
   ],
   "source": [
    "print(iris_soup.title)"
   ]
  },
  {
   "cell_type": "code",
   "execution_count": 47,
   "id": "76157f9e",
   "metadata": {},
   "outputs": [
    {
     "name": "stdout",
     "output_type": "stream",
     "text": [
      "Iris flower dataset\n"
     ]
    }
   ],
   "source": [
    "print(iris_soup.title.string)"
   ]
  },
  {
   "cell_type": "code",
   "execution_count": 48,
   "id": "ac576310",
   "metadata": {},
   "outputs": [
    {
     "data": {
      "text/plain": [
       "bs4.element.Tag"
      ]
     },
     "execution_count": 48,
     "metadata": {},
     "output_type": "execute_result"
    }
   ],
   "source": [
    "type(iris_soup.title)"
   ]
  },
  {
   "cell_type": "code",
   "execution_count": 49,
   "id": "f7111c40",
   "metadata": {},
   "outputs": [
    {
     "data": {
      "text/plain": [
       "bs4.element.NavigableString"
      ]
     },
     "execution_count": 49,
     "metadata": {},
     "output_type": "execute_result"
    }
   ],
   "source": [
    "type(iris_soup.title.string)"
   ]
  },
  {
   "cell_type": "code",
   "execution_count": 50,
   "id": "64dfc02c",
   "metadata": {},
   "outputs": [
    {
     "data": {
      "text/plain": [
       "[<i>Iris</i>, ' Flower\\n      Dataset\\n    ']"
      ]
     },
     "execution_count": 50,
     "metadata": {},
     "output_type": "execute_result"
    }
   ],
   "source": [
    "iris_soup.h1.contents"
   ]
  },
  {
   "cell_type": "code",
   "execution_count": 51,
   "id": "6053b3ce",
   "metadata": {},
   "outputs": [
    {
     "data": {
      "text/plain": [
       "'Iris Flower\\n      Dataset\\n    '"
      ]
     },
     "execution_count": 51,
     "metadata": {},
     "output_type": "execute_result"
    }
   ],
   "source": [
    "iris_soup.h1.text"
   ]
  },
  {
   "cell_type": "code",
   "execution_count": 52,
   "id": "fd4b5733",
   "metadata": {},
   "outputs": [
    {
     "name": "stdout",
     "output_type": "stream",
     "text": [
      "'Iris'\n",
      "'Flower\\n      Dataset'\n"
     ]
    }
   ],
   "source": [
    "for ss in iris_soup.h1.stripped_strings:\n",
    "    print(repr(ss))"
   ]
  },
  {
   "cell_type": "code",
   "execution_count": 53,
   "id": "bcab0a51",
   "metadata": {},
   "outputs": [],
   "source": [
    "first_div=iris_soup.div"
   ]
  },
  {
   "cell_type": "code",
   "execution_count": 54,
   "id": "691c227b",
   "metadata": {},
   "outputs": [
    {
     "data": {
      "text/plain": [
       "<div class=\"mw-body-content\" id=\"bodyContent\">\n",
       "<p>This is one of the best known datasets in data science and it is\n",
       "      fair to say it has become a canonical example in the training of\n",
       "      new data scientists.</p>\n",
       "<p>The data set contains 50 instances of 3 classes of 50 iris\n",
       "      plants. One of the classes is linearly separable from the other 2,\n",
       "      and these in turn are not linearly separable from each other.</p>\n",
       "</div>"
      ]
     },
     "execution_count": 54,
     "metadata": {},
     "output_type": "execute_result"
    }
   ],
   "source": [
    "first_div"
   ]
  },
  {
   "cell_type": "code",
   "execution_count": 63,
   "id": "f31d25a6",
   "metadata": {},
   "outputs": [],
   "source": [
    "para=first_div.find(\"p\")"
   ]
  },
  {
   "cell_type": "code",
   "execution_count": 64,
   "id": "344aee5a",
   "metadata": {},
   "outputs": [
    {
     "data": {
      "text/plain": [
       "<p>This is one of the best known datasets in data science and it is\n",
       "      fair to say it has become a canonical example in the training of\n",
       "      new data scientists.</p>"
      ]
     },
     "execution_count": 64,
     "metadata": {},
     "output_type": "execute_result"
    }
   ],
   "source": [
    "para"
   ]
  },
  {
   "cell_type": "code",
   "execution_count": 61,
   "id": "f988baea",
   "metadata": {},
   "outputs": [],
   "source": [
    "para1=first_div.find_all(\"p\")"
   ]
  },
  {
   "cell_type": "code",
   "execution_count": 62,
   "id": "089fe542",
   "metadata": {},
   "outputs": [
    {
     "data": {
      "text/plain": [
       "[<p>This is one of the best known datasets in data science and it is\n",
       "       fair to say it has become a canonical example in the training of\n",
       "       new data scientists.</p>,\n",
       " <p>The data set contains 50 instances of 3 classes of 50 iris\n",
       "       plants. One of the classes is linearly separable from the other 2,\n",
       "       and these in turn are not linearly separable from each other.</p>]"
      ]
     },
     "execution_count": 62,
     "metadata": {},
     "output_type": "execute_result"
    }
   ],
   "source": [
    "para1"
   ]
  },
  {
   "cell_type": "code",
   "execution_count": 65,
   "id": "3b0543a4",
   "metadata": {},
   "outputs": [
    {
     "data": {
      "text/plain": [
       "'This is one of the best known datasets in data science and it is\\n      fair to say it has become a canonical example in the training of\\n      new data scientists.'"
      ]
     },
     "execution_count": 65,
     "metadata": {},
     "output_type": "execute_result"
    }
   ],
   "source": [
    "para.string"
   ]
  },
  {
   "cell_type": "code",
   "execution_count": 66,
   "id": "0a73a558",
   "metadata": {},
   "outputs": [
    {
     "data": {
      "text/plain": [
       "[<p>This is one of the best known datasets in data science and it is\n",
       "       fair to say it has become a canonical example in the training of\n",
       "       new data scientists.</p>,\n",
       " <p>The data set contains 50 instances of 3 classes of 50 iris\n",
       "       plants. One of the classes is linearly separable from the other 2,\n",
       "       and these in turn are not linearly separable from each other.</p>,\n",
       " <li>sepal length in cm </li>,\n",
       " <li>sepal width in cm </li>,\n",
       " <li>petal length in cm </li>,\n",
       " <li>petal width in cm </li>,\n",
       " <li>class: -- 3 values:  Iris Setosa, Iris Versicolour, Iris\n",
       "         Virginica </li>,\n",
       " <p id=\"rogel1\">[1] <b>Rogel-Salazar, J</b>. (2017). <i>Data\n",
       "         Science and Analytics with Python</i>. Chapman &amp; Hall/CRC\n",
       "         Data Mining and Knowledge Discovery Series. CRC Press.\n",
       "         <meta content=\"text/html;\n",
       "         charset=utf-8\" http-equiv=\"Content-Type\"/></p>]"
      ]
     },
     "execution_count": 66,
     "metadata": {},
     "output_type": "execute_result"
    }
   ],
   "source": [
    "iris_soup.find_all([\"p\",\"li\"])"
   ]
  },
  {
   "cell_type": "code",
   "execution_count": 67,
   "id": "56b9f2b6",
   "metadata": {},
   "outputs": [
    {
     "data": {
      "text/plain": [
       "[<p id=\"rogel1\">[1] <b>Rogel-Salazar, J</b>. (2017). <i>Data\n",
       "         Science and Analytics with Python</i>. Chapman &amp; Hall/CRC\n",
       "         Data Mining and Knowledge Discovery Series. CRC Press.\n",
       "         <meta content=\"text/html;\n",
       "         charset=utf-8\" http-equiv=\"Content-Type\"/></p>]"
      ]
     },
     "execution_count": 67,
     "metadata": {},
     "output_type": "execute_result"
    }
   ],
   "source": [
    "bib=iris_soup.find_all(\"p\",id=\"rogel1\")\n",
    "bib"
   ]
  },
  {
   "cell_type": "code",
   "execution_count": 68,
   "id": "e1da952b",
   "metadata": {},
   "outputs": [],
   "source": [
    "my_text=bib[0].text"
   ]
  },
  {
   "cell_type": "code",
   "execution_count": 69,
   "id": "5ee92504",
   "metadata": {},
   "outputs": [
    {
     "data": {
      "text/plain": [
       "'[1] Rogel-Salazar, J. (2017). Data\\n        Science and Analytics with Python. Chapman & Hall/CRC\\n        Data Mining and Knowledge Discovery Series. CRC Press.\\n        '"
      ]
     },
     "execution_count": 69,
     "metadata": {},
     "output_type": "execute_result"
    }
   ],
   "source": [
    "my_text"
   ]
  },
  {
   "cell_type": "code",
   "execution_count": 71,
   "id": "3dd49bc9",
   "metadata": {},
   "outputs": [],
   "source": [
    "iris_table=iris_soup.find(\"table\",class_=\"tableizer-table\")"
   ]
  },
  {
   "cell_type": "code",
   "execution_count": 72,
   "id": "c130307a",
   "metadata": {},
   "outputs": [
    {
     "data": {
      "text/plain": [
       "<table class=\"tableizer-table\">\n",
       "<thead><tr class=\"tableizer-firstrow\"><th>Dataset Order</th><th>Sepal length</th><th>Sepal width</th><th>Petal length</th><th>Petal width</th><th>Species</th></tr></thead><tbody>\n",
       "<tr><td>1</td><td>5.1</td><td>3.5</td><td>1.4</td><td>0.2</td><td>I.Â setosa</td></tr>\n",
       "<tr><td>2</td><td>4.9</td><td>3</td><td>1.4</td><td>0.2</td><td>I.Â setosa</td></tr>\n",
       "<tr><td>3</td><td>4.7</td><td>3.2</td><td>1.3</td><td>0.2</td><td>I.Â setosa</td></tr>\n",
       "<tr><td>4</td><td>4.6</td><td>3.1</td><td>1.5</td><td>0.2</td><td>I.Â setosa</td></tr>\n",
       "<tr><td>5</td><td>5</td><td>3.6</td><td>1.4</td><td>0.3</td><td>I.Â setosa</td></tr>\n",
       "<tr><td>6</td><td>5.4</td><td>3.9</td><td>1.7</td><td>0.4</td><td>I.Â setosa</td></tr>\n",
       "<tr><td>7</td><td>4.6</td><td>3.4</td><td>1.4</td><td>0.3</td><td>I.Â setosa</td></tr>\n",
       "<tr><td>8</td><td>5</td><td>3.4</td><td>1.5</td><td>0.2</td><td>I.Â setosa</td></tr>\n",
       "<tr><td>9</td><td>4.4</td><td>2.9</td><td>1.4</td><td>0.2</td><td>I.Â setosa</td></tr>\n",
       "<tr><td>10</td><td>4.9</td><td>3.1</td><td>1.5</td><td>0.1</td><td>I.Â setosa</td></tr>\n",
       "<tr><td>11</td><td>5.4</td><td>3.7</td><td>1.5</td><td>0.2</td><td>I.Â setosa</td></tr>\n",
       "<tr><td>12</td><td>4.8</td><td>3.4</td><td>1.6</td><td>0.2</td><td>I.Â setosa</td></tr>\n",
       "<tr><td>13</td><td>4.8</td><td>3</td><td>1.4</td><td>0.1</td><td>I.Â setosa</td></tr>\n",
       "<tr><td>14</td><td>4.3</td><td>3</td><td>1.1</td><td>0.1</td><td>I.Â setosa</td></tr>\n",
       "<tr><td>15</td><td>5.8</td><td>4</td><td>1.2</td><td>0.2</td><td>I.Â setosa</td></tr>\n",
       "<tr><td>16</td><td>5.7</td><td>4.4</td><td>1.5</td><td>0.4</td><td>I.Â setosa</td></tr>\n",
       "<tr><td>17</td><td>5.4</td><td>3.9</td><td>1.3</td><td>0.4</td><td>I.Â setosa</td></tr>\n",
       "<tr><td>18</td><td>5.1</td><td>3.5</td><td>1.4</td><td>0.3</td><td>I.Â setosa</td></tr>\n",
       "<tr><td>19</td><td>5.7</td><td>3.8</td><td>1.7</td><td>0.3</td><td>I.Â setosa</td></tr>\n",
       "<tr><td>20</td><td>5.1</td><td>3.8</td><td>1.5</td><td>0.3</td><td>I.Â setosa</td></tr>\n",
       "<tr><td>21</td><td>5.4</td><td>3.4</td><td>1.7</td><td>0.2</td><td>I.Â setosa</td></tr>\n",
       "<tr><td>22</td><td>5.1</td><td>3.7</td><td>1.5</td><td>0.4</td><td>I.Â setosa</td></tr>\n",
       "<tr><td>23</td><td>4.6</td><td>3.6</td><td>1</td><td>0.2</td><td>I.Â setosa</td></tr>\n",
       "<tr><td>24</td><td>5.1</td><td>3.3</td><td>1.7</td><td>0.5</td><td>I.Â setosa</td></tr>\n",
       "<tr><td>25</td><td>4.8</td><td>3.4</td><td>1.9</td><td>0.2</td><td>I.Â setosa</td></tr>\n",
       "<tr><td>26</td><td>5</td><td>3</td><td>1.6</td><td>0.2</td><td>I.Â setosa</td></tr>\n",
       "<tr><td>27</td><td>5</td><td>3.4</td><td>1.6</td><td>0.4</td><td>I.Â setosa</td></tr>\n",
       "<tr><td>28</td><td>5.2</td><td>3.5</td><td>1.5</td><td>0.2</td><td>I.Â setosa</td></tr>\n",
       "<tr><td>29</td><td>5.2</td><td>3.4</td><td>1.4</td><td>0.2</td><td>I.Â setosa</td></tr>\n",
       "<tr><td>30</td><td>4.7</td><td>3.2</td><td>1.6</td><td>0.2</td><td>I.Â setosa</td></tr>\n",
       "<tr><td>31</td><td>4.8</td><td>3.1</td><td>1.6</td><td>0.2</td><td>I.Â setosa</td></tr>\n",
       "<tr><td>32</td><td>5.4</td><td>3.4</td><td>1.5</td><td>0.4</td><td>I.Â setosa</td></tr>\n",
       "<tr><td>33</td><td>5.2</td><td>4.1</td><td>1.5</td><td>0.1</td><td>I.Â setosa</td></tr>\n",
       "<tr><td>34</td><td>5.5</td><td>4.2</td><td>1.4</td><td>0.2</td><td>I.Â setosa</td></tr>\n",
       "<tr><td>35</td><td>4.9</td><td>3.1</td><td>1.5</td><td>0.2</td><td>I.Â setosa</td></tr>\n",
       "<tr><td>36</td><td>5</td><td>3.2</td><td>1.2</td><td>0.2</td><td>I.Â setosa</td></tr>\n",
       "<tr><td>37</td><td>5.5</td><td>3.5</td><td>1.3</td><td>0.2</td><td>I.Â setosa</td></tr>\n",
       "<tr><td>38</td><td>4.9</td><td>3.6</td><td>1.4</td><td>0.1</td><td>I.Â setosa</td></tr>\n",
       "<tr><td>39</td><td>4.4</td><td>3</td><td>1.3</td><td>0.2</td><td>I.Â setosa</td></tr>\n",
       "<tr><td>40</td><td>5.1</td><td>3.4</td><td>1.5</td><td>0.2</td><td>I.Â setosa</td></tr>\n",
       "<tr><td>41</td><td>5</td><td>3.5</td><td>1.3</td><td>0.3</td><td>I.Â setosa</td></tr>\n",
       "<tr><td>42</td><td>4.5</td><td>2.3</td><td>1.3</td><td>0.3</td><td>I.Â setosa</td></tr>\n",
       "<tr><td>43</td><td>4.4</td><td>3.2</td><td>1.3</td><td>0.2</td><td>I.Â setosa</td></tr>\n",
       "<tr><td>44</td><td>5</td><td>3.5</td><td>1.6</td><td>0.6</td><td>I.Â setosa</td></tr>\n",
       "<tr><td>45</td><td>5.1</td><td>3.8</td><td>1.9</td><td>0.4</td><td>I.Â setosa</td></tr>\n",
       "<tr><td>46</td><td>4.8</td><td>3</td><td>1.4</td><td>0.3</td><td>I.Â setosa</td></tr>\n",
       "<tr><td>47</td><td>5.1</td><td>3.8</td><td>1.6</td><td>0.2</td><td>I.Â setosa</td></tr>\n",
       "<tr><td>48</td><td>4.6</td><td>3.2</td><td>1.4</td><td>0.2</td><td>I.Â setosa</td></tr>\n",
       "<tr><td>49</td><td>5.3</td><td>3.7</td><td>1.5</td><td>0.2</td><td>I.Â setosa</td></tr>\n",
       "<tr><td>50</td><td>5</td><td>3.3</td><td>1.4</td><td>0.2</td><td>I.Â setosa</td></tr>\n",
       "<tr><td>51</td><td>7</td><td>3.2</td><td>4.7</td><td>1.4</td><td>I.Â versicolor</td></tr>\n",
       "<tr><td>52</td><td>6.4</td><td>3.2</td><td>4.5</td><td>1.5</td><td>I.Â versicolor</td></tr>\n",
       "<tr><td>53</td><td>6.9</td><td>3.1</td><td>4.9</td><td>1.5</td><td>I.Â versicolor</td></tr>\n",
       "<tr><td>54</td><td>5.5</td><td>2.3</td><td>4</td><td>1.3</td><td>I.Â versicolor</td></tr>\n",
       "<tr><td>55</td><td>6.5</td><td>2.8</td><td>4.6</td><td>1.5</td><td>I.Â versicolor</td></tr>\n",
       "<tr><td>56</td><td>5.7</td><td>2.8</td><td>4.5</td><td>1.3</td><td>I.Â versicolor</td></tr>\n",
       "<tr><td>57</td><td>6.3</td><td>3.3</td><td>4.7</td><td>1.6</td><td>I.Â versicolor</td></tr>\n",
       "<tr><td>58</td><td>4.9</td><td>2.4</td><td>3.3</td><td>1</td><td>I.Â versicolor</td></tr>\n",
       "<tr><td>59</td><td>6.6</td><td>2.9</td><td>4.6</td><td>1.3</td><td>I.Â versicolor</td></tr>\n",
       "<tr><td>60</td><td>5.2</td><td>2.7</td><td>3.9</td><td>1.4</td><td>I.Â versicolor</td></tr>\n",
       "<tr><td>61</td><td>5</td><td>2</td><td>3.5</td><td>1</td><td>I.Â versicolor</td></tr>\n",
       "<tr><td>62</td><td>5.9</td><td>3</td><td>4.2</td><td>1.5</td><td>I.Â versicolor</td></tr>\n",
       "<tr><td>63</td><td>6</td><td>2.2</td><td>4</td><td>1</td><td>I.Â versicolor</td></tr>\n",
       "<tr><td>64</td><td>6.1</td><td>2.9</td><td>4.7</td><td>1.4</td><td>I.Â versicolor</td></tr>\n",
       "<tr><td>65</td><td>5.6</td><td>2.9</td><td>3.6</td><td>1.3</td><td>I.Â versicolor</td></tr>\n",
       "<tr><td>66</td><td>6.7</td><td>3.1</td><td>4.4</td><td>1.4</td><td>I.Â versicolor</td></tr>\n",
       "<tr><td>67</td><td>5.6</td><td>3</td><td>4.5</td><td>1.5</td><td>I.Â versicolor</td></tr>\n",
       "<tr><td>68</td><td>5.8</td><td>2.7</td><td>4.1</td><td>1</td><td>I.Â versicolor</td></tr>\n",
       "<tr><td>69</td><td>6.2</td><td>2.2</td><td>4.5</td><td>1.5</td><td>I.Â versicolor</td></tr>\n",
       "<tr><td>70</td><td>5.6</td><td>2.5</td><td>3.9</td><td>1.1</td><td>I.Â versicolor</td></tr>\n",
       "<tr><td>71</td><td>5.9</td><td>3.2</td><td>4.8</td><td>1.8</td><td>I.Â versicolor</td></tr>\n",
       "<tr><td>72</td><td>6.1</td><td>2.8</td><td>4</td><td>1.3</td><td>I.Â versicolor</td></tr>\n",
       "<tr><td>73</td><td>6.3</td><td>2.5</td><td>4.9</td><td>1.5</td><td>I.Â versicolor</td></tr>\n",
       "<tr><td>74</td><td>6.1</td><td>2.8</td><td>4.7</td><td>1.2</td><td>I.Â versicolor</td></tr>\n",
       "<tr><td>75</td><td>6.4</td><td>2.9</td><td>4.3</td><td>1.3</td><td>I.Â versicolor</td></tr>\n",
       "<tr><td>76</td><td>6.6</td><td>3</td><td>4.4</td><td>1.4</td><td>I.Â versicolor</td></tr>\n",
       "<tr><td>77</td><td>6.8</td><td>2.8</td><td>4.8</td><td>1.4</td><td>I.Â versicolor</td></tr>\n",
       "<tr><td>78</td><td>6.7</td><td>3</td><td>5</td><td>1.7</td><td>I.Â versicolor</td></tr>\n",
       "<tr><td>79</td><td>6</td><td>2.9</td><td>4.5</td><td>1.5</td><td>I.Â versicolor</td></tr>\n",
       "<tr><td>80</td><td>5.7</td><td>2.6</td><td>3.5</td><td>1</td><td>I.Â versicolor</td></tr>\n",
       "<tr><td>81</td><td>5.5</td><td>2.4</td><td>3.8</td><td>1.1</td><td>I.Â versicolor</td></tr>\n",
       "<tr><td>82</td><td>5.5</td><td>2.4</td><td>3.7</td><td>1</td><td>I.Â versicolor</td></tr>\n",
       "<tr><td>83</td><td>5.8</td><td>2.7</td><td>3.9</td><td>1.2</td><td>I.Â versicolor</td></tr>\n",
       "<tr><td>84</td><td>6</td><td>2.7</td><td>5.1</td><td>1.6</td><td>I.Â versicolor</td></tr>\n",
       "<tr><td>85</td><td>5.4</td><td>3</td><td>4.5</td><td>1.5</td><td>I.Â versicolor</td></tr>\n",
       "<tr><td>86</td><td>6</td><td>3.4</td><td>4.5</td><td>1.6</td><td>I.Â versicolor</td></tr>\n",
       "<tr><td>87</td><td>6.7</td><td>3.1</td><td>4.7</td><td>1.5</td><td>I.Â versicolor</td></tr>\n",
       "<tr><td>88</td><td>6.3</td><td>2.3</td><td>4.4</td><td>1.3</td><td>I.Â versicolor</td></tr>\n",
       "<tr><td>89</td><td>5.6</td><td>3</td><td>4.1</td><td>1.3</td><td>I.Â versicolor</td></tr>\n",
       "<tr><td>90</td><td>5.5</td><td>2.5</td><td>4</td><td>1.3</td><td>I.Â versicolor</td></tr>\n",
       "<tr><td>91</td><td>5.5</td><td>2.6</td><td>4.4</td><td>1.2</td><td>I.Â versicolor</td></tr>\n",
       "<tr><td>92</td><td>6.1</td><td>3</td><td>4.6</td><td>1.4</td><td>I.Â versicolor</td></tr>\n",
       "<tr><td>93</td><td>5.8</td><td>2.6</td><td>4</td><td>1.2</td><td>I.Â versicolor</td></tr>\n",
       "<tr><td>94</td><td>5</td><td>2.3</td><td>3.3</td><td>1</td><td>I.Â versicolor</td></tr>\n",
       "<tr><td>95</td><td>5.6</td><td>2.7</td><td>4.2</td><td>1.3</td><td>I.Â versicolor</td></tr>\n",
       "<tr><td>96</td><td>5.7</td><td>3</td><td>4.2</td><td>1.2</td><td>I.Â versicolor</td></tr>\n",
       "<tr><td>97</td><td>5.7</td><td>2.9</td><td>4.2</td><td>1.3</td><td>I.Â versicolor</td></tr>\n",
       "<tr><td>98</td><td>6.2</td><td>2.9</td><td>4.3</td><td>1.3</td><td>I.Â versicolor</td></tr>\n",
       "<tr><td>99</td><td>5.1</td><td>2.5</td><td>3</td><td>1.1</td><td>I.Â versicolor</td></tr>\n",
       "<tr><td>100</td><td>5.7</td><td>2.8</td><td>4.1</td><td>1.3</td><td>I.Â versicolor</td></tr>\n",
       "<tr><td>101</td><td>6.3</td><td>3.3</td><td>6</td><td>2.5</td><td>I.Â virginica</td></tr>\n",
       "<tr><td>102</td><td>5.8</td><td>2.7</td><td>5.1</td><td>1.9</td><td>I.Â virginica</td></tr>\n",
       "<tr><td>103</td><td>7.1</td><td>3</td><td>5.9</td><td>2.1</td><td>I.Â virginica</td></tr>\n",
       "<tr><td>104</td><td>6.3</td><td>2.9</td><td>5.6</td><td>1.8</td><td>I.Â virginica</td></tr>\n",
       "<tr><td>105</td><td>6.5</td><td>3</td><td>5.8</td><td>2.2</td><td>I.Â virginica</td></tr>\n",
       "<tr><td>106</td><td>7.6</td><td>3</td><td>6.6</td><td>2.1</td><td>I.Â virginica</td></tr>\n",
       "<tr><td>107</td><td>4.9</td><td>2.5</td><td>4.5</td><td>1.7</td><td>I.Â virginica</td></tr>\n",
       "<tr><td>108</td><td>7.3</td><td>2.9</td><td>6.3</td><td>1.8</td><td>I.Â virginica</td></tr>\n",
       "<tr><td>109</td><td>6.7</td><td>2.5</td><td>5.8</td><td>1.8</td><td>I.Â virginica</td></tr>\n",
       "<tr><td>110</td><td>7.2</td><td>3.6</td><td>6.1</td><td>2.5</td><td>I.Â virginica</td></tr>\n",
       "<tr><td>111</td><td>6.5</td><td>3.2</td><td>5.1</td><td>2</td><td>I.Â virginica</td></tr>\n",
       "<tr><td>112</td><td>6.4</td><td>2.7</td><td>5.3</td><td>1.9</td><td>I.Â virginica</td></tr>\n",
       "<tr><td>113</td><td>6.8</td><td>3</td><td>5.5</td><td>2.1</td><td>I.Â virginica</td></tr>\n",
       "<tr><td>114</td><td>5.7</td><td>2.5</td><td>5</td><td>2</td><td>I.Â virginica</td></tr>\n",
       "<tr><td>115</td><td>5.8</td><td>2.8</td><td>5.1</td><td>2.4</td><td>I.Â virginica</td></tr>\n",
       "<tr><td>116</td><td>6.4</td><td>3.2</td><td>5.3</td><td>2.3</td><td>I.Â virginica</td></tr>\n",
       "<tr><td>117</td><td>6.5</td><td>3</td><td>5.5</td><td>1.8</td><td>I.Â virginica</td></tr>\n",
       "<tr><td>118</td><td>7.7</td><td>3.8</td><td>6.7</td><td>2.2</td><td>I.Â virginica</td></tr>\n",
       "<tr><td>119</td><td>7.7</td><td>2.6</td><td>6.9</td><td>2.3</td><td>I.Â virginica</td></tr>\n",
       "<tr><td>120</td><td>6</td><td>2.2</td><td>5</td><td>1.5</td><td>I.Â virginica</td></tr>\n",
       "<tr><td>121</td><td>6.9</td><td>3.2</td><td>5.7</td><td>2.3</td><td>I.Â virginica</td></tr>\n",
       "<tr><td>122</td><td>5.6</td><td>2.8</td><td>4.9</td><td>2</td><td>I.Â virginica</td></tr>\n",
       "<tr><td>123</td><td>7.7</td><td>2.8</td><td>6.7</td><td>2</td><td>I.Â virginica</td></tr>\n",
       "<tr><td>124</td><td>6.3</td><td>2.7</td><td>4.9</td><td>1.8</td><td>I.Â virginica</td></tr>\n",
       "<tr><td>125</td><td>6.7</td><td>3.3</td><td>5.7</td><td>2.1</td><td>I.Â virginica</td></tr>\n",
       "<tr><td>126</td><td>7.2</td><td>3.2</td><td>6</td><td>1.8</td><td>I.Â virginica</td></tr>\n",
       "<tr><td>127</td><td>6.2</td><td>2.8</td><td>4.8</td><td>1.8</td><td>I.Â virginica</td></tr>\n",
       "<tr><td>128</td><td>6.1</td><td>3</td><td>4.9</td><td>1.8</td><td>I.Â virginica</td></tr>\n",
       "<tr><td>129</td><td>6.4</td><td>2.8</td><td>5.6</td><td>2.1</td><td>I.Â virginica</td></tr>\n",
       "<tr><td>130</td><td>7.2</td><td>3</td><td>5.8</td><td>1.6</td><td>I.Â virginica</td></tr>\n",
       "<tr><td>131</td><td>7.4</td><td>2.8</td><td>6.1</td><td>1.9</td><td>I.Â virginica</td></tr>\n",
       "<tr><td>132</td><td>7.9</td><td>3.8</td><td>6.4</td><td>2</td><td>I.Â virginica</td></tr>\n",
       "<tr><td>133</td><td>6.4</td><td>2.8</td><td>5.6</td><td>2.2</td><td>I.Â virginica</td></tr>\n",
       "<tr><td>134</td><td>6.3</td><td>2.8</td><td>5.1</td><td>1.5</td><td>I.Â virginica</td></tr>\n",
       "<tr><td>135</td><td>6.1</td><td>2.6</td><td>5.6</td><td>1.4</td><td>I.Â virginica</td></tr>\n",
       "<tr><td>136</td><td>7.7</td><td>3</td><td>6.1</td><td>2.3</td><td>I.Â virginica</td></tr>\n",
       "<tr><td>137</td><td>6.3</td><td>3.4</td><td>5.6</td><td>2.4</td><td>I.Â virginica</td></tr>\n",
       "<tr><td>138</td><td>6.4</td><td>3.1</td><td>5.5</td><td>1.8</td><td>I.Â virginica</td></tr>\n",
       "<tr><td>139</td><td>6</td><td>3</td><td>4.8</td><td>1.8</td><td>I.Â virginica</td></tr>\n",
       "<tr><td>140</td><td>6.9</td><td>3.1</td><td>5.4</td><td>2.1</td><td>I.Â virginica</td></tr>\n",
       "<tr><td>141</td><td>6.7</td><td>3.1</td><td>5.6</td><td>2.4</td><td>I.Â virginica</td></tr>\n",
       "<tr><td>142</td><td>6.9</td><td>3.1</td><td>5.1</td><td>2.3</td><td>I.Â virginica</td></tr>\n",
       "<tr><td>143</td><td>5.8</td><td>2.7</td><td>5.1</td><td>1.9</td><td>I.Â virginica</td></tr>\n",
       "<tr><td>144</td><td>6.8</td><td>3.2</td><td>5.9</td><td>2.3</td><td>I.Â virginica</td></tr>\n",
       "<tr><td>145</td><td>6.7</td><td>3.3</td><td>5.7</td><td>2.5</td><td>I.Â virginica</td></tr>\n",
       "<tr><td>146</td><td>6.7</td><td>3</td><td>5.2</td><td>2.3</td><td>I.Â virginica</td></tr>\n",
       "<tr><td>147</td><td>6.3</td><td>2.5</td><td>5</td><td>1.9</td><td>I.Â virginica</td></tr>\n",
       "<tr><td>148</td><td>6.5</td><td>3</td><td>5.2</td><td>2</td><td>I.Â virginica</td></tr>\n",
       "<tr><td>149</td><td>6.2</td><td>3.4</td><td>5.4</td><td>2.3</td><td>I.Â virginica</td></tr>\n",
       "<tr><td>150</td><td>5.9</td><td>3</td><td>5.1</td><td>1.8</td><td>I.Â virginica</td></tr>\n",
       "</tbody></table>"
      ]
     },
     "execution_count": 72,
     "metadata": {},
     "output_type": "execute_result"
    }
   ],
   "source": [
    "iris_table"
   ]
  },
  {
   "cell_type": "code",
   "execution_count": 76,
   "id": "0f69e2af",
   "metadata": {},
   "outputs": [],
   "source": [
    "tmp = iris_table.find_all('tr')"
   ]
  },
  {
   "cell_type": "code",
   "execution_count": 77,
   "id": "07cb7f2d",
   "metadata": {},
   "outputs": [],
   "source": [
    "first=tmp[0]\n",
    "allRows=tmp[1:]"
   ]
  },
  {
   "cell_type": "code",
   "execution_count": 78,
   "id": "2e0a16d8",
   "metadata": {},
   "outputs": [],
   "source": [
    "headers=[header.text for header in first.find_all('th')]"
   ]
  },
  {
   "cell_type": "code",
   "execution_count": 79,
   "id": "f8ace8a1",
   "metadata": {},
   "outputs": [
    {
     "data": {
      "text/plain": [
       "['Dataset Order',\n",
       " 'Sepal length',\n",
       " 'Sepal width',\n",
       " 'Petal length',\n",
       " 'Petal width',\n",
       " 'Species']"
      ]
     },
     "execution_count": 79,
     "metadata": {},
     "output_type": "execute_result"
    }
   ],
   "source": [
    "headers"
   ]
  },
  {
   "cell_type": "code",
   "execution_count": 84,
   "id": "745e8490",
   "metadata": {},
   "outputs": [
    {
     "data": {
      "text/plain": [
       "[['1', '5.1', '3.5', '1.4', '0.2', 'I.Â\\xa0setosa'],\n",
       " ['2', '4.9', '3', '1.4', '0.2', 'I.Â\\xa0setosa']]"
      ]
     },
     "execution_count": 84,
     "metadata": {},
     "output_type": "execute_result"
    }
   ],
   "source": [
    "values = [[data.text for data in row.find_all('td')] for row in allRows]\n",
    "values[:2]"
   ]
  },
  {
   "cell_type": "code",
   "execution_count": 85,
   "id": "253ed746",
   "metadata": {},
   "outputs": [],
   "source": [
    "import pandas as pd\n",
    "df=pd.DataFrame(data=values,columns=headers)"
   ]
  },
  {
   "cell_type": "code",
   "execution_count": 86,
   "id": "75e9e0ee",
   "metadata": {},
   "outputs": [],
   "source": [
    " cols = ['Dataset Order', 'Sepal length',\n",
    " 'Sepal width', 'Petal length', 'Petal width']\n",
    " df[cols] = df[cols].apply(pd.to_numeric,\n",
    " errors='coerce')"
   ]
  },
  {
   "cell_type": "code",
   "execution_count": 87,
   "id": "9b777b00",
   "metadata": {},
   "outputs": [
    {
     "data": {
      "text/html": [
       "<div>\n",
       "<style scoped>\n",
       "    .dataframe tbody tr th:only-of-type {\n",
       "        vertical-align: middle;\n",
       "    }\n",
       "\n",
       "    .dataframe tbody tr th {\n",
       "        vertical-align: top;\n",
       "    }\n",
       "\n",
       "    .dataframe thead th {\n",
       "        text-align: right;\n",
       "    }\n",
       "</style>\n",
       "<table border=\"1\" class=\"dataframe\">\n",
       "  <thead>\n",
       "    <tr style=\"text-align: right;\">\n",
       "      <th></th>\n",
       "      <th>Dataset Order</th>\n",
       "      <th>Sepal length</th>\n",
       "      <th>Sepal width</th>\n",
       "      <th>Petal length</th>\n",
       "      <th>Petal width</th>\n",
       "      <th>Species</th>\n",
       "    </tr>\n",
       "  </thead>\n",
       "  <tbody>\n",
       "    <tr>\n",
       "      <th>0</th>\n",
       "      <td>1</td>\n",
       "      <td>5.1</td>\n",
       "      <td>3.5</td>\n",
       "      <td>1.4</td>\n",
       "      <td>0.2</td>\n",
       "      <td>I.Â setosa</td>\n",
       "    </tr>\n",
       "    <tr>\n",
       "      <th>1</th>\n",
       "      <td>2</td>\n",
       "      <td>4.9</td>\n",
       "      <td>3.0</td>\n",
       "      <td>1.4</td>\n",
       "      <td>0.2</td>\n",
       "      <td>I.Â setosa</td>\n",
       "    </tr>\n",
       "    <tr>\n",
       "      <th>2</th>\n",
       "      <td>3</td>\n",
       "      <td>4.7</td>\n",
       "      <td>3.2</td>\n",
       "      <td>1.3</td>\n",
       "      <td>0.2</td>\n",
       "      <td>I.Â setosa</td>\n",
       "    </tr>\n",
       "    <tr>\n",
       "      <th>3</th>\n",
       "      <td>4</td>\n",
       "      <td>4.6</td>\n",
       "      <td>3.1</td>\n",
       "      <td>1.5</td>\n",
       "      <td>0.2</td>\n",
       "      <td>I.Â setosa</td>\n",
       "    </tr>\n",
       "    <tr>\n",
       "      <th>4</th>\n",
       "      <td>5</td>\n",
       "      <td>5.0</td>\n",
       "      <td>3.6</td>\n",
       "      <td>1.4</td>\n",
       "      <td>0.3</td>\n",
       "      <td>I.Â setosa</td>\n",
       "    </tr>\n",
       "    <tr>\n",
       "      <th>...</th>\n",
       "      <td>...</td>\n",
       "      <td>...</td>\n",
       "      <td>...</td>\n",
       "      <td>...</td>\n",
       "      <td>...</td>\n",
       "      <td>...</td>\n",
       "    </tr>\n",
       "    <tr>\n",
       "      <th>145</th>\n",
       "      <td>146</td>\n",
       "      <td>6.7</td>\n",
       "      <td>3.0</td>\n",
       "      <td>5.2</td>\n",
       "      <td>2.3</td>\n",
       "      <td>I.Â virginica</td>\n",
       "    </tr>\n",
       "    <tr>\n",
       "      <th>146</th>\n",
       "      <td>147</td>\n",
       "      <td>6.3</td>\n",
       "      <td>2.5</td>\n",
       "      <td>5.0</td>\n",
       "      <td>1.9</td>\n",
       "      <td>I.Â virginica</td>\n",
       "    </tr>\n",
       "    <tr>\n",
       "      <th>147</th>\n",
       "      <td>148</td>\n",
       "      <td>6.5</td>\n",
       "      <td>3.0</td>\n",
       "      <td>5.2</td>\n",
       "      <td>2.0</td>\n",
       "      <td>I.Â virginica</td>\n",
       "    </tr>\n",
       "    <tr>\n",
       "      <th>148</th>\n",
       "      <td>149</td>\n",
       "      <td>6.2</td>\n",
       "      <td>3.4</td>\n",
       "      <td>5.4</td>\n",
       "      <td>2.3</td>\n",
       "      <td>I.Â virginica</td>\n",
       "    </tr>\n",
       "    <tr>\n",
       "      <th>149</th>\n",
       "      <td>150</td>\n",
       "      <td>5.9</td>\n",
       "      <td>3.0</td>\n",
       "      <td>5.1</td>\n",
       "      <td>1.8</td>\n",
       "      <td>I.Â virginica</td>\n",
       "    </tr>\n",
       "  </tbody>\n",
       "</table>\n",
       "<p>150 rows × 6 columns</p>\n",
       "</div>"
      ],
      "text/plain": [
       "     Dataset Order  Sepal length  Sepal width  Petal length  Petal width  \\\n",
       "0                1           5.1          3.5           1.4          0.2   \n",
       "1                2           4.9          3.0           1.4          0.2   \n",
       "2                3           4.7          3.2           1.3          0.2   \n",
       "3                4           4.6          3.1           1.5          0.2   \n",
       "4                5           5.0          3.6           1.4          0.3   \n",
       "..             ...           ...          ...           ...          ...   \n",
       "145            146           6.7          3.0           5.2          2.3   \n",
       "146            147           6.3          2.5           5.0          1.9   \n",
       "147            148           6.5          3.0           5.2          2.0   \n",
       "148            149           6.2          3.4           5.4          2.3   \n",
       "149            150           5.9          3.0           5.1          1.8   \n",
       "\n",
       "           Species  \n",
       "0       I.Â setosa  \n",
       "1       I.Â setosa  \n",
       "2       I.Â setosa  \n",
       "3       I.Â setosa  \n",
       "4       I.Â setosa  \n",
       "..             ...  \n",
       "145  I.Â virginica  \n",
       "146  I.Â virginica  \n",
       "147  I.Â virginica  \n",
       "148  I.Â virginica  \n",
       "149  I.Â virginica  \n",
       "\n",
       "[150 rows x 6 columns]"
      ]
     },
     "execution_count": 87,
     "metadata": {},
     "output_type": "execute_result"
    }
   ],
   "source": [
    "df"
   ]
  },
  {
   "cell_type": "code",
   "execution_count": 92,
   "id": "e9b8a849",
   "metadata": {},
   "outputs": [
    {
     "name": "stdout",
     "output_type": "stream",
     "text": [
      "['Joy']\n",
      "['25']\n",
      "['Joy', 'Tom']\n",
      "['75', '25']\n"
     ]
    }
   ],
   "source": [
    "import re\n",
    "target_str = \"Joy lucky number is 75\\nTom lucky number is 25\"\n",
    " # find 3-letter word at the start of each newline Without re.MULTILINE \n",
    "result = re.findall(r\"^\\w{3}\", target_str)\n",
    "print(result)  \n",
    "# find 2-digit at the end of each newline Without re.M or re.MULTILINE\n",
    "result = re.findall(r\"\\d{2}$\", target_str)\n",
    "print(result)\n",
    " # With re.M or re.MULTILINE\n",
    "result = re.findall(r\"^\\w{3}\", target_str, re.MULTILINE)\n",
    "print(result)\n",
    " # With re.M\n",
    "result = re.findall(r\"\\d{2}$\", target_str, re.M)\n",
    "print(result)\n"
   ]
  },
  {
   "cell_type": "code",
   "execution_count": 93,
   "id": "be75aa8e",
   "metadata": {},
   "outputs": [],
   "source": [
    "arigato=\"ありがと\""
   ]
  },
  {
   "cell_type": "code",
   "execution_count": 94,
   "id": "c140d473",
   "metadata": {},
   "outputs": [
    {
     "data": {
      "text/plain": [
       "str"
      ]
     },
     "execution_count": 94,
     "metadata": {},
     "output_type": "execute_result"
    }
   ],
   "source": [
    "type(arigato)"
   ]
  },
  {
   "cell_type": "code",
   "execution_count": 95,
   "id": "148fa6a9",
   "metadata": {},
   "outputs": [
    {
     "data": {
      "text/plain": [
       "b'\\xe3\\x81\\x82\\xe3\\x82\\x8a\\xe3\\x81\\x8c\\xe3\\x81\\xa8'"
      ]
     },
     "execution_count": 95,
     "metadata": {},
     "output_type": "execute_result"
    }
   ],
   "source": [
    "arigato.encode()"
   ]
  },
  {
   "cell_type": "code",
   "execution_count": 98,
   "id": "fc5235a0",
   "metadata": {},
   "outputs": [
    {
     "data": {
      "text/plain": [
       "b'\\xff\\xfeB0\\x8a0L0h0'"
      ]
     },
     "execution_count": 98,
     "metadata": {},
     "output_type": "execute_result"
    }
   ],
   "source": [
    "arigato.encode('utf-16')"
   ]
  },
  {
   "cell_type": "code",
   "execution_count": 99,
   "id": "2bd3fde1",
   "metadata": {},
   "outputs": [
    {
     "data": {
      "text/plain": [
       "'日本'"
      ]
     },
     "execution_count": 99,
     "metadata": {},
     "output_type": "execute_result"
    }
   ],
   "source": [
    "japan = b'\\xe6\\x97\\xa5\\xe6\\x9c\\xac'\n",
    "japan.decode()"
   ]
  },
  {
   "cell_type": "code",
   "execution_count": 102,
   "id": "7a1e9cb9",
   "metadata": {},
   "outputs": [
    {
     "data": {
      "text/plain": [
       "'ありがと'"
      ]
     },
     "execution_count": 102,
     "metadata": {},
     "output_type": "execute_result"
    }
   ],
   "source": [
    "en=b'\\xe3\\x81\\x82\\xe3\\x82\\x8a\\xe3\\x81\\x8c\\xe3\\x81\\xa8'\n",
    "en.decode()"
   ]
  },
  {
   "cell_type": "code",
   "execution_count": 105,
   "id": "acfaffbf",
   "metadata": {},
   "outputs": [],
   "source": [
    "sentences=\"I am gioing to London.I really like it there,its truely magical.\""
   ]
  },
  {
   "cell_type": "code",
   "execution_count": 106,
   "id": "73076a6e",
   "metadata": {},
   "outputs": [
    {
     "data": {
      "text/plain": [
       "['I',\n",
       " 'am',\n",
       " 'gioing',\n",
       " 'to',\n",
       " 'London.I',\n",
       " 'really',\n",
       " 'like',\n",
       " 'it',\n",
       " 'there,its',\n",
       " 'truely',\n",
       " 'magical.']"
      ]
     },
     "execution_count": 106,
     "metadata": {},
     "output_type": "execute_result"
    }
   ],
   "source": [
    "sentences.split()"
   ]
  },
  {
   "cell_type": "code",
   "execution_count": 107,
   "id": "391f8ad4",
   "metadata": {},
   "outputs": [
    {
     "data": {
      "text/plain": [
       "['I am gioing to London.I really like it there', 'its truely magical.']"
      ]
     },
     "execution_count": 107,
     "metadata": {},
     "output_type": "execute_result"
    }
   ],
   "source": [
    "sentences.split(\",\")"
   ]
  },
  {
   "cell_type": "code",
   "execution_count": 112,
   "id": "68b7afc4",
   "metadata": {},
   "outputs": [],
   "source": [
    "import nltk\n",
    "from nltk import word_tokenize,sent_tokenize"
   ]
  },
  {
   "cell_type": "code",
   "execution_count": 109,
   "id": "38c2c9c3",
   "metadata": {},
   "outputs": [],
   "source": [
    "tokens=word_tokenize(sentences)"
   ]
  },
  {
   "cell_type": "code",
   "execution_count": 110,
   "id": "96511514",
   "metadata": {},
   "outputs": [
    {
     "data": {
      "text/plain": [
       "['I',\n",
       " 'am',\n",
       " 'gioing',\n",
       " 'to',\n",
       " 'London.I',\n",
       " 'really',\n",
       " 'like',\n",
       " 'it',\n",
       " 'there',\n",
       " ',',\n",
       " 'its',\n",
       " 'truely',\n",
       " 'magical',\n",
       " '.']"
      ]
     },
     "execution_count": 110,
     "metadata": {},
     "output_type": "execute_result"
    }
   ],
   "source": [
    "tokens"
   ]
  },
  {
   "cell_type": "code",
   "execution_count": 113,
   "id": "86f6bfa8",
   "metadata": {},
   "outputs": [],
   "source": [
    "tok=nltk.sent_tokenize(sentences)"
   ]
  },
  {
   "cell_type": "code",
   "execution_count": 114,
   "id": "853933cf",
   "metadata": {},
   "outputs": [
    {
     "data": {
      "text/plain": [
       "['I am gioing to London.I really like it there,its truely magical.']"
      ]
     },
     "execution_count": 114,
     "metadata": {},
     "output_type": "execute_result"
    }
   ],
   "source": [
    "tok"
   ]
  },
  {
   "cell_type": "code",
   "execution_count": 115,
   "id": "1ae83f92",
   "metadata": {},
   "outputs": [],
   "source": [
    "words = nltk.word_tokenize(sentences.lower())\n"
   ]
  },
  {
   "cell_type": "code",
   "execution_count": 116,
   "id": "ba110b20",
   "metadata": {},
   "outputs": [
    {
     "data": {
      "text/plain": [
       "['i',\n",
       " 'am',\n",
       " 'gioing',\n",
       " 'to',\n",
       " 'london.i',\n",
       " 'really',\n",
       " 'like',\n",
       " 'it',\n",
       " 'there',\n",
       " ',',\n",
       " 'its',\n",
       " 'truely',\n",
       " 'magical',\n",
       " '.']"
      ]
     },
     "execution_count": 116,
     "metadata": {},
     "output_type": "execute_result"
    }
   ],
   "source": [
    "words"
   ]
  },
  {
   "cell_type": "code",
   "execution_count": 117,
   "id": "7b8b0076",
   "metadata": {},
   "outputs": [
    {
     "data": {
      "text/plain": [
       "['i',\n",
       " 'am',\n",
       " 'gio',\n",
       " 'to',\n",
       " 'london.i',\n",
       " 'realli',\n",
       " 'like',\n",
       " 'it',\n",
       " 'there',\n",
       " ',',\n",
       " 'it',\n",
       " 'trueli',\n",
       " 'magic',\n",
       " '.']"
      ]
     },
     "execution_count": 117,
     "metadata": {},
     "output_type": "execute_result"
    }
   ],
   "source": [
    "porter = nltk.PorterStemmer()\n",
    "[porter.stem(word) for word in words]"
   ]
  },
  {
   "cell_type": "code",
   "execution_count": 118,
   "id": "6bb0833c",
   "metadata": {},
   "outputs": [
    {
     "data": {
      "text/plain": [
       "['i',\n",
       " 'am',\n",
       " 'gioing',\n",
       " 'to',\n",
       " 'london.i',\n",
       " 'really',\n",
       " 'like',\n",
       " 'it',\n",
       " 'there',\n",
       " ',',\n",
       " 'it',\n",
       " 'truely',\n",
       " 'magical',\n",
       " '.']"
      ]
     },
     "execution_count": 118,
     "metadata": {},
     "output_type": "execute_result"
    }
   ],
   "source": [
    "lemmatiser = nltk.WordNetLemmatizer()\n",
    "[lemmatiser.lemmatize(word) for word in words]"
   ]
  },
  {
   "cell_type": "code",
   "execution_count": 119,
   "id": "e5fe2f00",
   "metadata": {},
   "outputs": [
    {
     "data": {
      "text/plain": [
       "[('i', 'NN'),\n",
       " ('am', 'VBP'),\n",
       " ('gioing', 'VBG'),\n",
       " ('to', 'TO'),\n",
       " ('london.i', 'VB'),\n",
       " ('really', 'RB'),\n",
       " ('like', 'IN'),\n",
       " ('it', 'PRP'),\n",
       " ('there', 'RB'),\n",
       " (',', ','),\n",
       " ('its', 'PRP$'),\n",
       " ('truely', 'RB'),\n",
       " ('magical', 'JJ'),\n",
       " ('.', '.')]"
      ]
     },
     "execution_count": 119,
     "metadata": {},
     "output_type": "execute_result"
    }
   ],
   "source": [
    "nltk.pos_tag(words)"
   ]
  },
  {
   "cell_type": "code",
   "execution_count": null,
   "id": "b0d28506",
   "metadata": {},
   "outputs": [],
   "source": []
  }
 ],
 "metadata": {
  "kernelspec": {
   "display_name": "Python 3",
   "language": "python",
   "name": "python3"
  },
  "language_info": {
   "codemirror_mode": {
    "name": "ipython",
    "version": 3
   },
   "file_extension": ".py",
   "mimetype": "text/x-python",
   "name": "python",
   "nbconvert_exporter": "python",
   "pygments_lexer": "ipython3",
   "version": "3.11.5"
  }
 },
 "nbformat": 4,
 "nbformat_minor": 5
}
